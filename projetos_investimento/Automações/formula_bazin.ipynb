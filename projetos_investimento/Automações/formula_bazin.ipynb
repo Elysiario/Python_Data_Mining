{
 "cells": [
  {
   "cell_type": "code",
   "execution_count": 1,
   "id": "fccf9538",
   "metadata": {},
   "outputs": [
    {
     "data": {
      "text/html": [
       "<div>\n",
       "<style scoped>\n",
       "    .dataframe tbody tr th:only-of-type {\n",
       "        vertical-align: middle;\n",
       "    }\n",
       "\n",
       "    .dataframe tbody tr th {\n",
       "        vertical-align: top;\n",
       "    }\n",
       "\n",
       "    .dataframe thead th {\n",
       "        text-align: right;\n",
       "    }\n",
       "</style>\n",
       "<table border=\"1\" class=\"dataframe\">\n",
       "  <thead>\n",
       "    <tr style=\"text-align: right;\">\n",
       "      <th></th>\n",
       "      <th>RELATÓRIO</th>\n",
       "    </tr>\n",
       "  </thead>\n",
       "  <tbody>\n",
       "    <tr>\n",
       "      <th>0</th>\n",
       "      <td>O último dividendo do ABCB4 foi de R$0,37 por ...</td>\n",
       "    </tr>\n",
       "    <tr>\n",
       "      <th>1</th>\n",
       "      <td>O último dividendo do ALUP11 foi de R$0,12 por...</td>\n",
       "    </tr>\n",
       "    <tr>\n",
       "      <th>2</th>\n",
       "      <td>O último dividendo do CMIG3 foi de R$0,45 por ...</td>\n",
       "    </tr>\n",
       "    <tr>\n",
       "      <th>3</th>\n",
       "      <td>O último dividendo do CMIG4 foi de R$0,45 por ...</td>\n",
       "    </tr>\n",
       "    <tr>\n",
       "      <th>4</th>\n",
       "      <td>O último dividendo do JBSS3 foi de R$1,00 por ...</td>\n",
       "    </tr>\n",
       "    <tr>\n",
       "      <th>5</th>\n",
       "      <td>O último dividendo do SAPR11 foi de R$1,45 por...</td>\n",
       "    </tr>\n",
       "    <tr>\n",
       "      <th>6</th>\n",
       "      <td>O último dividendo do SAPR4 foi de R$0,30 por ...</td>\n",
       "    </tr>\n",
       "    <tr>\n",
       "      <th>7</th>\n",
       "      <td>O último dividendo do SLCE3 foi de R$2,60 por ...</td>\n",
       "    </tr>\n",
       "    <tr>\n",
       "      <th>8</th>\n",
       "      <td>O último dividendo do VALE3 foi de R$2,12 por ...</td>\n",
       "    </tr>\n",
       "  </tbody>\n",
       "</table>\n",
       "</div>"
      ],
      "text/plain": [
       "                                           RELATÓRIO\n",
       "0  O último dividendo do ABCB4 foi de R$0,37 por ...\n",
       "1  O último dividendo do ALUP11 foi de R$0,12 por...\n",
       "2  O último dividendo do CMIG3 foi de R$0,45 por ...\n",
       "3  O último dividendo do CMIG4 foi de R$0,45 por ...\n",
       "4  O último dividendo do JBSS3 foi de R$1,00 por ...\n",
       "5  O último dividendo do SAPR11 foi de R$1,45 por...\n",
       "6  O último dividendo do SAPR4 foi de R$0,30 por ...\n",
       "7  O último dividendo do SLCE3 foi de R$2,60 por ...\n",
       "8  O último dividendo do VALE3 foi de R$2,12 por ..."
      ]
     },
     "metadata": {},
     "output_type": "display_data"
    }
   ],
   "source": [
    "from selenium import webdriver\n",
    "from time import sleep as sl\n",
    "import pandas as pd\n",
    "import pyautogui as py\n",
    "\n",
    "df = pd.read_excel('melhores_ações_julho.xlsx')\n",
    "#planilha em excel adquirida por meio do site statusinvest, no qual nos fornece-a gratuitamente \n",
    "display(df)\n",
    "# df será a variável que terá nosso DataFrame\n"
   ]
  },
  {
   "cell_type": "code",
   "execution_count": null,
   "id": "5c7e45be",
   "metadata": {},
   "outputs": [],
   "source": [
    "navegador = webdriver.Chrome()\n",
    "navegador.get('https://www.google.com')\n",
    "link = 'https://statusinvest.com.br/'\n",
    "navegador.get(link)\n",
    "print(link)\n",
    "#as funcões acima servem para o selenium entrar no site statusinvest, onde tiraremos nossas informações\n",
    "\n",
    "py.keyDown('win')\n",
    "py.press('up')\n",
    "py.keyUp('win')\n",
    "\n",
    "nome = []\n",
    "lpa = []\n",
    "vpa = []\n",
    "\n",
    "\n",
    "for c in df['SETOR']:\n",
    "    #Looping 'for' para pegar cada ticker(código) das ações no DataFrame \n",
    "    nome.append(c)\n",
    "    navegador.find_element('xpath', '//*[@id=\"main-nav-nav\"]/div/div/div/ul/li[2]/a/i').click()\n",
    "    navegador.find_element('xpath', '//*[@id=\"main-search\"]/div[1]/span[1]/input[2]').send_keys(c)\n",
    "    try:\n",
    "        sl(2)\n",
    "        navegador.find_element('xpath', '//*[@id=\"main-search\"]/div[2]/div/div/a').click()\n",
    "    except:\n",
    "        sl(2.5)\n",
    "        navegador.find_element('xpath', '//*[@id=\"main-search\"]/div[2]/div/div/a').click()\n",
    "    lpa.append(navegador.find_element('xpath', '//*[@id=\"indicators-section\"]/div[2]/div/div[1]/div/div[11]/div/div/strong').text)   \n",
    "    vpa.append(navegador.find_element('xpath', '//*[@id=\"indicators-section\"]/div[2]/div/div[1]/div/div[9]/div/div/strong').text)"
   ]
  },
  {
   "cell_type": "code",
   "execution_count": null,
   "id": "c60c4ff4",
   "metadata": {},
   "outputs": [],
   "source": [
    "df = pd.DataFrame(zip(nome,lpa,vpa), columns=['CÓDIGO','LPA', 'VPA'])\n",
    "\n",
    "display(df)"
   ]
  }
 ],
 "metadata": {
  "kernelspec": {
   "display_name": "Python 3",
   "language": "python",
   "name": "python3"
  },
  "language_info": {
   "codemirror_mode": {
    "name": "ipython",
    "version": 3
   },
   "file_extension": ".py",
   "mimetype": "text/x-python",
   "name": "python",
   "nbconvert_exporter": "python",
   "pygments_lexer": "ipython3",
   "version": "3.8.8"
  }
 },
 "nbformat": 4,
 "nbformat_minor": 5
}
