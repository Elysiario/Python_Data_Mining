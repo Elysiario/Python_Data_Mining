{
 "cells": [
  {
   "cell_type": "markdown",
   "id": "a9aa5bc1",
   "metadata": {},
   "source": [
    "## Projeto de Data Mining - Análise de Investimentos em ações e fundos do mercado Brasileiro"
   ]
  },
  {
   "cell_type": "code",
   "execution_count": 1,
   "id": "ae2cf54c",
   "metadata": {},
   "outputs": [
    {
     "data": {
      "text/plain": [
       "\"#código automação ações part 1\\nfrom selenium import webdriver\\nfrom time import sleep as sl\\nimport pandas as pd\\nimport pyautogui as py\\n#a biblioteca selenium fará a parte da automação juntamente com a biblioteca pyautogui\\n\\n#a biblioteca sleep faz o código ter um delay, é útil para quando um site demora para carregar, já que esse delay pode nos \\n#prevenir de erros desnecessários do programa por causa dessa demora\\n\\n#a biblioteca pandas nos serviu na criação de DataFrames e na leitura de arquivos em excel pelo python\\n\\ndf = pd.read_excel('statusinvest-busca_acoes.xlsx')\\n#planilha em excel adquirida por meio do site statusinvest, no qual nos fornece-a gratuitamente \\ndisplay(df)\\n# df será a variável que terá nosso DataFrame\""
      ]
     },
     "execution_count": 1,
     "metadata": {},
     "output_type": "execute_result"
    }
   ],
   "source": [
    "# Entendemos que o dataset estava inconpleto e optamos por criar uma automação para buscar as seguintes informações, através de web scrapping:\n",
    "# 'CÓDIGO', 'TIPO', 'SETOR', 'COTAÇÃO ATUAL', 'MÍNIMA', 'MÁXIMA', 'D/Y', 'LIQ.DIÁRIA', 'P/VP', 'CAGR LUCRO', 'PATRIMÔNIO LÍQUIDO', 'CAIXA', 'LUCRO'])\n",
    "\n",
    "'''#código automação ações part 1\n",
    "from selenium import webdriver\n",
    "from time import sleep as sl\n",
    "import pandas as pd\n",
    "import pyautogui as py\n",
    "#a biblioteca selenium fará a parte da automação juntamente com a biblioteca pyautogui\n",
    "\n",
    "#a biblioteca sleep faz o código ter um delay, é útil para quando um site demora para carregar, já que esse delay pode nos \n",
    "#prevenir de erros desnecessários do programa por causa dessa demora\n",
    "\n",
    "#a biblioteca pandas nos serviu na criação de DataFrames e na leitura de arquivos em excel pelo python\n",
    "\n",
    "df = pd.read_excel('statusinvest-busca_acoes.xlsx')\n",
    "#planilha em excel adquirida por meio do site statusinvest, no qual nos fornece-a gratuitamente \n",
    "display(df)\n",
    "# df será a variável que terá nosso DataFrame'''\n"
   ]
  },
  {
   "cell_type": "code",
   "execution_count": 2,
   "id": "6fde80f2",
   "metadata": {},
   "outputs": [
    {
     "data": {
      "text/plain": [
       "'#código automação ações part 2\\n#AÇÕES\\nnavegador = webdriver.Chrome()\\nnavegador.get(\\'https://www.google.com\\')\\nlink = \\'https://statusinvest.com.br/\\'\\nnavegador.get(link)\\nprint(link)\\n#as funcões acima servem para o selenium entrar no site statusinvest, onde tiraremos nossas informações\\n\\npy.keyDown(\\'win\\')\\npy.press(\\'up\\')\\npy.keyUp(\\'win\\')\\n\\nnome = []\\nsetor = []\\ncot_atual = []\\ndy = []\\npvp  = []\\ncagr = []\\nliqdia = []\\ncaixa = []\\nmaxima = []\\nminima = []\\npatliq = []\\ntipo = []\\nlucro = []\\n#estas listas acima são todas as informações que pegaremos do site, nas quais serão transformadas em um DataFrame depois\\n\\nfor c in df[\\'TICKER\\']:\\n    #Looping \\'for\\' para pegar cada ticker(código) das ações no DataFrame \\n    nome.append(c)\\n    navegador.find_element(\\'xpath\\', \\'//*[@id=\"main-nav-nav\"]/div/div/div/ul/li[2]/a/i\\').click()\\n    navegador.find_element(\\'xpath\\', \\'//*[@id=\"main-search\"]/div[1]/span[1]/input[2]\\').send_keys(c)\\n    try:\\n        sl(3.5)\\n        navegador.find_element(\\'xpath\\', \\'//*[@id=\"main-search\"]/div[2]/div/div/a\\').click()\\n    except:\\n        sl(2)\\n        navegador.find_element(\\'xpath\\', \\'//*[@id=\"main-search\"]/div[2]/div/div/a\\').click()\\n        \\n    #tratamento de erro usado aqui para prevenir erros enquanto o programa está funcionando, se houver um \\n    #erro o progresso será pausado\\n    \\n    sl(1)\\n    tipo.append(navegador.find_element(\\'xpath\\', \\'//*[@id=\"main-header\"]/div[2]/div/div[1]/div/ol/li[2]/a/span\\').text)\\n    cot_atual.append(navegador.find_element(\\'xpath\\', \\'//*[@id=\"main-2\"]/div[2]/div/div[1]/div/div[1]/div/div[1]/strong\\').text)\\n    maxima.append(navegador.find_element(\\'xpath\\', \\'//*[@id=\"main-2\"]/div[2]/div/div[1]/div/div[3]/div/div[1]/strong\\').text)\\n    minima.append(navegador.find_element(\\'xpath\\', \\'//*[@id=\"main-2\"]/div[2]/div/div[1]/div/div[2]/div/div[1]/strong\\').text)\\n    dy.append(navegador.find_element(\\'xpath\\', \\'//*[@id=\"main-2\"]/div[2]/div/div[1]/div/div[4]/div/div[1]/strong\\').text)\\n    \\n    py.scroll(-1000)\\n    sl(0.5)\\n    liqdia.append(navegador.find_element(\\'xpath\\', \\'//*[@id=\"main-2\"]/div[2]/div/div[5]/div/div/div[3]/div/div/div/strong\\').text)\\n    py.scroll(-900)\\n    sl(0.5)\\n    pvp.append(navegador.find_element(\\'xpath\\', \\'//*[@id=\"indicators-section\"]/div[2]/div/div[1]/div/div[4]/div/div/strong\\').text)\\n    cagr.append(navegador.find_element(\\'xpath\\', \\'//*[@id=\"indicators-section\"]/div[2]/div/div[5]/div/div[2]/div/div/strong\\').text)\\n    \\n    navegador.find_element(\\'xpath\\', \\'//*[@id=\"main-2\"]/div[1]/div/div/ul/li[2]/a\\').click()\\n    sl(0.5)\\n    py.scroll(-500)\\n    sl(0.5)\\n    patliq.append(navegador.find_element(\\'xpath\\', \\'//*[@id=\"company-section\"]/div[1]/div/div[2]/div[1]/div/div/strong\\').text)\\n    setor.append(navegador.find_element(\\'xpath\\', \\'//*[@id=\"company-section\"]/div[1]/div/div[3]/div/div[1]/div/div/div/a/strong\\').text)\\n    \\n    navegador.find_element(\\'xpath\\', \\'//*[@id=\"main-2\"]/div[1]/div/div/ul/li[3]/a\\').click()\\n    sl(1)\\n    py.scroll(-1300)\\n    sl(1)\\n    try:\\n        caixa.append(navegador.find_element(\\'xpath\\', \\'//*[@id=\"contabil-section\"]/div[1]/div/div[3]/div[1]/div[1]/table/tbody/tr[1]/td[2]/span\\').text)\\n        lucro.append(navegador.find_element(\\'xpath\\', \\'//*[@id=\"contabil-section\"]/div[1]/div/div[3]/div[1]/div[1]/table/tbody/tr[3]/td[2]/span\\').text)\\n    except:\\n        sl(1.5)\\n        caixa.append(navegador.find_element(\\'xpath\\', \\'//*[@id=\"contabil-section\"]/div[1]/div/div[3]/div[1]/div[1]/table/tbody/tr[1]/td[2]/span\\').text)\\n        lucro.append(navegador.find_element(\\'xpath\\', \\'//*[@id=\"contabil-section\"]/div[1]/div/div[3]/div[1]/div[1]/table/tbody/tr[3]/td[2]/span\\').text)\\n  \\n    #funções da biblioteca selenium para pegar informações do site e colocá-las em suas respectivas listas \\n    #(por isso usei a função append também)'"
      ]
     },
     "execution_count": 2,
     "metadata": {},
     "output_type": "execute_result"
    }
   ],
   "source": [
    "'''#código automação ações part 2\n",
    "#AÇÕES\n",
    "navegador = webdriver.Chrome()\n",
    "navegador.get('https://www.google.com')\n",
    "link = 'https://statusinvest.com.br/'\n",
    "navegador.get(link)\n",
    "print(link)\n",
    "#as funcões acima servem para o selenium entrar no site statusinvest, onde tiraremos nossas informações\n",
    "\n",
    "py.keyDown('win')\n",
    "py.press('up')\n",
    "py.keyUp('win')\n",
    "\n",
    "nome = []\n",
    "setor = []\n",
    "cot_atual = []\n",
    "dy = []\n",
    "pvp  = []\n",
    "cagr = []\n",
    "liqdia = []\n",
    "caixa = []\n",
    "maxima = []\n",
    "minima = []\n",
    "patliq = []\n",
    "tipo = []\n",
    "lucro = []\n",
    "#estas listas acima são todas as informações que pegaremos do site, nas quais serão transformadas em um DataFrame depois\n",
    "\n",
    "for c in df['TICKER']:\n",
    "    #Looping 'for' para pegar cada ticker(código) das ações no DataFrame \n",
    "    nome.append(c)\n",
    "    navegador.find_element('xpath', '//*[@id=\"main-nav-nav\"]/div/div/div/ul/li[2]/a/i').click()\n",
    "    navegador.find_element('xpath', '//*[@id=\"main-search\"]/div[1]/span[1]/input[2]').send_keys(c)\n",
    "    try:\n",
    "        sl(3.5)\n",
    "        navegador.find_element('xpath', '//*[@id=\"main-search\"]/div[2]/div/div/a').click()\n",
    "    except:\n",
    "        sl(2)\n",
    "        navegador.find_element('xpath', '//*[@id=\"main-search\"]/div[2]/div/div/a').click()\n",
    "        \n",
    "    #tratamento de erro usado aqui para prevenir erros enquanto o programa está funcionando, se houver um \n",
    "    #erro o progresso será pausado\n",
    "    \n",
    "    sl(1)\n",
    "    tipo.append(navegador.find_element('xpath', '//*[@id=\"main-header\"]/div[2]/div/div[1]/div/ol/li[2]/a/span').text)\n",
    "    cot_atual.append(navegador.find_element('xpath', '//*[@id=\"main-2\"]/div[2]/div/div[1]/div/div[1]/div/div[1]/strong').text)\n",
    "    maxima.append(navegador.find_element('xpath', '//*[@id=\"main-2\"]/div[2]/div/div[1]/div/div[3]/div/div[1]/strong').text)\n",
    "    minima.append(navegador.find_element('xpath', '//*[@id=\"main-2\"]/div[2]/div/div[1]/div/div[2]/div/div[1]/strong').text)\n",
    "    dy.append(navegador.find_element('xpath', '//*[@id=\"main-2\"]/div[2]/div/div[1]/div/div[4]/div/div[1]/strong').text)\n",
    "    \n",
    "    py.scroll(-1000)\n",
    "    sl(0.5)\n",
    "    liqdia.append(navegador.find_element('xpath', '//*[@id=\"main-2\"]/div[2]/div/div[5]/div/div/div[3]/div/div/div/strong').text)\n",
    "    py.scroll(-900)\n",
    "    sl(0.5)\n",
    "    pvp.append(navegador.find_element('xpath', '//*[@id=\"indicators-section\"]/div[2]/div/div[1]/div/div[4]/div/div/strong').text)\n",
    "    cagr.append(navegador.find_element('xpath', '//*[@id=\"indicators-section\"]/div[2]/div/div[5]/div/div[2]/div/div/strong').text)\n",
    "    \n",
    "    navegador.find_element('xpath', '//*[@id=\"main-2\"]/div[1]/div/div/ul/li[2]/a').click()\n",
    "    sl(0.5)\n",
    "    py.scroll(-500)\n",
    "    sl(0.5)\n",
    "    patliq.append(navegador.find_element('xpath', '//*[@id=\"company-section\"]/div[1]/div/div[2]/div[1]/div/div/strong').text)\n",
    "    setor.append(navegador.find_element('xpath', '//*[@id=\"company-section\"]/div[1]/div/div[3]/div/div[1]/div/div/div/a/strong').text)\n",
    "    \n",
    "    navegador.find_element('xpath', '//*[@id=\"main-2\"]/div[1]/div/div/ul/li[3]/a').click()\n",
    "    sl(1)\n",
    "    py.scroll(-1300)\n",
    "    sl(1)\n",
    "    try:\n",
    "        caixa.append(navegador.find_element('xpath', '//*[@id=\"contabil-section\"]/div[1]/div/div[3]/div[1]/div[1]/table/tbody/tr[1]/td[2]/span').text)\n",
    "        lucro.append(navegador.find_element('xpath', '//*[@id=\"contabil-section\"]/div[1]/div/div[3]/div[1]/div[1]/table/tbody/tr[3]/td[2]/span').text)\n",
    "    except:\n",
    "        sl(1.5)\n",
    "        caixa.append(navegador.find_element('xpath', '//*[@id=\"contabil-section\"]/div[1]/div/div[3]/div[1]/div[1]/table/tbody/tr[1]/td[2]/span').text)\n",
    "        lucro.append(navegador.find_element('xpath', '//*[@id=\"contabil-section\"]/div[1]/div/div[3]/div[1]/div[1]/table/tbody/tr[3]/td[2]/span').text)\n",
    "  \n",
    "    #funções da biblioteca selenium para pegar informações do site e colocá-las em suas respectivas listas \n",
    "    #(por isso usei a função append também)'''"
   ]
  },
  {
   "cell_type": "code",
   "execution_count": 3,
   "id": "e0576448",
   "metadata": {},
   "outputs": [
    {
     "data": {
      "text/plain": [
       "\"#código automação ações part 3\\ndf = pd.DataFrame(zip(nome, tipo, setor, cot_atual, minima, maxima, dy, liqdia, pvp, cagr, patliq, caixa, lucro), columns=['CÓDIGO', 'TIPO', 'SETOR', 'COTAÇÃO ATUAL', 'MÍNIMA', 'MÁXIMA', 'D/Y', 'LIQ.DIÁRIA', 'P/VP', 'CAGR LUCRO', 'PATRIMÔNIO LÍQUIDO', 'CAIXA', 'LUCRO'])\\ndisplay(df)\\n#função da biblioteca pandas para transformar listas em DataFrames \\n\\ndf.to_excel('Análise_ações.xlsx')\\n#exportação do DataFrame em formato excel\""
      ]
     },
     "execution_count": 3,
     "metadata": {},
     "output_type": "execute_result"
    }
   ],
   "source": [
    "'''#código automação ações part 3\n",
    "df = pd.DataFrame(zip(nome, tipo, setor, cot_atual, minima, maxima, dy, liqdia, pvp, cagr, patliq, caixa, lucro), columns=['CÓDIGO', 'TIPO', 'SETOR', 'COTAÇÃO ATUAL', 'MÍNIMA', 'MÁXIMA', 'D/Y', 'LIQ.DIÁRIA', 'P/VP', 'CAGR LUCRO', 'PATRIMÔNIO LÍQUIDO', 'CAIXA', 'LUCRO'])\n",
    "display(df)\n",
    "#função da biblioteca pandas para transformar listas em DataFrames \n",
    "\n",
    "df.to_excel('Análise_ações.xlsx')\n",
    "#exportação do DataFrame em formato excel'''"
   ]
  },
  {
   "cell_type": "code",
   "execution_count": 4,
   "id": "c0caddcf",
   "metadata": {},
   "outputs": [
    {
     "data": {
      "text/plain": [
       "\"#código automação fundos part 1\\n\\n#FUNDOS\\ndf2 = pd.read_excel('fundos_junho.xlsx')\\n#planilha em excel adquirida por meio do projeto em python abaixo\\n\\ndf2 = df2.drop(['Unnamed: 0'], axis=1)\\ndisplay(df2)\\n# df2 será a variável que terá nosso DataFrame\""
      ]
     },
     "execution_count": 4,
     "metadata": {},
     "output_type": "execute_result"
    }
   ],
   "source": [
    "'''#código automação fundos part 1\n",
    "\n",
    "#FUNDOS\n",
    "df2 = pd.read_excel('fundos_junho.xlsx')\n",
    "#planilha em excel adquirida por meio do projeto em python abaixo\n",
    "\n",
    "df2 = df2.drop(['Unnamed: 0'], axis=1)\n",
    "display(df2)\n",
    "# df2 será a variável que terá nosso DataFrame'''"
   ]
  },
  {
   "cell_type": "code",
   "execution_count": 5,
   "id": "c348a5ec",
   "metadata": {},
   "outputs": [
    {
     "data": {
      "text/plain": [
       "'#código automação fundos part 2 \\n\\nnavegador = webdriver.Chrome()\\nnavegador.get(\\'https://www.google.com\\')\\nlink = \\'https://statusinvest.com.br/\\'\\nnavegador.get(link)\\nprint(link)\\n#as funcões acima servem para o selenium entrar no site statusinvest, onde tiraremos nossas informações\\n\\npy.keyDown(\\'win\\')\\npy.press(\\'up\\')\\npy.keyUp(\\'win\\')\\n\\ncodigo = []\\nsetor = []\\ntipo = []\\nmaxima = []\\nminima = []\\ncot_atual = []\\ndy = []\\nliq_dia = []\\npatrim = []\\ncaixa = []\\ncagr = []\\npvp = []\\n#estas listas acima são todas as informações que pegaremos do site, nas quais serão transformadas em um DataFrame depois\\n\\nfor c in df2[\\'TICKER\\']:\\n    #Looping \\'for\\' para pegar cada ticker(código) das ações no DataFrame\\n    codigo.append(c)\\n    navegador.find_element(\\'xpath\\', \\'//*[@id=\"main-nav-nav\"]/div/div/div/ul/li[2]/a/i\\').click()\\n    navegador.find_element(\\'xpath\\', \\'//*[@id=\"main-search\"]/div[1]/span[1]/input[2]\\').send_keys(c)\\n    try:\\n        sl(3)\\n        navegador.find_element(\\'xpath\\', \\'//*[@id=\"main-search\"]/div[2]/div/div/a\\').click()\\n        \\n    except:\\n        sl(2)\\n        navegador.find_element(\\'xpath\\', \\'//*[@id=\"main-search\"]/div[2]/div/div/a\\').click()\\n    #tratamento de erro usado aqui para prevenir erros enquanto o programa está funcionando, se houver um \\n    #erro o progresso será pausado\\n        \\n    tipo.append(navegador.find_element(\\'xpath\\', \\'//*[@id=\"main-header\"]/div[2]/div/div[1]/div/ol/li[2]/a/span\\').text)\\n    \\n    cot_atual.append(navegador.find_element(\\'xpath\\', \\'//*[@id=\"main-2\"]/div[2]/div[1]/div[1]/div/div[1]/strong\\').text)\\n    \\n    maxima.append(navegador.find_element(\\'xpath\\', \\'//*[@id=\"main-2\"]/div[2]/div[1]/div[3]/div/div[1]/strong\\').text)\\n    #                                              //*[@id=\"main-2\"]/div[2]/div[1]/div[3]/div/div[1]/strong\\n    \\n    minima.append(navegador.find_element(\\'xpath\\', \\'//*[@id=\"main-2\"]/div[2]/div[1]/div[2]/div/div[1]/strong\\').text)\\n    \\n    dy.append(navegador.find_element(\\'xpath\\', \\'//*[@id=\"main-2\"]/div[2]/div[1]/div[4]/div/div[1]/strong\\').text)\\n    \\n    py.scroll(-1200)\\n    sl(0.5)\\n    try:\\n        pvp.append(navegador.find_element(\\'xpath\\', \\'//*[@id=\"main-2\"]/div[2]/div[4]/div/div[2]/div/div[1]/strong\\').text)\\n    except:\\n        pvp.append(navegador.find_element(\\'xpath\\', \\'//*[@id=\"main-2\"]/div[2]/div[5]/div/div[2]/div/div[1]/strong\\').text)                                          \\n    \\n    try:\\n        patrim.append(navegador.find_element(\\'xpath\\', \\'//*[@id=\"main-2\"]/div[2]/div[4]/div/div[1]/div/div[2]/span[2]\\').text)\\n    except:\\n        patrim.append(navegador.find_element(\\'xpath\\', \\'//*[@id=\"main-2\"]/div[2]/div[5]/div/div[1]/div/div[2]/span[2]\\').text)\\n    try:  \\n        caixa.append(navegador.find_element(\\'xpath\\', \\'//*[@id=\"main-2\"]/div[2]/div[4]/div/div[2]/div/div[2]/span[2]\\').text)\\n    except:\\n        caixa.append(navegador.find_element(\\'xpath\\', \\'//*[@id=\"main-2\"]/div[2]/div[5]/div/div[2]/div/div[2]/span[2]\\').text)\\n    try:    \\n        cagr.append(navegador.find_element(\\'xpath\\', \\'//*[@id=\"main-2\"]/div[2]/div[4]/div/div[5]/div/div[1]/strong\\').text)\\n    except:\\n        cagr.append(navegador.find_element(\\'xpath\\', \\'//*[@id=\"main-2\"]/div[2]/div[5]/div/div[5]/div/div[1]/strong\\').text)\\n    try:    \\n        liq_dia.append(navegador.find_element(\\'xpath\\', \\'//*[@id=\"main-2\"]/div[2]/div[6]/div/div/div[3]/div/div/div/strong\\').text)\\n    except:\\n        liq_dia.append(navegador.find_element(\\'xpath\\', \\'//*[@id=\"main-2\"]/div[2]/div[5]/div/div/div[3]/div/div/div/strong\\').text)\\n        \\n    navegador.find_element(\\'xpath\\', \\'//*[@id=\"main-2\"]/div[1]/div/div/ul/li[2]/a\\').click()\\n    sl(0.5)\\n    py.scroll(-250)\\n    sl(0.3)\\n    try:\\n        setor.append(navegador.find_element(\\'xpath\\', \\'//*[@id=\"fund-section\"]/div/div/div[4]/div/div[1]/div/div/div/a/strong\\').text)\\n    except:                                           \\n        setor.append(navegador.find_element(\\'xpath\\', \\'//*[@id=\"fund-section\"]/div/div/div[5]/div/div[1]/div/div/div/a/strong\\').text)\\n    #funções da biblioteca selenium para pegar informações do site e colocá-las em suas respectivas listas \\n    #(por isso usei a função append também)'"
      ]
     },
     "execution_count": 5,
     "metadata": {},
     "output_type": "execute_result"
    }
   ],
   "source": [
    "'''#código automação fundos part 2 \n",
    "\n",
    "navegador = webdriver.Chrome()\n",
    "navegador.get('https://www.google.com')\n",
    "link = 'https://statusinvest.com.br/'\n",
    "navegador.get(link)\n",
    "print(link)\n",
    "#as funcões acima servem para o selenium entrar no site statusinvest, onde tiraremos nossas informações\n",
    "\n",
    "py.keyDown('win')\n",
    "py.press('up')\n",
    "py.keyUp('win')\n",
    "\n",
    "codigo = []\n",
    "setor = []\n",
    "tipo = []\n",
    "maxima = []\n",
    "minima = []\n",
    "cot_atual = []\n",
    "dy = []\n",
    "liq_dia = []\n",
    "patrim = []\n",
    "caixa = []\n",
    "cagr = []\n",
    "pvp = []\n",
    "#estas listas acima são todas as informações que pegaremos do site, nas quais serão transformadas em um DataFrame depois\n",
    "\n",
    "for c in df2['TICKER']:\n",
    "    #Looping 'for' para pegar cada ticker(código) das ações no DataFrame\n",
    "    codigo.append(c)\n",
    "    navegador.find_element('xpath', '//*[@id=\"main-nav-nav\"]/div/div/div/ul/li[2]/a/i').click()\n",
    "    navegador.find_element('xpath', '//*[@id=\"main-search\"]/div[1]/span[1]/input[2]').send_keys(c)\n",
    "    try:\n",
    "        sl(3)\n",
    "        navegador.find_element('xpath', '//*[@id=\"main-search\"]/div[2]/div/div/a').click()\n",
    "        \n",
    "    except:\n",
    "        sl(2)\n",
    "        navegador.find_element('xpath', '//*[@id=\"main-search\"]/div[2]/div/div/a').click()\n",
    "    #tratamento de erro usado aqui para prevenir erros enquanto o programa está funcionando, se houver um \n",
    "    #erro o progresso será pausado\n",
    "        \n",
    "    tipo.append(navegador.find_element('xpath', '//*[@id=\"main-header\"]/div[2]/div/div[1]/div/ol/li[2]/a/span').text)\n",
    "    \n",
    "    cot_atual.append(navegador.find_element('xpath', '//*[@id=\"main-2\"]/div[2]/div[1]/div[1]/div/div[1]/strong').text)\n",
    "    \n",
    "    maxima.append(navegador.find_element('xpath', '//*[@id=\"main-2\"]/div[2]/div[1]/div[3]/div/div[1]/strong').text)\n",
    "    #                                              //*[@id=\"main-2\"]/div[2]/div[1]/div[3]/div/div[1]/strong\n",
    "    \n",
    "    minima.append(navegador.find_element('xpath', '//*[@id=\"main-2\"]/div[2]/div[1]/div[2]/div/div[1]/strong').text)\n",
    "    \n",
    "    dy.append(navegador.find_element('xpath', '//*[@id=\"main-2\"]/div[2]/div[1]/div[4]/div/div[1]/strong').text)\n",
    "    \n",
    "    py.scroll(-1200)\n",
    "    sl(0.5)\n",
    "    try:\n",
    "        pvp.append(navegador.find_element('xpath', '//*[@id=\"main-2\"]/div[2]/div[4]/div/div[2]/div/div[1]/strong').text)\n",
    "    except:\n",
    "        pvp.append(navegador.find_element('xpath', '//*[@id=\"main-2\"]/div[2]/div[5]/div/div[2]/div/div[1]/strong').text)                                          \n",
    "    \n",
    "    try:\n",
    "        patrim.append(navegador.find_element('xpath', '//*[@id=\"main-2\"]/div[2]/div[4]/div/div[1]/div/div[2]/span[2]').text)\n",
    "    except:\n",
    "        patrim.append(navegador.find_element('xpath', '//*[@id=\"main-2\"]/div[2]/div[5]/div/div[1]/div/div[2]/span[2]').text)\n",
    "    try:  \n",
    "        caixa.append(navegador.find_element('xpath', '//*[@id=\"main-2\"]/div[2]/div[4]/div/div[2]/div/div[2]/span[2]').text)\n",
    "    except:\n",
    "        caixa.append(navegador.find_element('xpath', '//*[@id=\"main-2\"]/div[2]/div[5]/div/div[2]/div/div[2]/span[2]').text)\n",
    "    try:    \n",
    "        cagr.append(navegador.find_element('xpath', '//*[@id=\"main-2\"]/div[2]/div[4]/div/div[5]/div/div[1]/strong').text)\n",
    "    except:\n",
    "        cagr.append(navegador.find_element('xpath', '//*[@id=\"main-2\"]/div[2]/div[5]/div/div[5]/div/div[1]/strong').text)\n",
    "    try:    \n",
    "        liq_dia.append(navegador.find_element('xpath', '//*[@id=\"main-2\"]/div[2]/div[6]/div/div/div[3]/div/div/div/strong').text)\n",
    "    except:\n",
    "        liq_dia.append(navegador.find_element('xpath', '//*[@id=\"main-2\"]/div[2]/div[5]/div/div/div[3]/div/div/div/strong').text)\n",
    "        \n",
    "    navegador.find_element('xpath', '//*[@id=\"main-2\"]/div[1]/div/div/ul/li[2]/a').click()\n",
    "    sl(0.5)\n",
    "    py.scroll(-250)\n",
    "    sl(0.3)\n",
    "    try:\n",
    "        setor.append(navegador.find_element('xpath', '//*[@id=\"fund-section\"]/div/div/div[4]/div/div[1]/div/div/div/a/strong').text)\n",
    "    except:                                           \n",
    "        setor.append(navegador.find_element('xpath', '//*[@id=\"fund-section\"]/div/div/div[5]/div/div[1]/div/div/div/a/strong').text)\n",
    "    #funções da biblioteca selenium para pegar informações do site e colocá-las em suas respectivas listas \n",
    "    #(por isso usei a função append também)'''"
   ]
  },
  {
   "cell_type": "code",
   "execution_count": 6,
   "id": "d936de5b",
   "metadata": {},
   "outputs": [],
   "source": [
    "###########################################################################################################################"
   ]
  },
  {
   "cell_type": "code",
   "execution_count": 7,
   "id": "250cc6c4",
   "metadata": {},
   "outputs": [],
   "source": [
    "###########################################################################################################################"
   ]
  },
  {
   "cell_type": "code",
   "execution_count": 8,
   "id": "78ddadbc",
   "metadata": {},
   "outputs": [
    {
     "name": "stderr",
     "output_type": "stream",
     "text": [
      "<ipython-input-8-c0d015d5854e>:5: DeprecationWarning: `import pandas_profiling` is going to be deprecated by April 1st. Please use `import ydata_profiling` instead.\n",
      "  import pandas_profiling as pdpf\n"
     ]
    }
   ],
   "source": [
    " ##Importar bibliotecas necessárias para a realização do projeto\n",
    "\n",
    "import pandas as pd\n",
    "import numpy as np\n",
    "import pandas_profiling as pdpf\n",
    "from pandas_profiling import ProfileReport\n",
    "import matplotlib.pyplot as plt\n",
    "import sklearn as skl\n",
    "import seaborn as sns\n",
    "from sklearn.model_selection import train_test_split\n",
    "from sklearn.tree import DecisionTreeClassifier\n",
    "from sklearn.linear_model import LinearRegression\n",
    "from sklearn.metrics import mean_squared_error\n",
    "#!pip install kmodes\n"
   ]
  },
  {
   "cell_type": "code",
   "execution_count": 9,
   "id": "e4de4f68",
   "metadata": {
    "scrolled": true
   },
   "outputs": [],
   "source": [
    "# Erro ao tentar abrir o arquivo em csv\n",
    "# ParserError: Error tokenizing data. C error: Expected 5 fields in line 3, saw 7\n",
    "#df=pd.read_csv('projeto_dm.csv')"
   ]
  },
  {
   "cell_type": "code",
   "execution_count": 10,
   "id": "6a7d3365-66ce-41f7-be89-91d66e509ba6",
   "metadata": {
    "scrolled": true
   },
   "outputs": [],
   "source": [
    "# Abrir o arquivo no formato excel, devido a erro no formato csv\n",
    "dfx = pd.read_excel('ações_e_fundos_julho.xlsx')\n",
    "#PROJETO DM é um arquivo com a junção dos DataFrames dos fundos e das ações"
   ]
  },
  {
   "cell_type": "code",
   "execution_count": 11,
   "id": "7b447d6a-6b99-444a-a14e-d72aa1875695",
   "metadata": {},
   "outputs": [
    {
     "data": {
      "text/plain": [
       "(1036, 13)"
      ]
     },
     "execution_count": 11,
     "metadata": {},
     "output_type": "execute_result"
    }
   ],
   "source": [
    "#Verificar as dimensões do data set\n",
    "dfx.shape"
   ]
  },
  {
   "cell_type": "code",
   "execution_count": 12,
   "id": "d275d4a7-08e6-47fb-a862-4dff76143e08",
   "metadata": {},
   "outputs": [
    {
     "data": {
      "text/html": [
       "<div>\n",
       "<style scoped>\n",
       "    .dataframe tbody tr th:only-of-type {\n",
       "        vertical-align: middle;\n",
       "    }\n",
       "\n",
       "    .dataframe tbody tr th {\n",
       "        vertical-align: top;\n",
       "    }\n",
       "\n",
       "    .dataframe thead th {\n",
       "        text-align: right;\n",
       "    }\n",
       "</style>\n",
       "<table border=\"1\" class=\"dataframe\">\n",
       "  <thead>\n",
       "    <tr style=\"text-align: right;\">\n",
       "      <th></th>\n",
       "      <th>SETOR</th>\n",
       "      <th>TIPO</th>\n",
       "      <th>SETOR.1</th>\n",
       "      <th>COTAÇÃO ATUAL</th>\n",
       "      <th>MINIMO</th>\n",
       "      <th>MAXIMO</th>\n",
       "      <th>DIVIDEND YIELD</th>\n",
       "      <th>LIQUIDEZ DIÁRIA</th>\n",
       "      <th>P/VP</th>\n",
       "      <th>CAGR LUCRO</th>\n",
       "      <th>PATRIMÔNIO LÍQUIDO</th>\n",
       "      <th>CAIXA</th>\n",
       "      <th>LUCRO</th>\n",
       "    </tr>\n",
       "  </thead>\n",
       "  <tbody>\n",
       "    <tr>\n",
       "      <th>0</th>\n",
       "      <td>AALR3</td>\n",
       "      <td>Ação</td>\n",
       "      <td>Saúde</td>\n",
       "      <td>23,84</td>\n",
       "      <td>19,45</td>\n",
       "      <td>23,86</td>\n",
       "      <td>-</td>\n",
       "      <td>6.044.723,81</td>\n",
       "      <td>3,11</td>\n",
       "      <td>-%</td>\n",
       "      <td>906.947.000</td>\n",
       "      <td>187,30 M</td>\n",
       "      <td>-219,24 M</td>\n",
       "    </tr>\n",
       "    <tr>\n",
       "      <th>1</th>\n",
       "      <td>ABCB4</td>\n",
       "      <td>Ação</td>\n",
       "      <td>Financeiro e Outros</td>\n",
       "      <td>18,14</td>\n",
       "      <td>13,85</td>\n",
       "      <td>21,24</td>\n",
       "      <td>8,64</td>\n",
       "      <td>18.507.634,96</td>\n",
       "      <td>0,78</td>\n",
       "      <td>12,65%</td>\n",
       "      <td>5.290.796.000</td>\n",
       "      <td>3.559,27 M</td>\n",
       "      <td>800,23 M</td>\n",
       "    </tr>\n",
       "    <tr>\n",
       "      <th>2</th>\n",
       "      <td>ABEV3</td>\n",
       "      <td>Ação</td>\n",
       "      <td>Consumo não Cíclico</td>\n",
       "      <td>14,85</td>\n",
       "      <td>12,86</td>\n",
       "      <td>16,03</td>\n",
       "      <td>5,13</td>\n",
       "      <td>318.478.051,08</td>\n",
       "      <td>2,75</td>\n",
       "      <td>15,19%</td>\n",
       "      <td>84.999.591.000</td>\n",
       "      <td>20.642,15 M</td>\n",
       "      <td>14.891,29 M</td>\n",
       "    </tr>\n",
       "    <tr>\n",
       "      <th>3</th>\n",
       "      <td>ADHM3</td>\n",
       "      <td>Ação</td>\n",
       "      <td>Saúde</td>\n",
       "      <td>1,56</td>\n",
       "      <td>-</td>\n",
       "      <td>-</td>\n",
       "      <td>-</td>\n",
       "      <td>-</td>\n",
       "      <td>-1,29</td>\n",
       "      <td>-%</td>\n",
       "      <td>-19.776.000</td>\n",
       "      <td>0,16 M</td>\n",
       "      <td>-4,94 M</td>\n",
       "    </tr>\n",
       "    <tr>\n",
       "      <th>4</th>\n",
       "      <td>AERI3</td>\n",
       "      <td>Ação</td>\n",
       "      <td>Bens Industriais</td>\n",
       "      <td>1,36</td>\n",
       "      <td>0,88</td>\n",
       "      <td>3,47</td>\n",
       "      <td>-</td>\n",
       "      <td>9.520.080,65</td>\n",
       "      <td>1,21</td>\n",
       "      <td>-%</td>\n",
       "      <td>862.600.000</td>\n",
       "      <td>-13,30 M</td>\n",
       "      <td>-108,74 M</td>\n",
       "    </tr>\n",
       "    <tr>\n",
       "      <th>5</th>\n",
       "      <td>AESB3</td>\n",
       "      <td>Ação</td>\n",
       "      <td>Utilidade Pública</td>\n",
       "      <td>12,14</td>\n",
       "      <td>9,05</td>\n",
       "      <td>12,69</td>\n",
       "      <td>0,89</td>\n",
       "      <td>20.929.480,88</td>\n",
       "      <td>1,66</td>\n",
       "      <td>-%</td>\n",
       "      <td>4.401.583.000</td>\n",
       "      <td>-1.024,85 M</td>\n",
       "      <td>-</td>\n",
       "    </tr>\n",
       "    <tr>\n",
       "      <th>6</th>\n",
       "      <td>AFLT3</td>\n",
       "      <td>Ação</td>\n",
       "      <td>Utilidade Pública</td>\n",
       "      <td>9,43</td>\n",
       "      <td>8,07</td>\n",
       "      <td>9,80</td>\n",
       "      <td>2,79</td>\n",
       "      <td>5.982,00</td>\n",
       "      <td>2,19</td>\n",
       "      <td>25,66%</td>\n",
       "      <td>271.165.000</td>\n",
       "      <td>20,70 M</td>\n",
       "      <td>37,49 M</td>\n",
       "    </tr>\n",
       "    <tr>\n",
       "      <th>7</th>\n",
       "      <td>AGRO3</td>\n",
       "      <td>Ação</td>\n",
       "      <td>Consumo não Cíclico</td>\n",
       "      <td>25,86</td>\n",
       "      <td>20,04</td>\n",
       "      <td>31,35</td>\n",
       "      <td>12,52</td>\n",
       "      <td>14.443.327,12</td>\n",
       "      <td>1,30</td>\n",
       "      <td>15,83%</td>\n",
       "      <td>2.037.981.000</td>\n",
       "      <td>205,18 M</td>\n",
       "      <td>520,10 M</td>\n",
       "    </tr>\n",
       "    <tr>\n",
       "      <th>8</th>\n",
       "      <td>AGXY3</td>\n",
       "      <td>Ação</td>\n",
       "      <td>Consumo não Cíclico</td>\n",
       "      <td>5,90</td>\n",
       "      <td>5,72</td>\n",
       "      <td>9,91</td>\n",
       "      <td>0,67</td>\n",
       "      <td>550.325,15</td>\n",
       "      <td>0,70</td>\n",
       "      <td>-%</td>\n",
       "      <td>1.442.665.000</td>\n",
       "      <td>-144,11 M</td>\n",
       "      <td>0,00</td>\n",
       "    </tr>\n",
       "    <tr>\n",
       "      <th>9</th>\n",
       "      <td>AHEB3</td>\n",
       "      <td>Ação</td>\n",
       "      <td>Consumo Cíclico</td>\n",
       "      <td>22,09</td>\n",
       "      <td>17,00</td>\n",
       "      <td>30,00</td>\n",
       "      <td>-</td>\n",
       "      <td>3.314,50</td>\n",
       "      <td>26,05</td>\n",
       "      <td>-%</td>\n",
       "      <td>7.244.000</td>\n",
       "      <td>24,86 M</td>\n",
       "      <td>64,73 M</td>\n",
       "    </tr>\n",
       "  </tbody>\n",
       "</table>\n",
       "</div>"
      ],
      "text/plain": [
       "   SETOR  TIPO              SETOR.1 COTAÇÃO ATUAL MINIMO MAXIMO  \\\n",
       "0  AALR3  Ação                Saúde         23,84  19,45  23,86   \n",
       "1  ABCB4  Ação  Financeiro e Outros         18,14  13,85  21,24   \n",
       "2  ABEV3  Ação  Consumo não Cíclico         14,85  12,86  16,03   \n",
       "3  ADHM3  Ação                Saúde          1,56      -      -   \n",
       "4  AERI3  Ação     Bens Industriais          1,36   0,88   3,47   \n",
       "5  AESB3  Ação    Utilidade Pública         12,14   9,05  12,69   \n",
       "6  AFLT3  Ação    Utilidade Pública          9,43   8,07   9,80   \n",
       "7  AGRO3  Ação  Consumo não Cíclico         25,86  20,04  31,35   \n",
       "8  AGXY3  Ação  Consumo não Cíclico          5,90   5,72   9,91   \n",
       "9  AHEB3  Ação      Consumo Cíclico         22,09  17,00  30,00   \n",
       "\n",
       "  DIVIDEND YIELD LIQUIDEZ DIÁRIA   P/VP CAGR LUCRO PATRIMÔNIO LÍQUIDO  \\\n",
       "0              -    6.044.723,81   3,11         -%        906.947.000   \n",
       "1           8,64   18.507.634,96   0,78     12,65%      5.290.796.000   \n",
       "2           5,13  318.478.051,08   2,75     15,19%     84.999.591.000   \n",
       "3              -               -  -1,29         -%        -19.776.000   \n",
       "4              -    9.520.080,65   1,21         -%        862.600.000   \n",
       "5           0,89   20.929.480,88   1,66         -%      4.401.583.000   \n",
       "6           2,79        5.982,00   2,19     25,66%        271.165.000   \n",
       "7          12,52   14.443.327,12   1,30     15,83%      2.037.981.000   \n",
       "8           0,67      550.325,15   0,70         -%      1.442.665.000   \n",
       "9              -        3.314,50  26,05         -%          7.244.000   \n",
       "\n",
       "         CAIXA        LUCRO  \n",
       "0     187,30 M    -219,24 M  \n",
       "1   3.559,27 M     800,23 M  \n",
       "2  20.642,15 M  14.891,29 M  \n",
       "3       0,16 M      -4,94 M  \n",
       "4     -13,30 M    -108,74 M  \n",
       "5  -1.024,85 M            -  \n",
       "6      20,70 M      37,49 M  \n",
       "7     205,18 M     520,10 M  \n",
       "8    -144,11 M         0,00  \n",
       "9      24,86 M      64,73 M  "
      ]
     },
     "execution_count": 12,
     "metadata": {},
     "output_type": "execute_result"
    }
   ],
   "source": [
    "#Verificar o cabeçalho do data set\n",
    "dfx.head(10)"
   ]
  },
  {
   "cell_type": "code",
   "execution_count": 13,
   "id": "d3d5a3b3",
   "metadata": {},
   "outputs": [
    {
     "data": {
      "text/html": [
       "<div>\n",
       "<style scoped>\n",
       "    .dataframe tbody tr th:only-of-type {\n",
       "        vertical-align: middle;\n",
       "    }\n",
       "\n",
       "    .dataframe tbody tr th {\n",
       "        vertical-align: top;\n",
       "    }\n",
       "\n",
       "    .dataframe thead th {\n",
       "        text-align: right;\n",
       "    }\n",
       "</style>\n",
       "<table border=\"1\" class=\"dataframe\">\n",
       "  <thead>\n",
       "    <tr style=\"text-align: right;\">\n",
       "      <th></th>\n",
       "      <th>SETOR</th>\n",
       "      <th>TIPO</th>\n",
       "      <th>SETOR.1</th>\n",
       "      <th>COTAÇÃO ATUAL</th>\n",
       "      <th>MINIMO</th>\n",
       "      <th>MAXIMO</th>\n",
       "      <th>DIVIDEND YIELD</th>\n",
       "      <th>LIQUIDEZ DIÁRIA</th>\n",
       "      <th>P/VP</th>\n",
       "      <th>CAGR LUCRO</th>\n",
       "      <th>PATRIMÔNIO LÍQUIDO</th>\n",
       "      <th>CAIXA</th>\n",
       "      <th>LUCRO</th>\n",
       "    </tr>\n",
       "  </thead>\n",
       "  <tbody>\n",
       "    <tr>\n",
       "      <th>1026</th>\n",
       "      <td>XPHT11</td>\n",
       "      <td>Fundos Imobiliários</td>\n",
       "      <td>Hotéis</td>\n",
       "      <td>125,50</td>\n",
       "      <td>99,11</td>\n",
       "      <td>125,99</td>\n",
       "      <td>12,86</td>\n",
       "      <td>288.776,65</td>\n",
       "      <td>1,27</td>\n",
       "      <td>9,95</td>\n",
       "      <td>R$ 376.512.968</td>\n",
       "      <td>R$ 477.482.571</td>\n",
       "      <td>NaN</td>\n",
       "    </tr>\n",
       "    <tr>\n",
       "      <th>1027</th>\n",
       "      <td>XPHT12</td>\n",
       "      <td>Fundos Imobiliários</td>\n",
       "      <td>Hotéis</td>\n",
       "      <td>32,49</td>\n",
       "      <td>22,22</td>\n",
       "      <td>38,92</td>\n",
       "      <td>0,00</td>\n",
       "      <td>16.547,61</td>\n",
       "      <td>0,33</td>\n",
       "      <td>-</td>\n",
       "      <td>R$ 376.512.968</td>\n",
       "      <td>R$ 123.612.819</td>\n",
       "      <td>NaN</td>\n",
       "    </tr>\n",
       "    <tr>\n",
       "      <th>1028</th>\n",
       "      <td>XPIN11</td>\n",
       "      <td>Fundos Imobiliários</td>\n",
       "      <td>Imóveis Industriais e Logísticos</td>\n",
       "      <td>84,25</td>\n",
       "      <td>67,71</td>\n",
       "      <td>86,70</td>\n",
       "      <td>9,10</td>\n",
       "      <td>484.509,85</td>\n",
       "      <td>0,83</td>\n",
       "      <td>-10,82</td>\n",
       "      <td>R$ 729.955.133</td>\n",
       "      <td>R$ 602.423.054</td>\n",
       "      <td>NaN</td>\n",
       "    </tr>\n",
       "    <tr>\n",
       "      <th>1029</th>\n",
       "      <td>XPLG11</td>\n",
       "      <td>Fundos Imobiliários</td>\n",
       "      <td>Imóveis Industriais e Logísticos</td>\n",
       "      <td>114,17</td>\n",
       "      <td>90,01</td>\n",
       "      <td>114,19</td>\n",
       "      <td>7,80</td>\n",
       "      <td>4.146.962,04</td>\n",
       "      <td>1,01</td>\n",
       "      <td>-2,98</td>\n",
       "      <td>R$ 3.073.592.159</td>\n",
       "      <td>R$ 3.094.128.134</td>\n",
       "      <td>NaN</td>\n",
       "    </tr>\n",
       "    <tr>\n",
       "      <th>1030</th>\n",
       "      <td>XPML11</td>\n",
       "      <td>Fundos Imobiliários</td>\n",
       "      <td>Shoppings</td>\n",
       "      <td>104,00</td>\n",
       "      <td>92,60</td>\n",
       "      <td>107,45</td>\n",
       "      <td>8,90</td>\n",
       "      <td>6.670.715,04</td>\n",
       "      <td>1,06</td>\n",
       "      <td>-0,03</td>\n",
       "      <td>R$ 2.098.002.887</td>\n",
       "      <td>R$ 2.216.666.296</td>\n",
       "      <td>NaN</td>\n",
       "    </tr>\n",
       "    <tr>\n",
       "      <th>1031</th>\n",
       "      <td>XPPR11</td>\n",
       "      <td>Fundos Imobiliários</td>\n",
       "      <td>Lajes Corporativas</td>\n",
       "      <td>23,10</td>\n",
       "      <td>22,25</td>\n",
       "      <td>50,24</td>\n",
       "      <td>11,47</td>\n",
       "      <td>272.430,77</td>\n",
       "      <td>0,32</td>\n",
       "      <td>-38,06</td>\n",
       "      <td>R$ 521.188.970</td>\n",
       "      <td>R$ 169.003.550</td>\n",
       "      <td>NaN</td>\n",
       "    </tr>\n",
       "    <tr>\n",
       "      <th>1032</th>\n",
       "      <td>XPSF11</td>\n",
       "      <td>Fundos Imobiliários</td>\n",
       "      <td>Fundo de Fundos</td>\n",
       "      <td>8,28</td>\n",
       "      <td>6,67</td>\n",
       "      <td>8,28</td>\n",
       "      <td>11,01</td>\n",
       "      <td>681.572,08</td>\n",
       "      <td>0,98</td>\n",
       "      <td>-4,88</td>\n",
       "      <td>R$ 365.478.308</td>\n",
       "      <td>R$ 358.541.719</td>\n",
       "      <td>NaN</td>\n",
       "    </tr>\n",
       "    <tr>\n",
       "      <th>1033</th>\n",
       "      <td>YUFI11</td>\n",
       "      <td>Fundos Imobiliários</td>\n",
       "      <td>Fundo de Desenvolvimento</td>\n",
       "      <td>99,98</td>\n",
       "      <td>63,01</td>\n",
       "      <td>109,96</td>\n",
       "      <td>2,61</td>\n",
       "      <td>4.604,88</td>\n",
       "      <td>0,98</td>\n",
       "      <td>-</td>\n",
       "      <td>R$ 50.073.484</td>\n",
       "      <td>R$ 49.255.147</td>\n",
       "      <td>NaN</td>\n",
       "    </tr>\n",
       "    <tr>\n",
       "      <th>1034</th>\n",
       "      <td>ZAVI11</td>\n",
       "      <td>Fundos Imobiliários</td>\n",
       "      <td>Indefinido</td>\n",
       "      <td>126,98</td>\n",
       "      <td>116,00</td>\n",
       "      <td>136,00</td>\n",
       "      <td>7,91</td>\n",
       "      <td>194.983,19</td>\n",
       "      <td>1,00</td>\n",
       "      <td>-</td>\n",
       "      <td>R$ 118.026.295</td>\n",
       "      <td>R$ 117.649.256</td>\n",
       "      <td>NaN</td>\n",
       "    </tr>\n",
       "    <tr>\n",
       "      <th>1035</th>\n",
       "      <td>ZIFI11</td>\n",
       "      <td>Fundos Imobiliários</td>\n",
       "      <td>Fundo de Desenvolvimento</td>\n",
       "      <td>1.000,00</td>\n",
       "      <td>963,00</td>\n",
       "      <td>1.500,00</td>\n",
       "      <td>0,00</td>\n",
       "      <td>11.995,57</td>\n",
       "      <td>0,83</td>\n",
       "      <td>-</td>\n",
       "      <td>R$ 57.357.479</td>\n",
       "      <td>R$ 47.485.000</td>\n",
       "      <td>NaN</td>\n",
       "    </tr>\n",
       "  </tbody>\n",
       "</table>\n",
       "</div>"
      ],
      "text/plain": [
       "       SETOR                 TIPO                           SETOR.1  \\\n",
       "1026  XPHT11  Fundos Imobiliários                            Hotéis   \n",
       "1027  XPHT12  Fundos Imobiliários                            Hotéis   \n",
       "1028  XPIN11  Fundos Imobiliários  Imóveis Industriais e Logísticos   \n",
       "1029  XPLG11  Fundos Imobiliários  Imóveis Industriais e Logísticos   \n",
       "1030  XPML11  Fundos Imobiliários                         Shoppings   \n",
       "1031  XPPR11  Fundos Imobiliários                Lajes Corporativas   \n",
       "1032  XPSF11  Fundos Imobiliários                   Fundo de Fundos   \n",
       "1033  YUFI11  Fundos Imobiliários          Fundo de Desenvolvimento   \n",
       "1034  ZAVI11  Fundos Imobiliários                        Indefinido   \n",
       "1035  ZIFI11  Fundos Imobiliários          Fundo de Desenvolvimento   \n",
       "\n",
       "     COTAÇÃO ATUAL  MINIMO    MAXIMO DIVIDEND YIELD LIQUIDEZ DIÁRIA  P/VP  \\\n",
       "1026        125,50   99,11    125,99          12,86      288.776,65  1,27   \n",
       "1027         32,49   22,22     38,92           0,00       16.547,61  0,33   \n",
       "1028         84,25   67,71     86,70           9,10      484.509,85  0,83   \n",
       "1029        114,17   90,01    114,19           7,80    4.146.962,04  1,01   \n",
       "1030        104,00   92,60    107,45           8,90    6.670.715,04  1,06   \n",
       "1031         23,10   22,25     50,24          11,47      272.430,77  0,32   \n",
       "1032          8,28    6,67      8,28          11,01      681.572,08  0,98   \n",
       "1033         99,98   63,01    109,96           2,61        4.604,88  0,98   \n",
       "1034        126,98  116,00    136,00           7,91      194.983,19  1,00   \n",
       "1035      1.000,00  963,00  1.500,00           0,00       11.995,57  0,83   \n",
       "\n",
       "     CAGR LUCRO PATRIMÔNIO LÍQUIDO             CAIXA LUCRO  \n",
       "1026       9,95     R$ 376.512.968    R$ 477.482.571   NaN  \n",
       "1027          -     R$ 376.512.968    R$ 123.612.819   NaN  \n",
       "1028     -10,82     R$ 729.955.133    R$ 602.423.054   NaN  \n",
       "1029      -2,98   R$ 3.073.592.159  R$ 3.094.128.134   NaN  \n",
       "1030      -0,03   R$ 2.098.002.887  R$ 2.216.666.296   NaN  \n",
       "1031     -38,06     R$ 521.188.970    R$ 169.003.550   NaN  \n",
       "1032      -4,88     R$ 365.478.308    R$ 358.541.719   NaN  \n",
       "1033          -      R$ 50.073.484     R$ 49.255.147   NaN  \n",
       "1034          -     R$ 118.026.295    R$ 117.649.256   NaN  \n",
       "1035          -      R$ 57.357.479     R$ 47.485.000   NaN  "
      ]
     },
     "execution_count": 13,
     "metadata": {},
     "output_type": "execute_result"
    }
   ],
   "source": [
    "#Verificar as últimas instâncias do data set\n",
    "dfx.tail(10)"
   ]
  },
  {
   "cell_type": "code",
   "execution_count": 14,
   "id": "10d10105",
   "metadata": {},
   "outputs": [
    {
     "data": {
      "text/plain": [
       "SETOR                 object\n",
       "TIPO                  object\n",
       "SETOR.1               object\n",
       "COTAÇÃO ATUAL         object\n",
       "MINIMO                object\n",
       "MAXIMO                object\n",
       "DIVIDEND YIELD        object\n",
       "LIQUIDEZ DIÁRIA       object\n",
       "P/VP                  object\n",
       "CAGR LUCRO            object\n",
       "PATRIMÔNIO LÍQUIDO    object\n",
       "CAIXA                 object\n",
       "LUCRO                 object\n",
       "dtype: object"
      ]
     },
     "metadata": {},
     "output_type": "display_data"
    }
   ],
   "source": [
    "# Overview das variáveis\n",
    "display(dfx.dtypes)"
   ]
  },
  {
   "cell_type": "code",
   "execution_count": 15,
   "id": "72074766",
   "metadata": {
    "scrolled": true
   },
   "outputs": [
    {
     "data": {
      "text/plain": [
       "\"#Exibir o Data Frame completo\\npd.set_option('display.max_columns', None)\\npd.set_option('display.max_rows', None)\\ndisplay(dfx)\""
      ]
     },
     "execution_count": 15,
     "metadata": {},
     "output_type": "execute_result"
    }
   ],
   "source": [
    "'''#Exibir o Data Frame completo\n",
    "pd.set_option('display.max_columns', None)\n",
    "pd.set_option('display.max_rows', None)\n",
    "display(dfx)'''"
   ]
  },
  {
   "cell_type": "code",
   "execution_count": 16,
   "id": "19eef9bc",
   "metadata": {},
   "outputs": [
    {
     "name": "stderr",
     "output_type": "stream",
     "text": [
      "<ipython-input-16-086a16955b6a>:2: FutureWarning: The default value of regex will change from True to False in a future version. In addition, single character regular expressions will*not* be treated as literal strings when regex=True.\n",
      "  dfx['COTAÇÃO ATUAL'] = dfx['COTAÇÃO ATUAL'].str.replace('.', '').str.replace(',', '.').replace('-', 0)\n",
      "<ipython-input-16-086a16955b6a>:3: FutureWarning: The default value of regex will change from True to False in a future version. In addition, single character regular expressions will*not* be treated as literal strings when regex=True.\n",
      "  dfx['MINIMO'] = dfx['MINIMO'].str.replace('.', '').str.replace(',', '.').replace('-', 0)\n",
      "<ipython-input-16-086a16955b6a>:4: FutureWarning: The default value of regex will change from True to False in a future version. In addition, single character regular expressions will*not* be treated as literal strings when regex=True.\n",
      "  dfx['MAXIMO'] = dfx['MAXIMO'].str.replace('.', '').str.replace(',', '.').replace('-', 0)\n",
      "<ipython-input-16-086a16955b6a>:5: FutureWarning: The default value of regex will change from True to False in a future version. In addition, single character regular expressions will*not* be treated as literal strings when regex=True.\n",
      "  dfx['DIVIDEND YIELD'] = dfx['DIVIDEND YIELD'].str.replace('.', '').str.replace(',', '.').replace('-', 0)\n",
      "<ipython-input-16-086a16955b6a>:8: FutureWarning: The default value of regex will change from True to False in a future version. In addition, single character regular expressions will*not* be treated as literal strings when regex=True.\n",
      "  dfx['P/VP'] = dfx['P/VP'].str.replace('.', '').str.replace(',', '.')\n",
      "<ipython-input-16-086a16955b6a>:13: FutureWarning: The default value of regex will change from True to False in a future version. In addition, single character regular expressions will*not* be treated as literal strings when regex=True.\n",
      "  dfx['CAGR LUCRO'] = dfx['CAGR LUCRO'].str.replace('.', '').str.replace(',', '.')\n",
      "<ipython-input-16-086a16955b6a>:16: FutureWarning: The default value of regex will change from True to False in a future version. In addition, single character regular expressions will*not* be treated as literal strings when regex=True.\n",
      "  dfx['LIQUIDEZ DIÁRIA'] = dfx['LIQUIDEZ DIÁRIA'].str.replace('.', '').str.replace(',', '.')\n",
      "<ipython-input-16-086a16955b6a>:18: FutureWarning: The default value of regex will change from True to False in a future version. In addition, single character regular expressions will*not* be treated as literal strings when regex=True.\n",
      "  dfx['PATRIMÔNIO LÍQUIDO'] = dfx['PATRIMÔNIO LÍQUIDO'].str.replace('.', '').str.replace(',', '.')\n",
      "<ipython-input-16-086a16955b6a>:19: FutureWarning: The default value of regex will change from True to False in a future version. In addition, single character regular expressions will*not* be treated as literal strings when regex=True.\n",
      "  dfx['PATRIMÔNIO LÍQUIDO'] = dfx['PATRIMÔNIO LÍQUIDO'].str.replace('$', '')\n",
      "<ipython-input-16-086a16955b6a>:25: FutureWarning: The default value of regex will change from True to False in a future version. In addition, single character regular expressions will*not* be treated as literal strings when regex=True.\n",
      "  dfx['CAIXA'] = dfx['CAIXA'].str.replace('.', '').str.replace(',', '.')\n",
      "<ipython-input-16-086a16955b6a>:29: FutureWarning: The default value of regex will change from True to False in a future version. In addition, single character regular expressions will*not* be treated as literal strings when regex=True.\n",
      "  dfx['CAIXA'] = dfx['CAIXA'].str.replace('$', '')\n",
      "<ipython-input-16-086a16955b6a>:33: FutureWarning: The default value of regex will change from True to False in a future version. In addition, single character regular expressions will*not* be treated as literal strings when regex=True.\n",
      "  dfx['LUCRO'] = dfx['LUCRO'].str.replace(',', '.').str.replace('.', '')\n",
      "<ipython-input-16-086a16955b6a>:37: FutureWarning: The default value of regex will change from True to False in a future version. In addition, single character regular expressions will*not* be treated as literal strings when regex=True.\n",
      "  dfx['LUCRO'] = dfx['LUCRO'].str.replace('$', '')\n"
     ]
    },
    {
     "data": {
      "text/html": [
       "<div>\n",
       "<style scoped>\n",
       "    .dataframe tbody tr th:only-of-type {\n",
       "        vertical-align: middle;\n",
       "    }\n",
       "\n",
       "    .dataframe tbody tr th {\n",
       "        vertical-align: top;\n",
       "    }\n",
       "\n",
       "    .dataframe thead th {\n",
       "        text-align: right;\n",
       "    }\n",
       "</style>\n",
       "<table border=\"1\" class=\"dataframe\">\n",
       "  <thead>\n",
       "    <tr style=\"text-align: right;\">\n",
       "      <th></th>\n",
       "      <th>SETOR</th>\n",
       "      <th>TIPO</th>\n",
       "      <th>SETOR.1</th>\n",
       "      <th>COTAÇÃO ATUAL</th>\n",
       "      <th>MINIMO</th>\n",
       "      <th>MAXIMO</th>\n",
       "      <th>DIVIDEND YIELD</th>\n",
       "      <th>LIQUIDEZ DIÁRIA</th>\n",
       "      <th>P/VP</th>\n",
       "      <th>CAGR LUCRO</th>\n",
       "      <th>PATRIMÔNIO LÍQUIDO</th>\n",
       "      <th>CAIXA</th>\n",
       "      <th>LUCRO</th>\n",
       "    </tr>\n",
       "  </thead>\n",
       "  <tbody>\n",
       "    <tr>\n",
       "      <th>0</th>\n",
       "      <td>AALR3</td>\n",
       "      <td>Ação</td>\n",
       "      <td>Saúde</td>\n",
       "      <td>23.84</td>\n",
       "      <td>19.45</td>\n",
       "      <td>23.86</td>\n",
       "      <td>0.00</td>\n",
       "      <td>6.044724e+06</td>\n",
       "      <td>3.11</td>\n",
       "      <td>NaN</td>\n",
       "      <td>9.069470e+08</td>\n",
       "      <td>1.873000e+02</td>\n",
       "      <td>-21924.0</td>\n",
       "    </tr>\n",
       "    <tr>\n",
       "      <th>1</th>\n",
       "      <td>ABCB4</td>\n",
       "      <td>Ação</td>\n",
       "      <td>Financeiro e Outros</td>\n",
       "      <td>18.14</td>\n",
       "      <td>13.85</td>\n",
       "      <td>21.24</td>\n",
       "      <td>8.64</td>\n",
       "      <td>1.850763e+07</td>\n",
       "      <td>0.78</td>\n",
       "      <td>12.65</td>\n",
       "      <td>5.290796e+09</td>\n",
       "      <td>3.559270e+03</td>\n",
       "      <td>80023.0</td>\n",
       "    </tr>\n",
       "    <tr>\n",
       "      <th>2</th>\n",
       "      <td>ABEV3</td>\n",
       "      <td>Ação</td>\n",
       "      <td>Consumo não Cíclico</td>\n",
       "      <td>14.85</td>\n",
       "      <td>12.86</td>\n",
       "      <td>16.03</td>\n",
       "      <td>5.13</td>\n",
       "      <td>3.184781e+08</td>\n",
       "      <td>2.75</td>\n",
       "      <td>15.19</td>\n",
       "      <td>8.499959e+10</td>\n",
       "      <td>2.064215e+04</td>\n",
       "      <td>1489129.0</td>\n",
       "    </tr>\n",
       "    <tr>\n",
       "      <th>3</th>\n",
       "      <td>ADHM3</td>\n",
       "      <td>Ação</td>\n",
       "      <td>Saúde</td>\n",
       "      <td>1.56</td>\n",
       "      <td>0.00</td>\n",
       "      <td>0.00</td>\n",
       "      <td>0.00</td>\n",
       "      <td>NaN</td>\n",
       "      <td>-1.29</td>\n",
       "      <td>NaN</td>\n",
       "      <td>-1.977600e+07</td>\n",
       "      <td>1.600000e-01</td>\n",
       "      <td>-494.0</td>\n",
       "    </tr>\n",
       "    <tr>\n",
       "      <th>4</th>\n",
       "      <td>AERI3</td>\n",
       "      <td>Ação</td>\n",
       "      <td>Bens Industriais</td>\n",
       "      <td>1.36</td>\n",
       "      <td>0.88</td>\n",
       "      <td>3.47</td>\n",
       "      <td>0.00</td>\n",
       "      <td>9.520081e+06</td>\n",
       "      <td>1.21</td>\n",
       "      <td>NaN</td>\n",
       "      <td>8.626000e+08</td>\n",
       "      <td>-1.330000e+01</td>\n",
       "      <td>-10874.0</td>\n",
       "    </tr>\n",
       "    <tr>\n",
       "      <th>...</th>\n",
       "      <td>...</td>\n",
       "      <td>...</td>\n",
       "      <td>...</td>\n",
       "      <td>...</td>\n",
       "      <td>...</td>\n",
       "      <td>...</td>\n",
       "      <td>...</td>\n",
       "      <td>...</td>\n",
       "      <td>...</td>\n",
       "      <td>...</td>\n",
       "      <td>...</td>\n",
       "      <td>...</td>\n",
       "      <td>...</td>\n",
       "    </tr>\n",
       "    <tr>\n",
       "      <th>1031</th>\n",
       "      <td>XPPR11</td>\n",
       "      <td>Fundos Imobiliários</td>\n",
       "      <td>Lajes Corporativas</td>\n",
       "      <td>23.10</td>\n",
       "      <td>22.25</td>\n",
       "      <td>50.24</td>\n",
       "      <td>11.47</td>\n",
       "      <td>2.724308e+05</td>\n",
       "      <td>0.32</td>\n",
       "      <td>-38.06</td>\n",
       "      <td>5.211890e+08</td>\n",
       "      <td>1.690036e+08</td>\n",
       "      <td>NaN</td>\n",
       "    </tr>\n",
       "    <tr>\n",
       "      <th>1032</th>\n",
       "      <td>XPSF11</td>\n",
       "      <td>Fundos Imobiliários</td>\n",
       "      <td>Fundo de Fundos</td>\n",
       "      <td>8.28</td>\n",
       "      <td>6.67</td>\n",
       "      <td>8.28</td>\n",
       "      <td>11.01</td>\n",
       "      <td>6.815721e+05</td>\n",
       "      <td>0.98</td>\n",
       "      <td>-4.88</td>\n",
       "      <td>3.654783e+08</td>\n",
       "      <td>3.585417e+08</td>\n",
       "      <td>NaN</td>\n",
       "    </tr>\n",
       "    <tr>\n",
       "      <th>1033</th>\n",
       "      <td>YUFI11</td>\n",
       "      <td>Fundos Imobiliários</td>\n",
       "      <td>Fundo de Desenvolvimento</td>\n",
       "      <td>99.98</td>\n",
       "      <td>63.01</td>\n",
       "      <td>109.96</td>\n",
       "      <td>2.61</td>\n",
       "      <td>4.604880e+03</td>\n",
       "      <td>0.98</td>\n",
       "      <td>NaN</td>\n",
       "      <td>5.007348e+07</td>\n",
       "      <td>4.925515e+07</td>\n",
       "      <td>NaN</td>\n",
       "    </tr>\n",
       "    <tr>\n",
       "      <th>1034</th>\n",
       "      <td>ZAVI11</td>\n",
       "      <td>Fundos Imobiliários</td>\n",
       "      <td>Indefinido</td>\n",
       "      <td>126.98</td>\n",
       "      <td>116.00</td>\n",
       "      <td>136.00</td>\n",
       "      <td>7.91</td>\n",
       "      <td>1.949832e+05</td>\n",
       "      <td>1.00</td>\n",
       "      <td>NaN</td>\n",
       "      <td>1.180263e+08</td>\n",
       "      <td>1.176493e+08</td>\n",
       "      <td>NaN</td>\n",
       "    </tr>\n",
       "    <tr>\n",
       "      <th>1035</th>\n",
       "      <td>ZIFI11</td>\n",
       "      <td>Fundos Imobiliários</td>\n",
       "      <td>Fundo de Desenvolvimento</td>\n",
       "      <td>1000.00</td>\n",
       "      <td>963.00</td>\n",
       "      <td>1500.00</td>\n",
       "      <td>0.00</td>\n",
       "      <td>1.199557e+04</td>\n",
       "      <td>0.83</td>\n",
       "      <td>NaN</td>\n",
       "      <td>5.735748e+07</td>\n",
       "      <td>4.748500e+07</td>\n",
       "      <td>NaN</td>\n",
       "    </tr>\n",
       "  </tbody>\n",
       "</table>\n",
       "<p>1036 rows × 13 columns</p>\n",
       "</div>"
      ],
      "text/plain": [
       "       SETOR                 TIPO                   SETOR.1  COTAÇÃO ATUAL  \\\n",
       "0      AALR3                 Ação                     Saúde          23.84   \n",
       "1      ABCB4                 Ação       Financeiro e Outros          18.14   \n",
       "2      ABEV3                 Ação       Consumo não Cíclico          14.85   \n",
       "3      ADHM3                 Ação                     Saúde           1.56   \n",
       "4      AERI3                 Ação          Bens Industriais           1.36   \n",
       "...      ...                  ...                       ...            ...   \n",
       "1031  XPPR11  Fundos Imobiliários        Lajes Corporativas          23.10   \n",
       "1032  XPSF11  Fundos Imobiliários           Fundo de Fundos           8.28   \n",
       "1033  YUFI11  Fundos Imobiliários  Fundo de Desenvolvimento          99.98   \n",
       "1034  ZAVI11  Fundos Imobiliários                Indefinido         126.98   \n",
       "1035  ZIFI11  Fundos Imobiliários  Fundo de Desenvolvimento        1000.00   \n",
       "\n",
       "      MINIMO   MAXIMO  DIVIDEND YIELD  LIQUIDEZ DIÁRIA  P/VP  CAGR LUCRO  \\\n",
       "0      19.45    23.86            0.00     6.044724e+06  3.11         NaN   \n",
       "1      13.85    21.24            8.64     1.850763e+07  0.78       12.65   \n",
       "2      12.86    16.03            5.13     3.184781e+08  2.75       15.19   \n",
       "3       0.00     0.00            0.00              NaN -1.29         NaN   \n",
       "4       0.88     3.47            0.00     9.520081e+06  1.21         NaN   \n",
       "...      ...      ...             ...              ...   ...         ...   \n",
       "1031   22.25    50.24           11.47     2.724308e+05  0.32      -38.06   \n",
       "1032    6.67     8.28           11.01     6.815721e+05  0.98       -4.88   \n",
       "1033   63.01   109.96            2.61     4.604880e+03  0.98         NaN   \n",
       "1034  116.00   136.00            7.91     1.949832e+05  1.00         NaN   \n",
       "1035  963.00  1500.00            0.00     1.199557e+04  0.83         NaN   \n",
       "\n",
       "      PATRIMÔNIO LÍQUIDO         CAIXA      LUCRO  \n",
       "0           9.069470e+08  1.873000e+02   -21924.0  \n",
       "1           5.290796e+09  3.559270e+03    80023.0  \n",
       "2           8.499959e+10  2.064215e+04  1489129.0  \n",
       "3          -1.977600e+07  1.600000e-01     -494.0  \n",
       "4           8.626000e+08 -1.330000e+01   -10874.0  \n",
       "...                  ...           ...        ...  \n",
       "1031        5.211890e+08  1.690036e+08        NaN  \n",
       "1032        3.654783e+08  3.585417e+08        NaN  \n",
       "1033        5.007348e+07  4.925515e+07        NaN  \n",
       "1034        1.180263e+08  1.176493e+08        NaN  \n",
       "1035        5.735748e+07  4.748500e+07        NaN  \n",
       "\n",
       "[1036 rows x 13 columns]"
      ]
     },
     "metadata": {},
     "output_type": "display_data"
    },
    {
     "name": "stdout",
     "output_type": "stream",
     "text": [
      "SETOR                  object\n",
      "TIPO                   object\n",
      "SETOR.1                object\n",
      "COTAÇÃO ATUAL         float64\n",
      "MINIMO                float64\n",
      "MAXIMO                float64\n",
      "DIVIDEND YIELD        float64\n",
      "LIQUIDEZ DIÁRIA       float64\n",
      "P/VP                  float64\n",
      "CAGR LUCRO            float64\n",
      "PATRIMÔNIO LÍQUIDO    float64\n",
      "CAIXA                 float64\n",
      "LUCRO                 float64\n",
      "dtype: object\n"
     ]
    }
   ],
   "source": [
    "# Utilizar o método replace() para substituir '-' por 0\n",
    "dfx['COTAÇÃO ATUAL'] = dfx['COTAÇÃO ATUAL'].str.replace('.', '').str.replace(',', '.').replace('-', 0)\n",
    "dfx['MINIMO'] = dfx['MINIMO'].str.replace('.', '').str.replace(',', '.').replace('-', 0)\n",
    "dfx['MAXIMO'] = dfx['MAXIMO'].str.replace('.', '').str.replace(',', '.').replace('-', 0)\n",
    "dfx['DIVIDEND YIELD'] = dfx['DIVIDEND YIELD'].str.replace('.', '').str.replace(',', '.').replace('-', 0)\n",
    "\n",
    "dfx['P/VP'] = dfx['P/VP'].replace('-', 0)\n",
    "dfx['P/VP'] = dfx['P/VP'].str.replace('.', '').str.replace(',', '.')\n",
    "\n",
    "dfx['CAGR LUCRO'] = dfx['CAGR LUCRO'].replace('-', 0)\n",
    "dfx['CAGR LUCRO'] = dfx['CAGR LUCRO'].replace('-%', 0)\n",
    "dfx['CAGR LUCRO'] = dfx['CAGR LUCRO'].str.replace('%', '')\n",
    "dfx['CAGR LUCRO'] = dfx['CAGR LUCRO'].str.replace('.', '').str.replace(',', '.')\n",
    "\n",
    "dfx['LIQUIDEZ DIÁRIA'] = dfx['LIQUIDEZ DIÁRIA'].replace('-', 0)\n",
    "dfx['LIQUIDEZ DIÁRIA'] = dfx['LIQUIDEZ DIÁRIA'].str.replace('.', '').str.replace(',', '.')\n",
    "\n",
    "dfx['PATRIMÔNIO LÍQUIDO'] = dfx['PATRIMÔNIO LÍQUIDO'].str.replace('.', '').str.replace(',', '.')\n",
    "dfx['PATRIMÔNIO LÍQUIDO'] = dfx['PATRIMÔNIO LÍQUIDO'].str.replace('$', '')\n",
    "dfx['PATRIMÔNIO LÍQUIDO'] = dfx['PATRIMÔNIO LÍQUIDO'].str.replace('R', '')\n",
    "dfx['PATRIMÔNIO LÍQUIDO'] = dfx['PATRIMÔNIO LÍQUIDO'].replace(' -', 0)\n",
    "\n",
    "\n",
    "dfx['CAIXA'] = dfx['CAIXA'].replace('-', 0)\n",
    "dfx['CAIXA'] = dfx['CAIXA'].str.replace('.', '').str.replace(',', '.')\n",
    "dfx['CAIXA'] = dfx['CAIXA'].str.replace('M', '')\n",
    "dfx['CAIXA'] = dfx['CAIXA'].str.replace('K', '')\n",
    "dfx['CAIXA'] = dfx['CAIXA'].str.replace('B', '')\n",
    "dfx['CAIXA'] = dfx['CAIXA'].str.replace('$', '')\n",
    "dfx['CAIXA'] = dfx['CAIXA'].str.replace('R', '')\n",
    "\n",
    "dfx['LUCRO'] = dfx['LUCRO'].replace('-', 0)\n",
    "dfx['LUCRO'] = dfx['LUCRO'].str.replace(',', '.').str.replace('.', '')\n",
    "dfx['LUCRO'] = dfx['LUCRO'].str.replace('M', '')\n",
    "dfx['LUCRO'] = dfx['LUCRO'].str.replace('K', '')\n",
    "dfx['LUCRO'] = dfx['LUCRO'].str.replace('B', '')\n",
    "dfx['LUCRO'] = dfx['LUCRO'].str.replace('$', '')\n",
    "dfx['LUCRO'] = dfx['LUCRO'].str.replace('R', '')\n",
    "\n",
    "dfx['COTAÇÃO ATUAL'] = dfx['COTAÇÃO ATUAL'].astype('float64')\n",
    "dfx['MINIMO'] = dfx['MINIMO'].astype('float64')\n",
    "dfx['MAXIMO'] = dfx['MAXIMO'].astype('float64')\n",
    "dfx['DIVIDEND YIELD'] = dfx['DIVIDEND YIELD'].astype('float64')\n",
    "\n",
    "dfx['LIQUIDEZ DIÁRIA'] = dfx['LIQUIDEZ DIÁRIA'].astype('float64')\n",
    "\n",
    "dfx['P/VP'] = dfx['P/VP'].astype('float64')\n",
    "\n",
    "dfx['CAGR LUCRO'] = dfx['CAGR LUCRO'].astype('float64')\n",
    "\n",
    "dfx['PATRIMÔNIO LÍQUIDO'] = dfx['PATRIMÔNIO LÍQUIDO'].astype('float64')\n",
    "\n",
    "dfx['CAIXA'] = dfx['CAIXA'].astype('float64')\n",
    "\n",
    "dfx['LUCRO'] = dfx['LUCRO'].astype('float64')\n",
    "\n",
    "# caixa está em milhões (M),  milhar (K) ou bilhão(B)\n",
    "display(dfx)\n",
    "print(dfx.dtypes)"
   ]
  },
  {
   "cell_type": "code",
   "execution_count": 17,
   "id": "d94477cd",
   "metadata": {},
   "outputs": [
    {
     "name": "stdout",
     "output_type": "stream",
     "text": [
      "SETOR                   0\n",
      "TIPO                    0\n",
      "SETOR.1                 0\n",
      "COTAÇÃO ATUAL           0\n",
      "MINIMO                  0\n",
      "MAXIMO                  0\n",
      "DIVIDEND YIELD          0\n",
      "LIQUIDEZ DIÁRIA       245\n",
      "P/VP                  104\n",
      "CAGR LUCRO            541\n",
      "PATRIMÔNIO LÍQUIDO      0\n",
      "CAIXA                  26\n",
      "LUCRO                 511\n",
      "dtype: int64\n"
     ]
    }
   ],
   "source": [
    "#Soma dos valores nulos em cada variável == 0 em todas as variáveis\n",
    "print(dfx.isnull().sum())"
   ]
  },
  {
   "cell_type": "code",
   "execution_count": 18,
   "id": "54dc33bb",
   "metadata": {
    "scrolled": true
   },
   "outputs": [
    {
     "data": {
      "text/plain": [
       "'# Contar o número de ocorrências de cada valor na coluna \\'INVESTIR\\'\\nvalue_counts = dfx[\\'INVESTIR\\'].value_counts()\\ncolors = [\\'#FFD3D3\\', \\'#C9E3CA\\']\\npie_chart = value_counts.plot.pie(colors=colors, autopct=\\'%1.1f%%\\', pctdistance=0.85)\\nlabels = value_counts.index\\nplt.legend(labels, loc=\"best\")\\ntotal = value_counts.sum()\\npercentages = value_counts / total * 100\\n\\n# Exibir o gráfico\\nplt.show()'"
      ]
     },
     "execution_count": 18,
     "metadata": {},
     "output_type": "execute_result"
    }
   ],
   "source": [
    "'''# Contar o número de ocorrências de cada valor na coluna 'INVESTIR'\n",
    "value_counts = dfx['INVESTIR'].value_counts()\n",
    "colors = ['#FFD3D3', '#C9E3CA']\n",
    "pie_chart = value_counts.plot.pie(colors=colors, autopct='%1.1f%%', pctdistance=0.85)\n",
    "labels = value_counts.index\n",
    "plt.legend(labels, loc=\"best\")\n",
    "total = value_counts.sum()\n",
    "percentages = value_counts / total * 100\n",
    "\n",
    "# Exibir o gráfico\n",
    "plt.show()'''"
   ]
  },
  {
   "cell_type": "code",
   "execution_count": 19,
   "id": "16c41c6d",
   "metadata": {},
   "outputs": [
    {
     "data": {
      "image/png": "[encoded data removed]",
      "text/plain": [
       "<Figure size 432x288 with 1 Axes>"
      ]
     },
     "metadata": {},
     "output_type": "display_data"
    }
   ],
   "source": [
    "# Contar o número de ocorrências de cada valor na coluna 'TIPO'\n",
    "value_counts = dfx['TIPO'].value_counts()\n",
    "\n",
    "colors = ['magenta', 'blue']\n",
    "\n",
    "pie_chart = value_counts.plot.pie(colors=colors, autopct=lambda p: f'{p:.1f}%\\n({int(p * value_counts.sum() / 100)})')\n",
    "\n",
    "labels = value_counts.index\n",
    "plt.legend(labels, loc=\"best\")\n",
    "\n",
    "plt.show()\n"
   ]
  },
  {
   "cell_type": "code",
   "execution_count": 20,
   "id": "44ffd3ab",
   "metadata": {},
   "outputs": [
    {
     "data": {
      "text/html": [
       "<div>\n",
       "<style scoped>\n",
       "    .dataframe tbody tr th:only-of-type {\n",
       "        vertical-align: middle;\n",
       "    }\n",
       "\n",
       "    .dataframe tbody tr th {\n",
       "        vertical-align: top;\n",
       "    }\n",
       "\n",
       "    .dataframe thead th {\n",
       "        text-align: right;\n",
       "    }\n",
       "</style>\n",
       "<table border=\"1\" class=\"dataframe\">\n",
       "  <thead>\n",
       "    <tr style=\"text-align: right;\">\n",
       "      <th></th>\n",
       "      <th>COTAÇÃO ATUAL</th>\n",
       "      <th>MINIMO</th>\n",
       "      <th>MAXIMO</th>\n",
       "      <th>DIVIDEND YIELD</th>\n",
       "      <th>LIQUIDEZ DIÁRIA</th>\n",
       "      <th>P/VP</th>\n",
       "      <th>CAGR LUCRO</th>\n",
       "      <th>PATRIMÔNIO LÍQUIDO</th>\n",
       "      <th>CAIXA</th>\n",
       "      <th>LUCRO</th>\n",
       "    </tr>\n",
       "  </thead>\n",
       "  <tbody>\n",
       "    <tr>\n",
       "      <th>count</th>\n",
       "      <td>1036.000000</td>\n",
       "      <td>1036.000000</td>\n",
       "      <td>1036.000000</td>\n",
       "      <td>1036.000000</td>\n",
       "      <td>7.910000e+02</td>\n",
       "      <td>9.320000e+02</td>\n",
       "      <td>495.000000</td>\n",
       "      <td>1.036000e+03</td>\n",
       "      <td>1.010000e+03</td>\n",
       "      <td>5.250000e+02</td>\n",
       "    </tr>\n",
       "    <tr>\n",
       "      <th>mean</th>\n",
       "      <td>282.507239</td>\n",
       "      <td>67.978851</td>\n",
       "      <td>95.339807</td>\n",
       "      <td>9.706805</td>\n",
       "      <td>2.824111e+07</td>\n",
       "      <td>-1.848003e+03</td>\n",
       "      <td>7.549980</td>\n",
       "      <td>4.836500e+09</td>\n",
       "      <td>1.654176e+08</td>\n",
       "      <td>1.212298e+05</td>\n",
       "    </tr>\n",
       "    <tr>\n",
       "      <th>std</th>\n",
       "      <td>3849.579391</td>\n",
       "      <td>503.786174</td>\n",
       "      <td>809.929574</td>\n",
       "      <td>101.116872</td>\n",
       "      <td>1.240741e+08</td>\n",
       "      <td>5.671631e+04</td>\n",
       "      <td>29.960537</td>\n",
       "      <td>2.427232e+10</td>\n",
       "      <td>5.527581e+08</td>\n",
       "      <td>6.002791e+05</td>\n",
       "    </tr>\n",
       "    <tr>\n",
       "      <th>min</th>\n",
       "      <td>0.000000</td>\n",
       "      <td>0.000000</td>\n",
       "      <td>0.000000</td>\n",
       "      <td>0.000000</td>\n",
       "      <td>2.500000e+00</td>\n",
       "      <td>-1.731457e+06</td>\n",
       "      <td>-66.310000</td>\n",
       "      <td>-2.314457e+10</td>\n",
       "      <td>-9.096640e+03</td>\n",
       "      <td>-2.162350e+06</td>\n",
       "    </tr>\n",
       "    <tr>\n",
       "      <th>25%</th>\n",
       "      <td>5.755000</td>\n",
       "      <td>0.842500</td>\n",
       "      <td>2.847500</td>\n",
       "      <td>0.000000</td>\n",
       "      <td>3.289473e+04</td>\n",
       "      <td>6.600000e-01</td>\n",
       "      <td>-6.555000</td>\n",
       "      <td>7.413497e+07</td>\n",
       "      <td>5.280000e+00</td>\n",
       "      <td>1.510000e+02</td>\n",
       "    </tr>\n",
       "    <tr>\n",
       "      <th>50%</th>\n",
       "      <td>19.580000</td>\n",
       "      <td>8.730000</td>\n",
       "      <td>15.200000</td>\n",
       "      <td>2.385000</td>\n",
       "      <td>3.387892e+05</td>\n",
       "      <td>9.700000e-01</td>\n",
       "      <td>2.800000</td>\n",
       "      <td>3.655694e+08</td>\n",
       "      <td>9.226450e+02</td>\n",
       "      <td>1.190700e+04</td>\n",
       "    </tr>\n",
       "    <tr>\n",
       "      <th>75%</th>\n",
       "      <td>81.917500</td>\n",
       "      <td>58.897500</td>\n",
       "      <td>80.000000</td>\n",
       "      <td>8.927500</td>\n",
       "      <td>4.299667e+06</td>\n",
       "      <td>1.442500e+00</td>\n",
       "      <td>21.030000</td>\n",
       "      <td>1.840518e+09</td>\n",
       "      <td>8.604476e+07</td>\n",
       "      <td>7.604300e+04</td>\n",
       "    </tr>\n",
       "    <tr>\n",
       "      <th>max</th>\n",
       "      <td>94794.810000</td>\n",
       "      <td>15000.000000</td>\n",
       "      <td>24999.000000</td>\n",
       "      <td>2762.620000</td>\n",
       "      <td>2.032931e+09</td>\n",
       "      <td>4.008090e+03</td>\n",
       "      <td>195.340000</td>\n",
       "      <td>4.020840e+11</td>\n",
       "      <td>7.391217e+09</td>\n",
       "      <td>1.017040e+07</td>\n",
       "    </tr>\n",
       "  </tbody>\n",
       "</table>\n",
       "</div>"
      ],
      "text/plain": [
       "       COTAÇÃO ATUAL        MINIMO        MAXIMO  DIVIDEND YIELD  \\\n",
       "count    1036.000000   1036.000000   1036.000000     1036.000000   \n",
       "mean      282.507239     67.978851     95.339807        9.706805   \n",
       "std      3849.579391    503.786174    809.929574      101.116872   \n",
       "min         0.000000      0.000000      0.000000        0.000000   \n",
       "25%         5.755000      0.842500      2.847500        0.000000   \n",
       "50%        19.580000      8.730000     15.200000        2.385000   \n",
       "75%        81.917500     58.897500     80.000000        8.927500   \n",
       "max     94794.810000  15000.000000  24999.000000     2762.620000   \n",
       "\n",
       "       LIQUIDEZ DIÁRIA          P/VP  CAGR LUCRO  PATRIMÔNIO LÍQUIDO  \\\n",
       "count     7.910000e+02  9.320000e+02  495.000000        1.036000e+03   \n",
       "mean      2.824111e+07 -1.848003e+03    7.549980        4.836500e+09   \n",
       "std       1.240741e+08  5.671631e+04   29.960537        2.427232e+10   \n",
       "min       2.500000e+00 -1.731457e+06  -66.310000       -2.314457e+10   \n",
       "25%       3.289473e+04  6.600000e-01   -6.555000        7.413497e+07   \n",
       "50%       3.387892e+05  9.700000e-01    2.800000        3.655694e+08   \n",
       "75%       4.299667e+06  1.442500e+00   21.030000        1.840518e+09   \n",
       "max       2.032931e+09  4.008090e+03  195.340000        4.020840e+11   \n",
       "\n",
       "              CAIXA         LUCRO  \n",
       "count  1.010000e+03  5.250000e+02  \n",
       "mean   1.654176e+08  1.212298e+05  \n",
       "std    5.527581e+08  6.002791e+05  \n",
       "min   -9.096640e+03 -2.162350e+06  \n",
       "25%    5.280000e+00  1.510000e+02  \n",
       "50%    9.226450e+02  1.190700e+04  \n",
       "75%    8.604476e+07  7.604300e+04  \n",
       "max    7.391217e+09  1.017040e+07  "
      ]
     },
     "execution_count": 20,
     "metadata": {},
     "output_type": "execute_result"
    }
   ],
   "source": [
    "#Obter as primeiras impressões dos dados, através do resumo estatístico\n",
    "dfx.describe()"
   ]
  },
  {
   "cell_type": "code",
   "execution_count": 21,
   "id": "11fcf88c",
   "metadata": {},
   "outputs": [
    {
     "data": {
      "text/plain": [
       "False    912\n",
       "True     124\n",
       "Name: COTAÇÃO ATUAL, dtype: int64"
      ]
     },
     "execution_count": 21,
     "metadata": {},
     "output_type": "execute_result"
    }
   ],
   "source": [
    "# Contar valores ==0\n",
    "Cotacao_zero = dfx['COTAÇÃO ATUAL']==0\n",
    "Cotacao_zero.value_counts()\n",
    "# Percentual de valores == 0 (4,23%)\n",
    "#(38/897)*100"
   ]
  },
  {
   "cell_type": "code",
   "execution_count": 22,
   "id": "de976112",
   "metadata": {},
   "outputs": [
    {
     "data": {
      "text/plain": [
       "<AxesSubplot:ylabel='Frequency'>"
      ]
     },
     "execution_count": 22,
     "metadata": {},
     "output_type": "execute_result"
    },
    {
     "data": {
      "image/png": "[encoded data removed]",
      "text/plain": [
       "<Figure size 432x288 with 1 Axes>"
      ]
     },
     "metadata": {
      "needs_background": "light"
     },
     "output_type": "display_data"
    }
   ],
   "source": [
    "# Busca pela maior incidência de valor (Range entre 0 e 76000)\n",
    "dfx['COTAÇÃO ATUAL'].loc[lambda x : (x > 0) & (x <= 76000)].plot.hist()"
   ]
  },
  {
   "cell_type": "code",
   "execution_count": 23,
   "id": "5a26dad1",
   "metadata": {},
   "outputs": [
    {
     "data": {
      "text/plain": [
       "<AxesSubplot:ylabel='Frequency'>"
      ]
     },
     "execution_count": 23,
     "metadata": {},
     "output_type": "execute_result"
    },
    {
     "data": {
      "image/png": "[encoded data removed]",
      "text/plain": [
       "<Figure size 432x288 with 1 Axes>"
      ]
     },
     "metadata": {
      "needs_background": "light"
     },
     "output_type": "display_data"
    }
   ],
   "source": [
    "# Busca pela maior incidência de valor(reduzindo o range)\n",
    "dfx['COTAÇÃO ATUAL'].loc[lambda x : (x > 0) & (x < 1000)].plot.hist()"
   ]
  },
  {
   "cell_type": "code",
   "execution_count": 24,
   "id": "cd5e03a2",
   "metadata": {},
   "outputs": [
    {
     "data": {
      "text/plain": [
       "<AxesSubplot:ylabel='Frequency'>"
      ]
     },
     "execution_count": 24,
     "metadata": {},
     "output_type": "execute_result"
    },
    {
     "data": {
      "image/png": "[encoded data removed]",
      "text/plain": [
       "<Figure size 432x288 with 1 Axes>"
      ]
     },
     "metadata": {
      "needs_background": "light"
     },
     "output_type": "display_data"
    }
   ],
   "source": [
    "# Busca pela maior incidência de valor(reduzindo o range)\n",
    "dfx['COTAÇÃO ATUAL'].loc[lambda x : (x > 0) & (x < 100)].plot.hist()"
   ]
  },
  {
   "cell_type": "code",
   "execution_count": 25,
   "id": "66a40628",
   "metadata": {},
   "outputs": [
    {
     "data": {
      "text/plain": [
       "<AxesSubplot:ylabel='Frequency'>"
      ]
     },
     "execution_count": 25,
     "metadata": {},
     "output_type": "execute_result"
    },
    {
     "data": {
      "image/png": "[encoded data removed]",
      "text/plain": [
       "<Figure size 432x288 with 1 Axes>"
      ]
     },
     "metadata": {
      "needs_background": "light"
     },
     "output_type": "display_data"
    }
   ],
   "source": [
    "# Busca pela maior incidência de valor(reduzindo o range)\n",
    "dfx['COTAÇÃO ATUAL'].loc[lambda x : (x > 0) & (x < 20)].plot.hist()"
   ]
  },
  {
   "cell_type": "code",
   "execution_count": 26,
   "id": "8c0e4c38",
   "metadata": {},
   "outputs": [
    {
     "data": {
      "text/plain": [
       "<AxesSubplot:ylabel='Frequency'>"
      ]
     },
     "execution_count": 26,
     "metadata": {},
     "output_type": "execute_result"
    },
    {
     "data": {
      "image/png": "[encoded data removed]",
      "text/plain": [
       "<Figure size 432x288 with 1 Axes>"
      ]
     },
     "metadata": {
      "needs_background": "light"
     },
     "output_type": "display_data"
    }
   ],
   "source": [
    "# Localizar as maiores incidências\n",
    "dfx['DIVIDEND YIELD'].loc[lambda x : (x > 0) & (x <= 10681)].plot.hist()"
   ]
  },
  {
   "cell_type": "code",
   "execution_count": 27,
   "id": "e41efe82",
   "metadata": {},
   "outputs": [
    {
     "data": {
      "text/plain": [
       "<AxesSubplot:ylabel='Frequency'>"
      ]
     },
     "execution_count": 27,
     "metadata": {},
     "output_type": "execute_result"
    },
    {
     "data": {
      "image/png": "[encoded data removed]",
      "text/plain": [
       "<Figure size 432x288 with 1 Axes>"
      ]
     },
     "metadata": {
      "needs_background": "light"
     },
     "output_type": "display_data"
    }
   ],
   "source": [
    "# Localizar as maiores incidências <0.5\n",
    "dfx['DIVIDEND YIELD'].loc[lambda x : (x > 0) & (x <= 0.5)].plot.hist()"
   ]
  },
  {
   "cell_type": "code",
   "execution_count": 28,
   "id": "e999324f",
   "metadata": {},
   "outputs": [
    {
     "data": {
      "text/plain": [
       "<AxesSubplot:ylabel='Frequency'>"
      ]
     },
     "execution_count": 28,
     "metadata": {},
     "output_type": "execute_result"
    },
    {
     "data": {
      "image/png": "[encoded data removed]",
      "text/plain": [
       "<Figure size 432x288 with 1 Axes>"
      ]
     },
     "metadata": {
      "needs_background": "light"
     },
     "output_type": "display_data"
    }
   ],
   "source": [
    "# Localizar as maiores incidências <0.5\n",
    "dfx['DIVIDEND YIELD'].loc[lambda x : (x > 0) & (x <= 0.2)].plot.hist()\n",
    "# Verificar % de Dividend Yeld == 0 (30.21%)\n",
    "#(271/897)*100"
   ]
  },
  {
   "cell_type": "code",
   "execution_count": 29,
   "id": "36a4eeee",
   "metadata": {},
   "outputs": [
    {
     "data": {
      "text/plain": [
       " 10.69    7\n",
       " 0.77     4\n",
       " 22.12    4\n",
       " 39.24    3\n",
       " 14.80    3\n",
       "         ..\n",
       " 15.62    1\n",
       " 54.74    1\n",
       "-4.36     1\n",
       " 12.05    1\n",
       "-1.10     1\n",
       "Name: CAGR LUCRO, Length: 376, dtype: int64"
      ]
     },
     "execution_count": 29,
     "metadata": {},
     "output_type": "execute_result"
    }
   ],
   "source": [
    "# Análise da variável CAGR (Temos valores negativos nesse caso)\n",
    "dfx['CAGR LUCRO'].value_counts()"
   ]
  },
  {
   "cell_type": "code",
   "execution_count": 30,
   "id": "72c02786",
   "metadata": {},
   "outputs": [
    {
     "data": {
      "text/plain": [
       "<AxesSubplot:ylabel='Frequency'>"
      ]
     },
     "execution_count": 30,
     "metadata": {},
     "output_type": "execute_result"
    },
    {
     "data": {
      "image/png": "[encoded data removed]",
      "text/plain": [
       "<Figure size 432x288 with 1 Axes>"
      ]
     },
     "metadata": {
      "needs_background": "light"
     },
     "output_type": "display_data"
    }
   ],
   "source": [
    "# Localizar as maiores incidências de CAGR \n",
    "dfx['CAGR LUCRO'].loc[lambda x : (x > -1.0) & (x <= 1.0)].plot.hist()"
   ]
  },
  {
   "cell_type": "code",
   "execution_count": 31,
   "id": "9e8cc20e",
   "metadata": {},
   "outputs": [
    {
     "data": {
      "text/plain": [
       "<AxesSubplot:ylabel='Frequency'>"
      ]
     },
     "execution_count": 31,
     "metadata": {},
     "output_type": "execute_result"
    },
    {
     "data": {
      "image/png": "[encoded data removed]",
      "text/plain": [
       "<Figure size 432x288 with 1 Axes>"
      ]
     },
     "metadata": {
      "needs_background": "light"
     },
     "output_type": "display_data"
    }
   ],
   "source": [
    "# Zoom na maior concentração de ocorrências de CAGR\n",
    "dfx['CAGR LUCRO'].loc[lambda x : (x > -0.25) & (x <= 0.2)].plot.hist()"
   ]
  },
  {
   "cell_type": "code",
   "execution_count": 32,
   "id": "172b0737",
   "metadata": {},
   "outputs": [
    {
     "data": {
      "text/plain": [
       "'#Overview dos dados (Atenção para as correlações)\\nProfileReport(dfx)'"
      ]
     },
     "execution_count": 32,
     "metadata": {},
     "output_type": "execute_result"
    }
   ],
   "source": [
    "'''#Overview dos dados (Atenção para as correlações)\n",
    "ProfileReport(dfx)'''"
   ]
  },
  {
   "cell_type": "code",
   "execution_count": 33,
   "id": "664b7632",
   "metadata": {},
   "outputs": [
    {
     "data": {
      "text/plain": [
       "\"# Converter a variável preditora em numérica\\ndfx['INVESTIR'] = dfx['INVESTIR'].replace('NÃO', 0)\\ndfx['INVESTIR'] = dfx['INVESTIR'].replace('SIM', 1)\\n# Converter para int e Verificar as alterações\\ndfx['INVESTIR'] = dfx['INVESTIR'].astype('int64')\\ndfx.info()\""
      ]
     },
     "execution_count": 33,
     "metadata": {},
     "output_type": "execute_result"
    }
   ],
   "source": [
    "'''# Converter a variável preditora em numérica\n",
    "dfx['INVESTIR'] = dfx['INVESTIR'].replace('NÃO', 0)\n",
    "dfx['INVESTIR'] = dfx['INVESTIR'].replace('SIM', 1)\n",
    "# Converter para int e Verificar as alterações\n",
    "dfx['INVESTIR'] = dfx['INVESTIR'].astype('int64')\n",
    "dfx.info()'''"
   ]
  },
  {
   "cell_type": "code",
   "execution_count": 34,
   "id": "e2e24ee6",
   "metadata": {},
   "outputs": [
    {
     "data": {
      "image/png": "[encoded data removed]",
      "text/plain": [
       "<Figure size 720x576 with 2 Axes>"
      ]
     },
     "metadata": {
      "needs_background": "light"
     },
     "output_type": "display_data"
    }
   ],
   "source": [
    "# Selecionar as colunas relevantes para a análise e realizar a matriz de correlação\n",
    "\n",
    "correlation_matrix = dfx.corr()\n",
    "\n",
    "plt.figure(figsize=(10, 8))\n",
    "\n",
    "sns.heatmap(correlation_matrix, annot=True, cmap='coolwarm')\n",
    "\n",
    "plt.show()"
   ]
  },
  {
   "cell_type": "code",
   "execution_count": 35,
   "id": "49f5902a",
   "metadata": {},
   "outputs": [
    {
     "data": {
      "text/html": [
       "<div>\n",
       "<style scoped>\n",
       "    .dataframe tbody tr th:only-of-type {\n",
       "        vertical-align: middle;\n",
       "    }\n",
       "\n",
       "    .dataframe tbody tr th {\n",
       "        vertical-align: top;\n",
       "    }\n",
       "\n",
       "    .dataframe thead th {\n",
       "        text-align: right;\n",
       "    }\n",
       "</style>\n",
       "<table border=\"1\" class=\"dataframe\">\n",
       "  <thead>\n",
       "    <tr style=\"text-align: right;\">\n",
       "      <th></th>\n",
       "      <th>SETOR</th>\n",
       "      <th>TIPO</th>\n",
       "      <th>SETOR.1</th>\n",
       "      <th>COTAÇÃO ATUAL</th>\n",
       "      <th>MINIMO</th>\n",
       "      <th>MAXIMO</th>\n",
       "      <th>DIVIDEND YIELD</th>\n",
       "      <th>LIQUIDEZ DIÁRIA</th>\n",
       "      <th>P/VP</th>\n",
       "      <th>CAGR LUCRO</th>\n",
       "      <th>PATRIMÔNIO LÍQUIDO</th>\n",
       "      <th>CAIXA</th>\n",
       "      <th>LUCRO</th>\n",
       "    </tr>\n",
       "  </thead>\n",
       "  <tbody>\n",
       "  </tbody>\n",
       "</table>\n",
       "</div>"
      ],
      "text/plain": [
       "Empty DataFrame\n",
       "Columns: [SETOR, TIPO, SETOR.1, COTAÇÃO ATUAL, MINIMO, MAXIMO, DIVIDEND YIELD, LIQUIDEZ DIÁRIA, P/VP, CAGR LUCRO, PATRIMÔNIO LÍQUIDO, CAIXA, LUCRO]\n",
       "Index: []"
      ]
     },
     "metadata": {},
     "output_type": "display_data"
    }
   ],
   "source": [
    "# Filtrar apenas ações para análise mais profunda\n",
    "df = dfx[dfx['TIPO'] == 'AÇÃO']\n",
    "display(df)"
   ]
  },
  {
   "cell_type": "code",
   "execution_count": 36,
   "id": "5546319e",
   "metadata": {},
   "outputs": [
    {
     "name": "stdout",
     "output_type": "stream",
     "text": [
      "<class 'pandas.core.frame.DataFrame'>\n",
      "Int64Index: 0 entries\n",
      "Data columns (total 13 columns):\n",
      " #   Column              Non-Null Count  Dtype  \n",
      "---  ------              --------------  -----  \n",
      " 0   SETOR               0 non-null      object \n",
      " 1   TIPO                0 non-null      object \n",
      " 2   SETOR.1             0 non-null      object \n",
      " 3   COTAÇÃO ATUAL       0 non-null      float64\n",
      " 4   MINIMO              0 non-null      float64\n",
      " 5   MAXIMO              0 non-null      float64\n",
      " 6   DIVIDEND YIELD      0 non-null      float64\n",
      " 7   LIQUIDEZ DIÁRIA     0 non-null      float64\n",
      " 8   P/VP                0 non-null      float64\n",
      " 9   CAGR LUCRO          0 non-null      float64\n",
      " 10  PATRIMÔNIO LÍQUIDO  0 non-null      float64\n",
      " 11  CAIXA               0 non-null      float64\n",
      " 12  LUCRO               0 non-null      float64\n",
      "dtypes: float64(10), object(3)\n",
      "memory usage: 0.0+ bytes\n"
     ]
    }
   ],
   "source": [
    "# Verificar os tipos de variáveis\n",
    "df.info()"
   ]
  },
  {
   "cell_type": "code",
   "execution_count": 37,
   "id": "35220b6b",
   "metadata": {},
   "outputs": [
    {
     "data": {
      "text/plain": [
       "Series([], dtype: int64)"
      ]
     },
     "execution_count": 37,
     "metadata": {},
     "output_type": "execute_result"
    }
   ],
   "source": [
    "#Visualização dos setores das ações\n",
    "df.value_counts(df['SETOR'])"
   ]
  },
  {
   "cell_type": "code",
   "execution_count": 38,
   "id": "e04bd0ee",
   "metadata": {},
   "outputs": [
    {
     "name": "stdout",
     "output_type": "stream",
     "text": [
      "Média da coluna 'DIVIDEND YIELD':\u001b[1;32m nan \u001b[m\n"
     ]
    }
   ],
   "source": [
    "#Filtrar ações por setor e obter a média de cada setor\n",
    "\n",
    "Uti_Púb = df[df['SETOR'] == 'Utilidade Pública']\n",
    "Bens_Ind = df[df['SETOR'] == 'Bens Industriais']\n",
    "Mat_Básico = df[df['SETOR'] == 'Materiais Básicos']\n",
    "Cons_Cíclico = df[df['SETOR'] == 'Consumo Cíclico']\n",
    "Cons_n_Cícl = df[df['SETOR'] == 'Consumo não Cíclico']\n",
    "Saúde = df[df['SETOR'] == 'Saúde']\n",
    "Fin_e_Outros = df[df['SETOR'] == 'Financeiro e Outros']\n",
    "Tec_da_Info = df[df['SETOR'] == 'Tecnologia da Informação']\n",
    "Petr_Gás_e_Biocomb = df[df['SETOR'] == 'Petróleo, Gás e Biocombustíveis']\n",
    "\n",
    "#lista para unir os DataFrames de cada setor\n",
    "ma=[]\n",
    "\n",
    "ma.append(Cons_Cíclico)\n",
    "ma.append(Fin_e_Outros)\n",
    "ma.append(Uti_Púb)\n",
    "ma.append(Bens_Ind)\n",
    "ma.append(Mat_Básico)\n",
    "ma.append(Cons_n_Cícl)\n",
    "ma.append(Saúde)\n",
    "ma.append(Tec_da_Info)\n",
    "ma.append(Petr_Gás_e_Biocomb)\n",
    "\n",
    "# lista com os nomes de cada setor (para faciltar)\n",
    "ma2=[]\n",
    "\n",
    "ma2.append('Cons_Cíclico')\n",
    "ma2.append('Fin_e_Outros')\n",
    "ma2.append('Uti_Púb')\n",
    "ma2.append('Bens_Ind')\n",
    "ma2.append('Mat_Básico')\n",
    "ma2.append('Cons_n_Cícl')\n",
    "ma2.append('Saúde')\n",
    "ma2.append('Tec_da_Info')\n",
    "ma2.append('Petr_Gás_e_Biocomb')\n",
    "\n",
    "dfa = pd.DataFrame(zip(ma))\n",
    "\n",
    "#display(ma)\n",
    "\n",
    "#média do dy\n",
    "media = Cons_Cíclico['DIVIDEND YIELD'].mean()\n",
    "print(\"Média da coluna 'DIVIDEND YIELD':\\033[1;32m\", media, '\\033[m')"
   ]
  },
  {
   "cell_type": "code",
   "execution_count": 39,
   "id": "8f3c4c9d",
   "metadata": {},
   "outputs": [
    {
     "name": "stdout",
     "output_type": "stream",
     "text": [
      "Média da coluna 'COTAÇÃO ATUAL' do setor Cons_Cíclico:\u001b[1;32m nan \u001b[m\n",
      "Média da coluna 'COTAÇÃO ATUAL' do setor Fin_e_Outros:\u001b[1;32m nan \u001b[m\n",
      "Média da coluna 'COTAÇÃO ATUAL' do setor Uti_Púb:\u001b[1;32m nan \u001b[m\n",
      "Média da coluna 'COTAÇÃO ATUAL' do setor Bens_Ind:\u001b[1;32m nan \u001b[m\n",
      "Média da coluna 'COTAÇÃO ATUAL' do setor Mat_Básico:\u001b[1;32m nan \u001b[m\n",
      "Média da coluna 'COTAÇÃO ATUAL' do setor Cons_n_Cícl:\u001b[1;32m nan \u001b[m\n",
      "Média da coluna 'COTAÇÃO ATUAL' do setor Saúde:\u001b[1;32m nan \u001b[m\n",
      "Média da coluna 'COTAÇÃO ATUAL' do setor Tec_da_Info:\u001b[1;32m nan \u001b[m\n",
      "Média da coluna 'COTAÇÃO ATUAL' do setor Petr_Gás_e_Biocomb:\u001b[1;32m nan \u001b[m\n"
     ]
    }
   ],
   "source": [
    "# Média de cotação por setor\n",
    "cont = 0\n",
    "for c in ma:\n",
    "    media = c['COTAÇÃO ATUAL'].mean()\n",
    "    #print(c)\n",
    "    print(\"Média da coluna 'COTAÇÃO ATUAL' do setor {}:\\033[1;32m\".format(ma2[cont]), media, '\\033[m')\n",
    "    cont += 1"
   ]
  },
  {
   "cell_type": "code",
   "execution_count": 40,
   "id": "f49c3360",
   "metadata": {},
   "outputs": [
    {
     "data": {
      "image/png": "[encoded data removed]",
      "text/plain": [
       "<Figure size 432x288 with 1 Axes>"
      ]
     },
     "metadata": {
      "needs_background": "light"
     },
     "output_type": "display_data"
    }
   ],
   "source": [
    "# Gráfico da média de Dividend Yield de ações\n",
    "\n",
    "import matplotlib.pyplot as plt\n",
    "\n",
    "cont = 0\n",
    "medias = []\n",
    "\n",
    "for c in ma:\n",
    "    # Verifique a estrutura dos dados e as colunas corretas\n",
    "    if 'DIVIDEND YIELD' in c:\n",
    "        media = c['DIVIDEND YIELD'].mean()\n",
    "        medias.append(media)\n",
    "    else:\n",
    "        medias.append(0)  # Trate o caso em que a coluna não existe ou não tem valores\n",
    "\n",
    "    cont += 1\n",
    "\n",
    "plt.bar(ma2, medias, width=0.5)\n",
    "plt.xlabel('Setor')\n",
    "#plt.ylabel('Média da coluna \"DIVIDEND YIELD\"')\n",
    "plt.title('Média da coluna \"DIVIDEND YIELD\" por setor')\n",
    "plt.xticks(rotation=45, ha='right')\n",
    "plt.ylim(top=0.170)\n",
    "plt.tight_layout()\n",
    "plt.subplots_adjust(bottom=0.2)  # Ajusta o espaço inferior para acomodar os rótulos\n",
    "\n",
    "plt.show()"
   ]
  },
  {
   "cell_type": "code",
   "execution_count": 41,
   "id": "8bbc2a76",
   "metadata": {},
   "outputs": [
    {
     "data": {
      "image/png": "[encoded data removed]",
      "text/plain": [
       "<Figure size 432x288 with 1 Axes>"
      ]
     },
     "metadata": {
      "needs_background": "light"
     },
     "output_type": "display_data"
    }
   ],
   "source": [
    "# Gráfico da média de Cotação atual de ações\n",
    "\n",
    "cont = 0\n",
    "medias = []\n",
    "\n",
    "for c in ma:\n",
    "    if 'COTAÇÃO ATUAL' in c:\n",
    "        media = c['COTAÇÃO ATUAL'].mean()\n",
    "        medias.append(media)\n",
    "    else:\n",
    "        medias.append(0)\n",
    "\n",
    "    cont += 1\n",
    "\n",
    "plt.bar(ma2, medias, width=0.5)\n",
    "plt.xlabel('Setor')\n",
    "#plt.ylabel('Média da coluna \"COTAÇÃO ATUAL\"')\n",
    "plt.title('Média da coluna \"COTAÇÃO ATUAL\" por setor')\n",
    "plt.xticks(rotation=45, ha='right')\n",
    "plt.ylim(top=175)\n",
    "plt.tight_layout()\n",
    "plt.subplots_adjust(bottom=0.2) \n",
    "plt.show()"
   ]
  },
  {
   "cell_type": "code",
   "execution_count": 42,
   "id": "7b1c12dc",
   "metadata": {},
   "outputs": [
    {
     "name": "stdout",
     "output_type": "stream",
     "text": [
      "<class 'pandas.core.frame.DataFrame'>\n",
      "Int64Index: 0 entries\n",
      "Data columns (total 13 columns):\n",
      " #   Column              Non-Null Count  Dtype  \n",
      "---  ------              --------------  -----  \n",
      " 0   SETOR               0 non-null      object \n",
      " 1   TIPO                0 non-null      object \n",
      " 2   SETOR.1             0 non-null      object \n",
      " 3   COTAÇÃO ATUAL       0 non-null      float64\n",
      " 4   MINIMO              0 non-null      float64\n",
      " 5   MAXIMO              0 non-null      float64\n",
      " 6   DIVIDEND YIELD      0 non-null      float64\n",
      " 7   LIQUIDEZ DIÁRIA     0 non-null      float64\n",
      " 8   P/VP                0 non-null      float64\n",
      " 9   CAGR LUCRO          0 non-null      float64\n",
      " 10  PATRIMÔNIO LÍQUIDO  0 non-null      float64\n",
      " 11  CAIXA               0 non-null      float64\n",
      " 12  LUCRO               0 non-null      float64\n",
      "dtypes: float64(10), object(3)\n",
      "memory usage: 0.0+ bytes\n"
     ]
    }
   ],
   "source": [
    "# Verificar se as variáveis estão no formato correto\n",
    "df.info()"
   ]
  },
  {
   "cell_type": "code",
   "execution_count": 43,
   "id": "44846c69",
   "metadata": {},
   "outputs": [],
   "source": [
    "#display(Híbrido)\n",
    "\n",
    "#Possíveis outliers\n",
    "#tirar ERCR11\n",
    "\n",
    "#display(Lajes_Corp)\n",
    "#tirar BLMO11, BBFI11B(analisar) "
   ]
  },
  {
   "cell_type": "code",
   "execution_count": 44,
   "id": "b9903c82",
   "metadata": {},
   "outputs": [
    {
     "data": {
      "image/png": "[encoded data removed]",
      "text/plain": [
       "<Figure size 432x288 with 1 Axes>"
      ]
     },
     "metadata": {
      "needs_background": "light"
     },
     "output_type": "display_data"
    }
   ],
   "source": [
    "#Gráfico da média de CAGR LUCRO de ações\n",
    "cont = 0\n",
    "medias = []\n",
    "\n",
    "for c in ma:\n",
    "    if 'CAGR LUCRO' in c:\n",
    "        media = c['CAGR LUCRO'].mean()\n",
    "        medias.append(media)\n",
    "    else:\n",
    "        medias.append(0)\n",
    "\n",
    "    cont += 1\n",
    "\n",
    "plt.bar(ma2, medias, width=0.5)\n",
    "plt.xlabel('Setor')\n",
    "plt.ylabel('Média da coluna \"CAGR LUCRO\"')\n",
    "plt.title('Média da coluna \"CAGR LUCRO\" por setor')\n",
    "plt.xticks(rotation=45, ha='right')\n",
    "plt.ylim(top=0.2)#, bottom=-0.20\n",
    "plt.tight_layout()\n",
    "plt.subplots_adjust(bottom=0.2)\n",
    "\n",
    "plt.show()"
   ]
  },
  {
   "cell_type": "code",
   "execution_count": 45,
   "id": "0763137a",
   "metadata": {},
   "outputs": [
    {
     "data": {
      "text/plain": [
       "<AxesSubplot:ylabel='Frequency'>"
      ]
     },
     "execution_count": 45,
     "metadata": {},
     "output_type": "execute_result"
    },
    {
     "data": {
      "image/png": "[encoded data removed]",
      "text/plain": [
       "<Figure size 432x288 with 1 Axes>"
      ]
     },
     "metadata": {
      "needs_background": "light"
     },
     "output_type": "display_data"
    }
   ],
   "source": [
    "# Localizar as maiores incidências de CAGR \n",
    "df['CAGR LUCRO'].loc[lambda x : (x > -1.0) & (x <= 1.0)].plot.hist()"
   ]
  },
  {
   "cell_type": "code",
   "execution_count": 46,
   "id": "e47b2530",
   "metadata": {},
   "outputs": [],
   "source": [
    "#Possíveis outliers\n",
    "\n",
    "#display(Cons_Cíclico)\n",
    "#tirar MYPK3\n",
    "\n",
    "#display(Uti_Púb)\n",
    "#tirar CPRE3, ENMT3, ENMT4\n",
    "\n",
    "#display(Mat_Básico)\n",
    "#tirar CSNA3\n",
    "\n",
    "#display(Tec_da_Info)\n",
    "#tirar BRQB3\n",
    "\n",
    "#display(Petr_Gás_e_Biocomb)\n",
    "#tirar PRIO3"
   ]
  },
  {
   "cell_type": "code",
   "execution_count": 47,
   "id": "8e291254",
   "metadata": {},
   "outputs": [
    {
     "data": {
      "image/png": "[encoded data removed]",
      "text/plain": [
       "<Figure size 432x288 with 1 Axes>"
      ]
     },
     "metadata": {
      "needs_background": "light"
     },
     "output_type": "display_data"
    }
   ],
   "source": [
    "# Gráfico de detalhamento de LIQUIDEZ DIÁRIA\n",
    "cont = 0\n",
    "medias = []\n",
    "\n",
    "for c in ma:\n",
    "    if 'LIQUIDEZ DIÁRIA' in c:\n",
    "        media = c['LIQUIDEZ DIÁRIA'].mean()\n",
    "        medias.append(media)\n",
    "    else:\n",
    "        medias.append(0)\n",
    "\n",
    "    cont += 1\n",
    "\n",
    "# Plotando o gráfico\n",
    "plt.bar(ma2, medias, width=0.5)\n",
    "plt.xlabel('Setor')\n",
    "plt.ylabel('Média da coluna \"LIQUIDEZ DIÁRIA\"')\n",
    "plt.title('Média da coluna \"LIQUIDEZ DIÁRIA\" por setor')\n",
    "plt.xticks(rotation=45, ha='right')\n",
    "#plt.ylim(top=1)#, bottom=-0.20\n",
    "plt.tight_layout()\n",
    "plt.subplots_adjust(bottom=0.2)\n",
    "\n",
    "plt.show()"
   ]
  },
  {
   "cell_type": "code",
   "execution_count": 48,
   "id": "7967a82c",
   "metadata": {},
   "outputs": [
    {
     "data": {
      "image/png": "[encoded data removed]",
      "text/plain": [
       "<Figure size 432x288 with 1 Axes>"
      ]
     },
     "metadata": {
      "needs_background": "light"
     },
     "output_type": "display_data"
    }
   ],
   "source": [
    "# Gráfico de detalhamento de P/VP por setor\n",
    "cont = 0\n",
    "medias = []\n",
    "\n",
    "for c in ma:\n",
    "    if 'P/VP' in c:\n",
    "        media = c['P/VP'].mean()\n",
    "        medias.append(media)\n",
    "    else:\n",
    "        medias.append(0)\n",
    "\n",
    "    cont += 1\n",
    "\n",
    "plt.bar(ma2, medias, width=0.5)\n",
    "plt.xlabel('Setor')\n",
    "plt.ylabel('Média da coluna \"P/VP\"')\n",
    "plt.title('Média da coluna \"P/VP\" por setor')\n",
    "plt.xticks(rotation=45, ha='right')\n",
    "#plt.ylim(top=25, bottom=-0.20)#\n",
    "plt.tight_layout()\n",
    "plt.subplots_adjust(bottom=0.2)\n",
    "\n",
    "plt.show()"
   ]
  },
  {
   "cell_type": "code",
   "execution_count": 49,
   "id": "534d865e",
   "metadata": {},
   "outputs": [],
   "source": [
    "#possíveis outliers\n",
    "\n",
    "#display(Fin_e_Outros)\n",
    "# tirar BTTL4, PPLA11, SPRT3B\n",
    "\n",
    "#display(Bens_Ind)\n",
    "#tirar BBML3, DTCY3, DTCY4, RCSL3, SHUL3, WEGE3, MYPK3\n",
    "\n",
    "#display(Uti_Púb)\n",
    "#tirar CPRE3, ENMT3, ENMT4\n",
    "\n",
    "#display(Mat_Básico)\n",
    "#tirar CSNA3\n",
    "\n",
    "#display(Tec_da_Info)\n",
    "#tirar BRQB3\n",
    "\n",
    "#display(Petr_Gás_e_Biocomb)\n",
    "#tirar PRIO3'''"
   ]
  },
  {
   "cell_type": "code",
   "execution_count": 50,
   "id": "af4e477f",
   "metadata": {},
   "outputs": [
    {
     "name": "stderr",
     "output_type": "stream",
     "text": [
      "C:\\Users\\elysi\\anaconda3\\lib\\site-packages\\seaborn\\matrix.py:194: RuntimeWarning: All-NaN slice encountered\n",
      "  vmin = np.nanmin(calc_data)\n",
      "C:\\Users\\elysi\\anaconda3\\lib\\site-packages\\seaborn\\matrix.py:199: RuntimeWarning: All-NaN slice encountered\n",
      "  vmax = np.nanmax(calc_data)\n"
     ]
    },
    {
     "data": {
      "image/png": "[encoded data removed]",
      "text/plain": [
       "<Figure size 720x576 with 2 Axes>"
      ]
     },
     "metadata": {
      "needs_background": "light"
     },
     "output_type": "display_data"
    }
   ],
   "source": [
    "# Calcular a matriz de correlação para entender quais as variáveis são mais relevantes filtrando apenas ações\n",
    "correlation_matrix = df.corr()\n",
    "\n",
    "plt.figure(figsize=(10, 8))\n",
    "\n",
    "sns.heatmap(correlation_matrix, annot=True, cmap='coolwarm')\n",
    "\n",
    "plt.show()\n"
   ]
  },
  {
   "cell_type": "code",
   "execution_count": 51,
   "id": "b677abf8",
   "metadata": {},
   "outputs": [
    {
     "data": {
      "text/html": [
       "<div>\n",
       "<style scoped>\n",
       "    .dataframe tbody tr th:only-of-type {\n",
       "        vertical-align: middle;\n",
       "    }\n",
       "\n",
       "    .dataframe tbody tr th {\n",
       "        vertical-align: top;\n",
       "    }\n",
       "\n",
       "    .dataframe thead th {\n",
       "        text-align: right;\n",
       "    }\n",
       "</style>\n",
       "<table border=\"1\" class=\"dataframe\">\n",
       "  <thead>\n",
       "    <tr style=\"text-align: right;\">\n",
       "      <th></th>\n",
       "      <th>SETOR</th>\n",
       "      <th>TIPO</th>\n",
       "      <th>SETOR.1</th>\n",
       "      <th>COTAÇÃO ATUAL</th>\n",
       "      <th>MINIMO</th>\n",
       "      <th>MAXIMO</th>\n",
       "      <th>DIVIDEND YIELD</th>\n",
       "      <th>LIQUIDEZ DIÁRIA</th>\n",
       "      <th>P/VP</th>\n",
       "      <th>CAGR LUCRO</th>\n",
       "      <th>PATRIMÔNIO LÍQUIDO</th>\n",
       "      <th>CAIXA</th>\n",
       "      <th>LUCRO</th>\n",
       "    </tr>\n",
       "  </thead>\n",
       "  <tbody>\n",
       "  </tbody>\n",
       "</table>\n",
       "</div>"
      ],
      "text/plain": [
       "Empty DataFrame\n",
       "Columns: [SETOR, TIPO, SETOR.1, COTAÇÃO ATUAL, MINIMO, MAXIMO, DIVIDEND YIELD, LIQUIDEZ DIÁRIA, P/VP, CAGR LUCRO, PATRIMÔNIO LÍQUIDO, CAIXA, LUCRO]\n",
       "Index: []"
      ]
     },
     "metadata": {},
     "output_type": "display_data"
    }
   ],
   "source": [
    "# Filtrar apenas fundos para análise mais profunda\n",
    "df2 = dfx[dfx['TIPO'] == 'FUNDO']\n",
    "display(df2)"
   ]
  },
  {
   "cell_type": "code",
   "execution_count": 52,
   "id": "514c1fb3",
   "metadata": {},
   "outputs": [
    {
     "data": {
      "text/plain": [
       "(0, 13)"
      ]
     },
     "execution_count": 52,
     "metadata": {},
     "output_type": "execute_result"
    }
   ],
   "source": [
    "#Verificar as dimensões dos dados\n",
    "df2.shape"
   ]
  },
  {
   "cell_type": "code",
   "execution_count": 53,
   "id": "22959f9d-b80e-4624-8268-002a16d4707f",
   "metadata": {},
   "outputs": [
    {
     "name": "stdout",
     "output_type": "stream",
     "text": [
      "<class 'pandas.core.frame.DataFrame'>\n",
      "Int64Index: 0 entries\n",
      "Data columns (total 13 columns):\n",
      " #   Column              Non-Null Count  Dtype  \n",
      "---  ------              --------------  -----  \n",
      " 0   SETOR               0 non-null      object \n",
      " 1   TIPO                0 non-null      object \n",
      " 2   SETOR.1             0 non-null      object \n",
      " 3   COTAÇÃO ATUAL       0 non-null      float64\n",
      " 4   MINIMO              0 non-null      float64\n",
      " 5   MAXIMO              0 non-null      float64\n",
      " 6   DIVIDEND YIELD      0 non-null      float64\n",
      " 7   LIQUIDEZ DIÁRIA     0 non-null      float64\n",
      " 8   P/VP                0 non-null      float64\n",
      " 9   CAGR LUCRO          0 non-null      float64\n",
      " 10  PATRIMÔNIO LÍQUIDO  0 non-null      float64\n",
      " 11  CAIXA               0 non-null      float64\n",
      " 12  LUCRO               0 non-null      float64\n",
      "dtypes: float64(10), object(3)\n",
      "memory usage: 0.0+ bytes\n"
     ]
    }
   ],
   "source": [
    "#Verificar os tipos dos dados para buscar e corrigir inconsistências\n",
    "df2.info()"
   ]
  },
  {
   "cell_type": "code",
   "execution_count": 54,
   "id": "71985cd8",
   "metadata": {},
   "outputs": [
    {
     "data": {
      "text/plain": [
       "Series([], dtype: int64)"
      ]
     },
     "execution_count": 54,
     "metadata": {},
     "output_type": "execute_result"
    }
   ],
   "source": [
    "#Entendendo melhor a variável \"Setor\" dos fundos imobiliários\n",
    "df2.value_counts(df2['SETOR'])"
   ]
  },
  {
   "cell_type": "code",
   "execution_count": 55,
   "id": "3de0998d",
   "metadata": {},
   "outputs": [],
   "source": [
    "#filtro dos fundos\n",
    "\n",
    "#setores fundos\n",
    "Tit_e_Val_Mob = df2[df2['SETOR'] == 'Títulos e Val. Mob.']\n",
    "Laj_Corp = df2[df2['SETOR'] == 'Lajes Corporativas']\n",
    "Hotel = df2[df2['SETOR'] == 'Hotel']\n",
    "Residencial = df2[df2['SETOR'] == 'Residencial']\n",
    "Hospital = df2[df2['SETOR'] == 'Hospital']\n",
    "Fiagro = df2[df2['SETOR'] == 'Fiagro']\n",
    "Shoppings = df2[df2['SETOR'] == 'Shoppings']\n",
    "Outros = df2[df2['SETOR'] == 'Outros']\n",
    "Hotel = df2[df2['SETOR'] == 'Logística']\n",
    "Renda = df2[df2['SETOR'] == 'Renda']\n",
    "Híbrido = df2[df2['SETOR'] == 'Híbrido']\n",
    "\n",
    "mf=[]\n",
    "mf.append(Tit_e_Val_Mob)\n",
    "mf.append(Laj_Corp)\n",
    "mf.append(Hotel)\n",
    "mf.append(Residencial)\n",
    "mf.append(Hospital)\n",
    "mf.append(Fiagro)\n",
    "mf.append(Shoppings)\n",
    "mf.append(Outros)\n",
    "mf.append(Hotel)\n",
    "mf.append(Renda)\n",
    "mf.append(Híbrido)\n",
    "\n",
    "mf2=[]\n",
    "\n",
    "mf2.append('Tit_e_Val_Mob')\n",
    "mf2.append('Laj_Corp')\n",
    "mf2.append('Hotel')\n",
    "mf2.append('Residencial')\n",
    "mf2.append('Hospital')\n",
    "mf2.append('Fiagro')\n",
    "mf2.append('Shoppings')\n",
    "mf2.append('Outros')\n",
    "mf2.append('Hotel')\n",
    "mf2.append('Renda')\n",
    "mf2.append('Híbrido')\n",
    "\n",
    "#display(mf)"
   ]
  },
  {
   "cell_type": "code",
   "execution_count": 56,
   "id": "d12e9b36",
   "metadata": {},
   "outputs": [
    {
     "data": {
      "image/png": "[encoded data removed]",
      "text/plain": [
       "<Figure size 432x288 with 1 Axes>"
      ]
     },
     "metadata": {
      "needs_background": "light"
     },
     "output_type": "display_data"
    }
   ],
   "source": [
    "#Detalhamento da categoria \"Cotação\"\n",
    "cont = 0\n",
    "medias = []\n",
    "\n",
    "for c in mf:\n",
    "    if 'COTAÇÃO ATUAL' in c:\n",
    "        media = c['COTAÇÃO ATUAL'].mean()\n",
    "        medias.append(media)\n",
    "    else:\n",
    "        medias.append(0)\n",
    "\n",
    "    cont += 1\n",
    "\n",
    "plt.bar(mf2, medias, width=0.5)\n",
    "plt.xlabel('Setor')\n",
    "#plt.ylabel('Média da coluna \"COTAÇÃO\"')\n",
    "plt.title('Média da coluna \"COTAÇÃO\" por setor')\n",
    "plt.xticks(rotation=45, ha='right')\n",
    "plt.ylim(top=800, bottom=0)\n",
    "plt.tight_layout()\n",
    "plt.subplots_adjust(bottom=0.2)\n",
    "\n",
    "plt.show()\n"
   ]
  },
  {
   "cell_type": "code",
   "execution_count": 57,
   "id": "2fa9c8a0",
   "metadata": {},
   "outputs": [],
   "source": [
    "# Possíveis outliars\n",
    "\n",
    "#display(Híbrido)\n",
    "#excluir STRX11, ERCR11"
   ]
  },
  {
   "cell_type": "code",
   "execution_count": 58,
   "id": "8f0e8fbc",
   "metadata": {},
   "outputs": [
    {
     "data": {
      "image/png": "[encoded data removed]",
      "text/plain": [
       "<Figure size 432x288 with 1 Axes>"
      ]
     },
     "metadata": {
      "needs_background": "light"
     },
     "output_type": "display_data"
    }
   ],
   "source": [
    "# Gráfico de detalhamento do DY\n",
    "cont = 0\n",
    "medias = []\n",
    "\n",
    "for c in mf:\n",
    "    if 'DIVIDEND YIELD' in c:\n",
    "        media = c['DIVIDEND YIELD'].mean()\n",
    "        medias.append(media)\n",
    "    else:\n",
    "        medias.append(0)\n",
    "\n",
    "    cont += 1\n",
    "\n",
    "# Plotando o gráfico\n",
    "plt.bar(mf2, medias, width=0.5)\n",
    "plt.xlabel('Setor')\n",
    "#plt.ylabel('Média da coluna \"DIVIDEND YIELD\"')\n",
    "plt.title('Média da coluna \"DIVIDEND YIELD\" por setor')\n",
    "plt.xticks(rotation=45, ha='right')\n",
    "plt.ylim(top=0.25)#, bottom=-0.20\n",
    "plt.tight_layout()\n",
    "plt.subplots_adjust(bottom=0.2)\n",
    "\n",
    "plt.show()"
   ]
  },
  {
   "cell_type": "code",
   "execution_count": 59,
   "id": "5f028b7e",
   "metadata": {},
   "outputs": [
    {
     "name": "stdout",
     "output_type": "stream",
     "text": [
      "Média da coluna 'CAGR LUCRO' do setor Tit_e_Val_Mob:\u001b[1;32m nan \u001b[m\n",
      "Média da coluna 'CAGR LUCRO' do setor Laj_Corp:\u001b[1;32m nan \u001b[m\n",
      "Média da coluna 'CAGR LUCRO' do setor Hotel:\u001b[1;32m nan \u001b[m\n",
      "Média da coluna 'CAGR LUCRO' do setor Residencial:\u001b[1;32m nan \u001b[m\n",
      "Média da coluna 'CAGR LUCRO' do setor Hospital:\u001b[1;32m nan \u001b[m\n",
      "Média da coluna 'CAGR LUCRO' do setor Fiagro:\u001b[1;32m nan \u001b[m\n",
      "Média da coluna 'CAGR LUCRO' do setor Shoppings:\u001b[1;32m nan \u001b[m\n",
      "Média da coluna 'CAGR LUCRO' do setor Outros:\u001b[1;32m nan \u001b[m\n",
      "Média da coluna 'CAGR LUCRO' do setor Hotel:\u001b[1;32m nan \u001b[m\n",
      "Média da coluna 'CAGR LUCRO' do setor Renda:\u001b[1;32m nan \u001b[m\n",
      "Média da coluna 'CAGR LUCRO' do setor Híbrido:\u001b[1;32m nan \u001b[m\n"
     ]
    }
   ],
   "source": [
    "# Média de cagr dos fundos\n",
    "cont = 0\n",
    "for c in mf:\n",
    "    media = c['CAGR LUCRO'].mean()\n",
    "    #print(c)\n",
    "    print(\"Média da coluna 'CAGR LUCRO' do setor {}:\\033[1;32m\".format(mf2[cont]), media, '\\033[m')\n",
    "    cont += 1\n",
    "\n",
    "# Nenhum setor de Fundos tem média de evolução do lucro positiva, o que representa um risco para os investimentos."
   ]
  },
  {
   "cell_type": "code",
   "execution_count": 60,
   "id": "ac0d2ce5",
   "metadata": {},
   "outputs": [
    {
     "data": {
      "image/png": "[encoded data removed]",
      "text/plain": [
       "<Figure size 432x288 with 1 Axes>"
      ]
     },
     "metadata": {
      "needs_background": "light"
     },
     "output_type": "display_data"
    }
   ],
   "source": [
    "# Detalhamento do CAGR por setor\n",
    "cont = 0\n",
    "medias = []\n",
    "\n",
    "for c in mf:\n",
    "    if 'CAGR LUCRO' in c:\n",
    "        media = c['CAGR LUCRO'].mean()\n",
    "        medias.append(media)\n",
    "    else:\n",
    "        medias.append(0)\n",
    "\n",
    "    cont += 1\n",
    "\n",
    "plt.bar(mf2, medias, width=0.5)\n",
    "plt.xlabel('Setor')\n",
    "#plt.ylabel('Média da coluna \"CAGR LUCRO\"')\n",
    "plt.title('Média da coluna \"CAGR LUCRO\" por setor')\n",
    "plt.xticks(rotation=45, ha='right')\n",
    "#plt.ylim(top=0.2)#, bottom=-0.20\n",
    "plt.tight_layout()\n",
    "plt.subplots_adjust(bottom=0.2)\n",
    "\n",
    "plt.show()"
   ]
  },
  {
   "cell_type": "code",
   "execution_count": 61,
   "id": "5e538763",
   "metadata": {},
   "outputs": [
    {
     "data": {
      "text/plain": [
       "<AxesSubplot:ylabel='Frequency'>"
      ]
     },
     "execution_count": 61,
     "metadata": {},
     "output_type": "execute_result"
    },
    {
     "data": {
      "image/png": "[encoded data removed]",
      "text/plain": [
       "<Figure size 432x288 with 1 Axes>"
      ]
     },
     "metadata": {
      "needs_background": "light"
     },
     "output_type": "display_data"
    }
   ],
   "source": [
    "# Localizar concentração de CAGR > 0\n",
    "df2['CAGR LUCRO'].loc[lambda x : (x > 0) & (x <= 1.0)].plot.hist()"
   ]
  },
  {
   "cell_type": "code",
   "execution_count": 62,
   "id": "f4bb013d",
   "metadata": {},
   "outputs": [
    {
     "data": {
      "text/plain": [
       "nan"
      ]
     },
     "metadata": {},
     "output_type": "display_data"
    },
    {
     "data": {
      "text/plain": [
       "(0, 13)"
      ]
     },
     "execution_count": 62,
     "metadata": {},
     "output_type": "execute_result"
    }
   ],
   "source": [
    "#FILTRAR O CAGR DOS FUNDOS PARA COMPREENDER A MÉDIA DE CAGR DE FUNDOS !=0\n",
    "cagr_melhores_f = df2[df2['CAGR LUCRO'] != 0] \n",
    "\n",
    "#Média do CAGR dos fundos, excluindo os valores 0\n",
    "display(cagr_melhores_f['CAGR LUCRO'].mean())\n",
    "cagr_melhores_f.shape"
   ]
  },
  {
   "cell_type": "code",
   "execution_count": 63,
   "id": "1a168095",
   "metadata": {},
   "outputs": [
    {
     "data": {
      "text/html": [
       "<div>\n",
       "<style scoped>\n",
       "    .dataframe tbody tr th:only-of-type {\n",
       "        vertical-align: middle;\n",
       "    }\n",
       "\n",
       "    .dataframe tbody tr th {\n",
       "        vertical-align: top;\n",
       "    }\n",
       "\n",
       "    .dataframe thead th {\n",
       "        text-align: right;\n",
       "    }\n",
       "</style>\n",
       "<table border=\"1\" class=\"dataframe\">\n",
       "  <thead>\n",
       "    <tr style=\"text-align: right;\">\n",
       "      <th></th>\n",
       "      <th>SETOR</th>\n",
       "      <th>TIPO</th>\n",
       "      <th>SETOR.1</th>\n",
       "      <th>COTAÇÃO ATUAL</th>\n",
       "      <th>MINIMO</th>\n",
       "      <th>MAXIMO</th>\n",
       "      <th>DIVIDEND YIELD</th>\n",
       "      <th>LIQUIDEZ DIÁRIA</th>\n",
       "      <th>P/VP</th>\n",
       "      <th>CAGR LUCRO</th>\n",
       "      <th>PATRIMÔNIO LÍQUIDO</th>\n",
       "      <th>CAIXA</th>\n",
       "      <th>LUCRO</th>\n",
       "    </tr>\n",
       "  </thead>\n",
       "  <tbody>\n",
       "  </tbody>\n",
       "</table>\n",
       "</div>"
      ],
      "text/plain": [
       "Empty DataFrame\n",
       "Columns: [SETOR, TIPO, SETOR.1, COTAÇÃO ATUAL, MINIMO, MAXIMO, DIVIDEND YIELD, LIQUIDEZ DIÁRIA, P/VP, CAGR LUCRO, PATRIMÔNIO LÍQUIDO, CAIXA, LUCRO]\n",
       "Index: []"
      ]
     },
     "metadata": {},
     "output_type": "display_data"
    }
   ],
   "source": [
    "#Visualizar o setor com maior ocorrências em detalhes\n",
    "display(Outros)"
   ]
  },
  {
   "cell_type": "code",
   "execution_count": 64,
   "id": "e5806e05",
   "metadata": {},
   "outputs": [
    {
     "data": {
      "image/png": "[encoded data removed]",
      "text/plain": [
       "<Figure size 432x288 with 1 Axes>"
      ]
     },
     "metadata": {
      "needs_background": "light"
     },
     "output_type": "display_data"
    }
   ],
   "source": [
    "# DETALHE DE LIQUIDEZ DIÁRIA POR SETOR\n",
    "cont = 0\n",
    "medias = []\n",
    "\n",
    "for c in mf:\n",
    "    if 'LIQUIDEZ DIÁRIA' in c:\n",
    "        media = c['LIQUIDEZ DIÁRIA'].mean()\n",
    "        medias.append(media)\n",
    "    else:\n",
    "        medias.append(0)\n",
    "\n",
    "    cont += 1\n",
    "\n",
    "plt.bar(mf2, medias, width=0.5)\n",
    "plt.xlabel('Setor')\n",
    "plt.ylabel('Média da coluna \"LIQUIDEZ DIÁRIA\"')\n",
    "plt.title('Média da coluna \"LIQUIDEZ DIÁRIA\" por setor')\n",
    "plt.xticks(rotation=45, ha='right')\n",
    "#plt.ylim(top=10000000)#, bottom=-0.20\n",
    "plt.tight_layout()\n",
    "plt.subplots_adjust(bottom=0.2)\n",
    "\n",
    "plt.show()"
   ]
  },
  {
   "cell_type": "code",
   "execution_count": 65,
   "id": "4abd0178",
   "metadata": {},
   "outputs": [
    {
     "data": {
      "image/png": "[encoded data removed]",
      "text/plain": [
       "<Figure size 432x288 with 1 Axes>"
      ]
     },
     "metadata": {
      "needs_background": "light"
     },
     "output_type": "display_data"
    }
   ],
   "source": [
    "# GRÁFICO DE P/VP POR SETOR\n",
    "\n",
    "cont = 0\n",
    "medias = []\n",
    "\n",
    "for c in mf:\n",
    "    if 'P/VP' in c:\n",
    "        media = c['P/VP'].mean()\n",
    "        medias.append(media)\n",
    "    else:\n",
    "        medias.append(0)\n",
    "\n",
    "    cont += 1\n",
    "\n",
    "plt.bar(mf2, medias, width=0.5)\n",
    "plt.xlabel('Setor')\n",
    "plt.ylabel('Média da coluna \"P/VP\"')\n",
    "plt.title('Média da coluna \"P/VP\" por setor')\n",
    "plt.xticks(rotation=45, ha='right')\n",
    "plt.ylim(top=1.5)#, bottom=-0.20\n",
    "plt.tight_layout()\n",
    "plt.subplots_adjust(bottom=0.2)\n",
    "\n",
    "plt.show()"
   ]
  },
  {
   "cell_type": "code",
   "execution_count": 66,
   "id": "71a2c2d5",
   "metadata": {},
   "outputs": [
    {
     "data": {
      "text/plain": [
       "\"atributo_filtro = []\\n\\n\\ndef analise(varpred, atributo):\\n    for valor in varpred[atributo]:\\n        if atributo == 'DIVIDEND YIELD':\\n            if valor > 0.06:\\n                atributo_filtro.append('Sim')\\n            else:\\n                atributo_filtro.append('Não')\\n                \\n        elif atributo == 'LIQUIDEZ DIÁRIA':\\n            if valor > 1000000:\\n                atributo_filtro.append('Sim')\\n            else:\\n                atributo_filtro.append('Não')\\n                \\n        elif atributo == 'P/VP':\\n            if valor < 1.2 and valor > 0.3:\\n                atributo_filtro.append('Sim')\\n            else:\\n                atributo_filtro.append('Não')\\n                \\n        elif atributo == 'CAGR LUCRO':\\n            if valor > 0.05:\\n                atributo_filtro.append('Sim')\\n            else:\\n                atributo_filtro.append('Não')\\n            \\n    varpred['analise',atributo] = atributo_filtro\\n    print(varpred.value_counts(varpred['analise', atributo]))\\n    display(varpred)\\n    \\nanalise(dfx, 'CAGR LUCRO')\""
      ]
     },
     "execution_count": 66,
     "metadata": {},
     "output_type": "execute_result"
    }
   ],
   "source": [
    "#Criação da variável preditora em python ( NÃO SERÁ MAIS NECESSÁRIO PORQUE CONVERTEMOS A VARIÁVEL PREDITORA EM 0 E 1)\n",
    "'''atributo_filtro = []\n",
    "\n",
    "\n",
    "def analise(varpred, atributo):\n",
    "    for valor in varpred[atributo]:\n",
    "        if atributo == 'DIVIDEND YIELD':\n",
    "            if valor > 0.06:\n",
    "                atributo_filtro.append('Sim')\n",
    "            else:\n",
    "                atributo_filtro.append('Não')\n",
    "                \n",
    "        elif atributo == 'LIQUIDEZ DIÁRIA':\n",
    "            if valor > 1000000:\n",
    "                atributo_filtro.append('Sim')\n",
    "            else:\n",
    "                atributo_filtro.append('Não')\n",
    "                \n",
    "        elif atributo == 'P/VP':\n",
    "            if valor < 1.2 and valor > 0.3:\n",
    "                atributo_filtro.append('Sim')\n",
    "            else:\n",
    "                atributo_filtro.append('Não')\n",
    "                \n",
    "        elif atributo == 'CAGR LUCRO':\n",
    "            if valor > 0.05:\n",
    "                atributo_filtro.append('Sim')\n",
    "            else:\n",
    "                atributo_filtro.append('Não')\n",
    "            \n",
    "    varpred['analise',atributo] = atributo_filtro\n",
    "    print(varpred.value_counts(varpred['analise', atributo]))\n",
    "    display(varpred)\n",
    "    \n",
    "analise(dfx, 'CAGR LUCRO')'''"
   ]
  },
  {
   "cell_type": "code",
   "execution_count": 67,
   "id": "dcc22fe7",
   "metadata": {},
   "outputs": [
    {
     "name": "stderr",
     "output_type": "stream",
     "text": [
      "C:\\Users\\elysi\\anaconda3\\lib\\site-packages\\seaborn\\matrix.py:194: RuntimeWarning: All-NaN slice encountered\n",
      "  vmin = np.nanmin(calc_data)\n",
      "C:\\Users\\elysi\\anaconda3\\lib\\site-packages\\seaborn\\matrix.py:199: RuntimeWarning: All-NaN slice encountered\n",
      "  vmax = np.nanmax(calc_data)\n"
     ]
    },
    {
     "data": {
      "image/png": "[encoded data removed]",
      "text/plain": [
       "<Figure size 720x576 with 2 Axes>"
      ]
     },
     "metadata": {
      "needs_background": "light"
     },
     "output_type": "display_data"
    }
   ],
   "source": [
    "# Calcular a matriz de correlação para entender quais as variáveis são mais relevantes (LUCRO = 0 NA MAIOR PARTE DAS INSTÂNCIAS)\n",
    "correlation_matrix = df2.corr()\n",
    "\n",
    "plt.figure(figsize=(10, 8))\n",
    "\n",
    "sns.heatmap(correlation_matrix, annot=True, cmap='coolwarm')\n",
    "\n",
    "plt.show()\n"
   ]
  },
  {
   "cell_type": "code",
   "execution_count": 68,
   "id": "6bd800de",
   "metadata": {},
   "outputs": [
    {
     "data": {
      "text/plain": [
       "Series([], Name: LUCRO, dtype: int64)"
      ]
     },
     "execution_count": 68,
     "metadata": {},
     "output_type": "execute_result"
    }
   ],
   "source": [
    "# Contar as instâncias da variável (Lucro)\n",
    "df2['LUCRO'].value_counts()"
   ]
  },
  {
   "cell_type": "code",
   "execution_count": 69,
   "id": "872a28d4",
   "metadata": {},
   "outputs": [],
   "source": [
    "# Redução do dataset para preparação dos modelos\n",
    "\n",
    "df1 = dfx[['DIVIDEND YIELD', 'LIQUIDEZ DIÁRIA', 'P/VP', 'CAGR LUCRO']]#, 'INVESTIR'\n",
    "\n",
    "#display(df1)\n"
   ]
  },
  {
   "cell_type": "code",
   "execution_count": 70,
   "id": "c05518ac",
   "metadata": {},
   "outputs": [
    {
     "data": {
      "text/html": [
       "<div>\n",
       "<style scoped>\n",
       "    .dataframe tbody tr th:only-of-type {\n",
       "        vertical-align: middle;\n",
       "    }\n",
       "\n",
       "    .dataframe tbody tr th {\n",
       "        vertical-align: top;\n",
       "    }\n",
       "\n",
       "    .dataframe thead th {\n",
       "        text-align: right;\n",
       "    }\n",
       "</style>\n",
       "<table border=\"1\" class=\"dataframe\">\n",
       "  <thead>\n",
       "    <tr style=\"text-align: right;\">\n",
       "      <th></th>\n",
       "      <th>DIVIDEND YIELD</th>\n",
       "      <th>LIQUIDEZ DIÁRIA</th>\n",
       "      <th>P/VP</th>\n",
       "      <th>CAGR LUCRO</th>\n",
       "    </tr>\n",
       "  </thead>\n",
       "  <tbody>\n",
       "    <tr>\n",
       "      <th>count</th>\n",
       "      <td>1036.000000</td>\n",
       "      <td>7.910000e+02</td>\n",
       "      <td>9.320000e+02</td>\n",
       "      <td>495.000000</td>\n",
       "    </tr>\n",
       "    <tr>\n",
       "      <th>mean</th>\n",
       "      <td>9.706805</td>\n",
       "      <td>2.824111e+07</td>\n",
       "      <td>-1.848003e+03</td>\n",
       "      <td>7.549980</td>\n",
       "    </tr>\n",
       "    <tr>\n",
       "      <th>std</th>\n",
       "      <td>101.116872</td>\n",
       "      <td>1.240741e+08</td>\n",
       "      <td>5.671631e+04</td>\n",
       "      <td>29.960537</td>\n",
       "    </tr>\n",
       "    <tr>\n",
       "      <th>min</th>\n",
       "      <td>0.000000</td>\n",
       "      <td>2.500000e+00</td>\n",
       "      <td>-1.731457e+06</td>\n",
       "      <td>-66.310000</td>\n",
       "    </tr>\n",
       "    <tr>\n",
       "      <th>25%</th>\n",
       "      <td>0.000000</td>\n",
       "      <td>3.289473e+04</td>\n",
       "      <td>6.600000e-01</td>\n",
       "      <td>-6.555000</td>\n",
       "    </tr>\n",
       "    <tr>\n",
       "      <th>50%</th>\n",
       "      <td>2.385000</td>\n",
       "      <td>3.387892e+05</td>\n",
       "      <td>9.700000e-01</td>\n",
       "      <td>2.800000</td>\n",
       "    </tr>\n",
       "    <tr>\n",
       "      <th>75%</th>\n",
       "      <td>8.927500</td>\n",
       "      <td>4.299667e+06</td>\n",
       "      <td>1.442500e+00</td>\n",
       "      <td>21.030000</td>\n",
       "    </tr>\n",
       "    <tr>\n",
       "      <th>max</th>\n",
       "      <td>2762.620000</td>\n",
       "      <td>2.032931e+09</td>\n",
       "      <td>4.008090e+03</td>\n",
       "      <td>195.340000</td>\n",
       "    </tr>\n",
       "  </tbody>\n",
       "</table>\n",
       "</div>"
      ],
      "text/plain": [
       "       DIVIDEND YIELD  LIQUIDEZ DIÁRIA          P/VP  CAGR LUCRO\n",
       "count     1036.000000     7.910000e+02  9.320000e+02  495.000000\n",
       "mean         9.706805     2.824111e+07 -1.848003e+03    7.549980\n",
       "std        101.116872     1.240741e+08  5.671631e+04   29.960537\n",
       "min          0.000000     2.500000e+00 -1.731457e+06  -66.310000\n",
       "25%          0.000000     3.289473e+04  6.600000e-01   -6.555000\n",
       "50%          2.385000     3.387892e+05  9.700000e-01    2.800000\n",
       "75%          8.927500     4.299667e+06  1.442500e+00   21.030000\n",
       "max       2762.620000     2.032931e+09  4.008090e+03  195.340000"
      ]
     },
     "execution_count": 70,
     "metadata": {},
     "output_type": "execute_result"
    }
   ],
   "source": [
    "## Resumo Estatistico antes da remoção de outliers\n",
    "df1.describe()\n",
    "\n",
    "# A Princípio notamos uma amplitude muito elevada e, por consequência um Std muito elevado também. \n",
    "# Outro ponto que chama a atenção é a média de P/VP -13.89 (valor muito baixo, possível outlier puxando a média para baixo)"
   ]
  },
  {
   "cell_type": "code",
   "execution_count": 71,
   "id": "51d93255",
   "metadata": {},
   "outputs": [
    {
     "name": "stderr",
     "output_type": "stream",
     "text": [
      "<ipython-input-71-bdc639359618>:8: SettingWithCopyWarning: \n",
      "A value is trying to be set on a copy of a slice from a DataFrame.\n",
      "Try using .loc[row_indexer,col_indexer] = value instead\n",
      "\n",
      "See the caveats in the documentation: https://pandas.pydata.org/pandas-docs/stable/user_guide/indexing.html#returning-a-view-versus-a-copy\n",
      "  df1[column_name] = scaler.fit_transform(df1[[column_name]])\n"
     ]
    }
   ],
   "source": [
    "#Normailizar apenas a coluna 'LIQUIDEZ DIÁRIA', porque nela não há valor abaixo de zero e os valores exorbitantes não devem ser \n",
    "# considerados outlier. Vimos na análise exploratória que os valores dessa coluna podem ser altos devido ao setor de Petróleo e gás\n",
    "\n",
    "from sklearn.preprocessing import MinMaxScaler\n",
    "\n",
    "def normalize_column(df1, column_name):\n",
    "    scaler = MinMaxScaler(feature_range=(0, 1))\n",
    "    df1[column_name] = scaler.fit_transform(df1[[column_name]])\n",
    "    return df1\n",
    "\n",
    "# Exemplo de uso\n",
    "df_normalized = normalize_column(df1, 'LIQUIDEZ DIÁRIA')"
   ]
  },
  {
   "cell_type": "code",
   "execution_count": 72,
   "id": "d4515853",
   "metadata": {},
   "outputs": [
    {
     "name": "stdout",
     "output_type": "stream",
     "text": [
      "      DIVIDEND YIELD  LIQUIDEZ DIÁRIA  P/VP  CAGR LUCRO\n",
      "0               0.00         0.002973  3.11         NaN\n",
      "1               8.64         0.009104  0.78       12.65\n",
      "2               5.13         0.156660  2.75       15.19\n",
      "3               0.00              NaN -1.29         NaN\n",
      "4               0.00         0.004683  1.21         NaN\n",
      "...              ...              ...   ...         ...\n",
      "1031           11.47         0.000134  0.32      -38.06\n",
      "1032           11.01         0.000335  0.98       -4.88\n",
      "1033            2.61         0.000002  0.98         NaN\n",
      "1034            7.91         0.000096  1.00         NaN\n",
      "1035            0.00         0.000006  0.83         NaN\n",
      "\n",
      "[1036 rows x 4 columns]\n"
     ]
    }
   ],
   "source": [
    "# Notamos valores estranhos no P/VP. Valores muito negativos indicam que a empresa não é uma boa opção de investimento, \n",
    "# logo não há problema em ser desconsiderada no dataset. \n",
    "print(df_normalized)"
   ]
  },
  {
   "cell_type": "code",
   "execution_count": 73,
   "id": "552959cc",
   "metadata": {},
   "outputs": [
    {
     "data": {
      "text/html": [
       "<div>\n",
       "<style scoped>\n",
       "    .dataframe tbody tr th:only-of-type {\n",
       "        vertical-align: middle;\n",
       "    }\n",
       "\n",
       "    .dataframe tbody tr th {\n",
       "        vertical-align: top;\n",
       "    }\n",
       "\n",
       "    .dataframe thead th {\n",
       "        text-align: right;\n",
       "    }\n",
       "</style>\n",
       "<table border=\"1\" class=\"dataframe\">\n",
       "  <thead>\n",
       "    <tr style=\"text-align: right;\">\n",
       "      <th></th>\n",
       "      <th>DIVIDEND YIELD</th>\n",
       "      <th>LIQUIDEZ DIÁRIA</th>\n",
       "      <th>P/VP</th>\n",
       "      <th>CAGR LUCRO</th>\n",
       "    </tr>\n",
       "  </thead>\n",
       "  <tbody>\n",
       "    <tr>\n",
       "      <th>count</th>\n",
       "      <td>1036.000000</td>\n",
       "      <td>791.000000</td>\n",
       "      <td>9.320000e+02</td>\n",
       "      <td>495.000000</td>\n",
       "    </tr>\n",
       "    <tr>\n",
       "      <th>mean</th>\n",
       "      <td>9.706805</td>\n",
       "      <td>0.013892</td>\n",
       "      <td>-1.848003e+03</td>\n",
       "      <td>7.549980</td>\n",
       "    </tr>\n",
       "    <tr>\n",
       "      <th>std</th>\n",
       "      <td>101.116872</td>\n",
       "      <td>0.061032</td>\n",
       "      <td>5.671631e+04</td>\n",
       "      <td>29.960537</td>\n",
       "    </tr>\n",
       "    <tr>\n",
       "      <th>min</th>\n",
       "      <td>0.000000</td>\n",
       "      <td>0.000000</td>\n",
       "      <td>-1.731457e+06</td>\n",
       "      <td>-66.310000</td>\n",
       "    </tr>\n",
       "    <tr>\n",
       "      <th>25%</th>\n",
       "      <td>0.000000</td>\n",
       "      <td>0.000016</td>\n",
       "      <td>6.600000e-01</td>\n",
       "      <td>-6.555000</td>\n",
       "    </tr>\n",
       "    <tr>\n",
       "      <th>50%</th>\n",
       "      <td>2.385000</td>\n",
       "      <td>0.000167</td>\n",
       "      <td>9.700000e-01</td>\n",
       "      <td>2.800000</td>\n",
       "    </tr>\n",
       "    <tr>\n",
       "      <th>75%</th>\n",
       "      <td>8.927500</td>\n",
       "      <td>0.002115</td>\n",
       "      <td>1.442500e+00</td>\n",
       "      <td>21.030000</td>\n",
       "    </tr>\n",
       "    <tr>\n",
       "      <th>max</th>\n",
       "      <td>2762.620000</td>\n",
       "      <td>1.000000</td>\n",
       "      <td>4.008090e+03</td>\n",
       "      <td>195.340000</td>\n",
       "    </tr>\n",
       "  </tbody>\n",
       "</table>\n",
       "</div>"
      ],
      "text/plain": [
       "       DIVIDEND YIELD  LIQUIDEZ DIÁRIA          P/VP  CAGR LUCRO\n",
       "count     1036.000000       791.000000  9.320000e+02  495.000000\n",
       "mean         9.706805         0.013892 -1.848003e+03    7.549980\n",
       "std        101.116872         0.061032  5.671631e+04   29.960537\n",
       "min          0.000000         0.000000 -1.731457e+06  -66.310000\n",
       "25%          0.000000         0.000016  6.600000e-01   -6.555000\n",
       "50%          2.385000         0.000167  9.700000e-01    2.800000\n",
       "75%          8.927500         0.002115  1.442500e+00   21.030000\n",
       "max       2762.620000         1.000000  4.008090e+03  195.340000"
      ]
     },
     "execution_count": 73,
     "metadata": {},
     "output_type": "execute_result"
    }
   ],
   "source": [
    "# Resumo estatistico do df normalizado\n",
    "df_normalized.describe()"
   ]
  },
  {
   "cell_type": "code",
   "execution_count": 74,
   "id": "2dec3996",
   "metadata": {},
   "outputs": [
    {
     "data": {
      "image/png": "[encoded data removed]",
      "text/plain": [
       "<Figure size 576x432 with 1 Axes>"
      ]
     },
     "metadata": {
      "needs_background": "light"
     },
     "output_type": "display_data"
    }
   ],
   "source": [
    "#Ver a distribuição inicial numa boxplot\n",
    "\n",
    "import matplotlib.pyplot as plt\n",
    "\n",
    "#box plot\n",
    "plt.figure(figsize=(8, 6))\n",
    "plt.boxplot([df_normalized['DIVIDEND YIELD'], df_normalized['LIQUIDEZ DIÁRIA'], df_normalized['P/VP'], df_normalized['CAGR LUCRO']])\n",
    "plt.xticks([1, 2, 3, 4], ['DIVIDEND YIELD', 'LIQUIDEZ DIÁRIA', 'P/VP', 'CAGR LUCRO'])\n",
    "plt.title('Box Plot das Variáveis')\n",
    "plt.xlabel('Variáveis')\n",
    "plt.ylabel('Valores')\n",
    "plt.show()"
   ]
  },
  {
   "cell_type": "code",
   "execution_count": 75,
   "id": "c096cba4",
   "metadata": {},
   "outputs": [
    {
     "data": {
      "text/plain": [
       "'Q1 = df_normalized.quantile(0.25)\\nQ3 = df_normalized.quantile(0.75)\\nIQR = Q3 - Q1\\ndf_final = df_normalized[~((df_normalized < (Q1 - 1.5 * IQR)) | (df_normalized > (Q3 + 1.5 * IQR)))]\\n\\ndisplay(df_final)'"
      ]
     },
     "execution_count": 75,
     "metadata": {},
     "output_type": "execute_result"
    }
   ],
   "source": [
    "#Remoção de outlier Método IQR \n",
    "\n",
    "'''Q1 = df_normalized.quantile(0.25)\n",
    "Q3 = df_normalized.quantile(0.75)\n",
    "IQR = Q3 - Q1\n",
    "df_final = df_normalized[~((df_normalized < (Q1 - 1.5 * IQR)) | (df_normalized > (Q3 + 1.5 * IQR)))]\n",
    "\n",
    "display(df_final)'''\n",
    "# O método não removeu nenhum valor, por isso não parece ser viável"
   ]
  },
  {
   "cell_type": "code",
   "execution_count": 76,
   "id": "cfa8cc67",
   "metadata": {},
   "outputs": [
    {
     "data": {
      "text/plain": [
       "\"def remove_outlier_Hampel(df_normalized):\\n    for column in ['DIVIDEND YIELD', 'LIQUIDEZ DIÁRIA', 'P/VP', 'CAGR LUCRO']:\\n        med = df_normalized[column].median()\\n        List = abs(df_normalized[column] - med)\\n        cond = List.median() * 4.5\\n        df_normalized = df_normalized[~(List > cond)]\\n    return df_normalized\\n\\n\\n# Remove outliers utilizando a função remove_outlier_Hampel\\ndf_cleaned = remove_outlier_Hampel(df_normalized)\\n\\n# Criar o box plot com as variáveis desejadas\\nimport seaborn as sns\\nimport matplotlib.pyplot as plt\\n\\n# Remoção de outliers\\ndf_cleaned = remove_outlier_Hampel(df_normalized)\\n\\n# Criação do boxplot\\nplt.figure(figsize=(8, 6))\\nsns.boxplot(data=df_cleaned[['DIVIDEND YIELD', 'LIQUIDEZ DIÁRIA', 'P/VP', 'CAGR LUCRO']])\\nplt.xticks(rotation=90)\\nplt.xlabel('Variáveis')\\nplt.ylabel('Valores')\\nplt.title('Boxplot das Variáveis')\\nplt.show()\\ndf_cleaned.describe()\""
      ]
     },
     "execution_count": 76,
     "metadata": {},
     "output_type": "execute_result"
    }
   ],
   "source": [
    "# Método hampel\n",
    "\n",
    "'''def remove_outlier_Hampel(df_normalized):\n",
    "    for column in ['DIVIDEND YIELD', 'LIQUIDEZ DIÁRIA', 'P/VP', 'CAGR LUCRO']:\n",
    "        med = df_normalized[column].median()\n",
    "        List = abs(df_normalized[column] - med)\n",
    "        cond = List.median() * 4.5\n",
    "        df_normalized = df_normalized[~(List > cond)]\n",
    "    return df_normalized\n",
    "\n",
    "\n",
    "# Remove outliers utilizando a função remove_outlier_Hampel\n",
    "df_cleaned = remove_outlier_Hampel(df_normalized)\n",
    "\n",
    "# Criar o box plot com as variáveis desejadas\n",
    "import seaborn as sns\n",
    "import matplotlib.pyplot as plt\n",
    "\n",
    "# Remoção de outliers\n",
    "df_cleaned = remove_outlier_Hampel(df_normalized)\n",
    "\n",
    "# Criação do boxplot\n",
    "plt.figure(figsize=(8, 6))\n",
    "sns.boxplot(data=df_cleaned[['DIVIDEND YIELD', 'LIQUIDEZ DIÁRIA', 'P/VP', 'CAGR LUCRO']])\n",
    "plt.xticks(rotation=90)\n",
    "plt.xlabel('Variáveis')\n",
    "plt.ylabel('Valores')\n",
    "plt.title('Boxplot das Variáveis')\n",
    "plt.show()\n",
    "df_cleaned.describe()'''\n",
    "\n",
    "# Método hampel deixou apenas 252 instâncias, o que entendemos ser um número baixo para trabalhar"
   ]
  },
  {
   "cell_type": "code",
   "execution_count": 77,
   "id": "9655e946",
   "metadata": {},
   "outputs": [],
   "source": [
    "#Remover outliers com função específica\n",
    "\n",
    "def remove_rows(df1):\n",
    "    condition = (df1['DIVIDEND YIELD'] > 1) | (df1['P/VP'] > 2) | (df1['P/VP'] < -0.5) | (df1['CAGR LUCRO'] > 2) | (df1['CAGR LUCRO'] < -1)\n",
    "    df_filtered = df1[~condition]\n",
    "    return df_filtered\n",
    "# Restaram 736 variáveis, esta é a melhor opção para remoção de outliers"
   ]
  },
  {
   "cell_type": "code",
   "execution_count": 78,
   "id": "54f5f4c7",
   "metadata": {},
   "outputs": [
    {
     "name": "stdout",
     "output_type": "stream",
     "text": [
      "<class 'pandas.core.frame.DataFrame'>\n",
      "Int64Index: 271 entries, 4 to 1035\n",
      "Data columns (total 4 columns):\n",
      " #   Column           Non-Null Count  Dtype  \n",
      "---  ------           --------------  -----  \n",
      " 0   DIVIDEND YIELD   271 non-null    float64\n",
      " 1   LIQUIDEZ DIÁRIA  127 non-null    float64\n",
      " 2   P/VP             173 non-null    float64\n",
      " 3   CAGR LUCRO       2 non-null      float64\n",
      "dtypes: float64(4)\n",
      "memory usage: 10.6 KB\n"
     ]
    }
   ],
   "source": [
    "#Exibir o dataset reduzido (161 estâncias retiradas)\n",
    "df_final = remove_rows(df1)\n",
    "df_final.info()"
   ]
  },
  {
   "cell_type": "code",
   "execution_count": 79,
   "id": "7af7d4ea",
   "metadata": {},
   "outputs": [
    {
     "data": {
      "image/png": "[encoded data removed]",
      "text/plain": [
       "<Figure size 576x432 with 1 Axes>"
      ]
     },
     "metadata": {
      "needs_background": "light"
     },
     "output_type": "display_data"
    }
   ],
   "source": [
    "#Exibir plot após a remoção dos outliers(aparentemente nenhum dos métodos atingiu a expectativa, devido a composição das suas fórumulas)\n",
    "    \n",
    "plt.figure(figsize=(8, 6))\n",
    "sns.boxplot(data=df_final[['DIVIDEND YIELD', 'LIQUIDEZ DIÁRIA', 'P/VP', 'CAGR LUCRO']])\n",
    "plt.title('Box Plot das Variáveis')\n",
    "plt.ylabel('Valores')\n",
    "plt.show()"
   ]
  },
  {
   "cell_type": "code",
   "execution_count": 80,
   "id": "e354b5a4",
   "metadata": {},
   "outputs": [
    {
     "ename": "ValueError",
     "evalue": "Input contains NaN, infinity or a value too large for dtype('float64').",
     "output_type": "error",
     "traceback": [
      "\u001b[1;31m---------------------------------------------------------------------------\u001b[0m",
      "\u001b[1;31mValueError\u001b[0m                                Traceback (most recent call last)",
      "\u001b[1;32m<ipython-input-80-556dad745337>\u001b[0m in \u001b[0;36m<module>\u001b[1;34m\u001b[0m\n\u001b[0;32m      9\u001b[0m \u001b[1;32mfor\u001b[0m \u001b[0mi\u001b[0m \u001b[1;32min\u001b[0m \u001b[0mrange\u001b[0m\u001b[1;33m(\u001b[0m\u001b[1;36m1\u001b[0m\u001b[1;33m,\u001b[0m \u001b[1;36m11\u001b[0m\u001b[1;33m)\u001b[0m\u001b[1;33m:\u001b[0m\u001b[1;33m\u001b[0m\u001b[1;33m\u001b[0m\u001b[0m\n\u001b[0;32m     10\u001b[0m     \u001b[0mkmeans\u001b[0m \u001b[1;33m=\u001b[0m \u001b[0mKMeans\u001b[0m\u001b[1;33m(\u001b[0m\u001b[0mn_clusters\u001b[0m \u001b[1;33m=\u001b[0m \u001b[0mi\u001b[0m\u001b[1;33m,\u001b[0m \u001b[0minit\u001b[0m \u001b[1;33m=\u001b[0m \u001b[1;34m'k-means++'\u001b[0m\u001b[1;33m,\u001b[0m \u001b[0mrandom_state\u001b[0m \u001b[1;33m=\u001b[0m \u001b[1;36m0\u001b[0m\u001b[1;33m)\u001b[0m\u001b[1;33m\u001b[0m\u001b[1;33m\u001b[0m\u001b[0m\n\u001b[1;32m---> 11\u001b[1;33m     \u001b[0mkmeans\u001b[0m\u001b[1;33m.\u001b[0m\u001b[0mfit\u001b[0m\u001b[1;33m(\u001b[0m\u001b[0mdf_final\u001b[0m\u001b[1;33m[\u001b[0m\u001b[1;33m[\u001b[0m\u001b[1;34m'DIVIDEND YIELD'\u001b[0m\u001b[1;33m,\u001b[0m \u001b[1;34m'LIQUIDEZ DIÁRIA'\u001b[0m\u001b[1;33m,\u001b[0m \u001b[1;34m'P/VP'\u001b[0m\u001b[1;33m,\u001b[0m \u001b[1;34m'CAGR LUCRO'\u001b[0m\u001b[1;33m]\u001b[0m\u001b[1;33m]\u001b[0m\u001b[1;33m)\u001b[0m\u001b[1;33m\u001b[0m\u001b[1;33m\u001b[0m\u001b[0m\n\u001b[0m\u001b[0;32m     12\u001b[0m     \u001b[0mwcss\u001b[0m\u001b[1;33m.\u001b[0m\u001b[0mappend\u001b[0m\u001b[1;33m(\u001b[0m\u001b[0mkmeans\u001b[0m\u001b[1;33m.\u001b[0m\u001b[0minertia_\u001b[0m\u001b[1;33m)\u001b[0m\u001b[1;33m\u001b[0m\u001b[1;33m\u001b[0m\u001b[0m\n\u001b[0;32m     13\u001b[0m \u001b[1;33m\u001b[0m\u001b[0m\n",
      "\u001b[1;32m~\\anaconda3\\lib\\site-packages\\sklearn\\cluster\\_kmeans.py\u001b[0m in \u001b[0;36mfit\u001b[1;34m(self, X, y, sample_weight)\u001b[0m\n\u001b[0;32m    977\u001b[0m             \u001b[0mFitted\u001b[0m \u001b[0mestimator\u001b[0m\u001b[1;33m.\u001b[0m\u001b[1;33m\u001b[0m\u001b[1;33m\u001b[0m\u001b[0m\n\u001b[0;32m    978\u001b[0m         \"\"\"\n\u001b[1;32m--> 979\u001b[1;33m         X = self._validate_data(X, accept_sparse='csr',\n\u001b[0m\u001b[0;32m    980\u001b[0m                                 \u001b[0mdtype\u001b[0m\u001b[1;33m=\u001b[0m\u001b[1;33m[\u001b[0m\u001b[0mnp\u001b[0m\u001b[1;33m.\u001b[0m\u001b[0mfloat64\u001b[0m\u001b[1;33m,\u001b[0m \u001b[0mnp\u001b[0m\u001b[1;33m.\u001b[0m\u001b[0mfloat32\u001b[0m\u001b[1;33m]\u001b[0m\u001b[1;33m,\u001b[0m\u001b[1;33m\u001b[0m\u001b[1;33m\u001b[0m\u001b[0m\n\u001b[0;32m    981\u001b[0m                                 \u001b[0morder\u001b[0m\u001b[1;33m=\u001b[0m\u001b[1;34m'C'\u001b[0m\u001b[1;33m,\u001b[0m \u001b[0mcopy\u001b[0m\u001b[1;33m=\u001b[0m\u001b[0mself\u001b[0m\u001b[1;33m.\u001b[0m\u001b[0mcopy_x\u001b[0m\u001b[1;33m,\u001b[0m\u001b[1;33m\u001b[0m\u001b[1;33m\u001b[0m\u001b[0m\n",
      "\u001b[1;32m~\\anaconda3\\lib\\site-packages\\sklearn\\base.py\u001b[0m in \u001b[0;36m_validate_data\u001b[1;34m(self, X, y, reset, validate_separately, **check_params)\u001b[0m\n\u001b[0;32m    419\u001b[0m             \u001b[0mout\u001b[0m \u001b[1;33m=\u001b[0m \u001b[0mX\u001b[0m\u001b[1;33m\u001b[0m\u001b[1;33m\u001b[0m\u001b[0m\n\u001b[0;32m    420\u001b[0m         \u001b[1;32melif\u001b[0m \u001b[0misinstance\u001b[0m\u001b[1;33m(\u001b[0m\u001b[0my\u001b[0m\u001b[1;33m,\u001b[0m \u001b[0mstr\u001b[0m\u001b[1;33m)\u001b[0m \u001b[1;32mand\u001b[0m \u001b[0my\u001b[0m \u001b[1;33m==\u001b[0m \u001b[1;34m'no_validation'\u001b[0m\u001b[1;33m:\u001b[0m\u001b[1;33m\u001b[0m\u001b[1;33m\u001b[0m\u001b[0m\n\u001b[1;32m--> 421\u001b[1;33m             \u001b[0mX\u001b[0m \u001b[1;33m=\u001b[0m \u001b[0mcheck_array\u001b[0m\u001b[1;33m(\u001b[0m\u001b[0mX\u001b[0m\u001b[1;33m,\u001b[0m \u001b[1;33m**\u001b[0m\u001b[0mcheck_params\u001b[0m\u001b[1;33m)\u001b[0m\u001b[1;33m\u001b[0m\u001b[1;33m\u001b[0m\u001b[0m\n\u001b[0m\u001b[0;32m    422\u001b[0m             \u001b[0mout\u001b[0m \u001b[1;33m=\u001b[0m \u001b[0mX\u001b[0m\u001b[1;33m\u001b[0m\u001b[1;33m\u001b[0m\u001b[0m\n\u001b[0;32m    423\u001b[0m         \u001b[1;32melse\u001b[0m\u001b[1;33m:\u001b[0m\u001b[1;33m\u001b[0m\u001b[1;33m\u001b[0m\u001b[0m\n",
      "\u001b[1;32m~\\anaconda3\\lib\\site-packages\\sklearn\\utils\\validation.py\u001b[0m in \u001b[0;36minner_f\u001b[1;34m(*args, **kwargs)\u001b[0m\n\u001b[0;32m     61\u001b[0m             \u001b[0mextra_args\u001b[0m \u001b[1;33m=\u001b[0m \u001b[0mlen\u001b[0m\u001b[1;33m(\u001b[0m\u001b[0margs\u001b[0m\u001b[1;33m)\u001b[0m \u001b[1;33m-\u001b[0m \u001b[0mlen\u001b[0m\u001b[1;33m(\u001b[0m\u001b[0mall_args\u001b[0m\u001b[1;33m)\u001b[0m\u001b[1;33m\u001b[0m\u001b[1;33m\u001b[0m\u001b[0m\n\u001b[0;32m     62\u001b[0m             \u001b[1;32mif\u001b[0m \u001b[0mextra_args\u001b[0m \u001b[1;33m<=\u001b[0m \u001b[1;36m0\u001b[0m\u001b[1;33m:\u001b[0m\u001b[1;33m\u001b[0m\u001b[1;33m\u001b[0m\u001b[0m\n\u001b[1;32m---> 63\u001b[1;33m                 \u001b[1;32mreturn\u001b[0m \u001b[0mf\u001b[0m\u001b[1;33m(\u001b[0m\u001b[1;33m*\u001b[0m\u001b[0margs\u001b[0m\u001b[1;33m,\u001b[0m \u001b[1;33m**\u001b[0m\u001b[0mkwargs\u001b[0m\u001b[1;33m)\u001b[0m\u001b[1;33m\u001b[0m\u001b[1;33m\u001b[0m\u001b[0m\n\u001b[0m\u001b[0;32m     64\u001b[0m \u001b[1;33m\u001b[0m\u001b[0m\n\u001b[0;32m     65\u001b[0m             \u001b[1;31m# extra_args > 0\u001b[0m\u001b[1;33m\u001b[0m\u001b[1;33m\u001b[0m\u001b[1;33m\u001b[0m\u001b[0m\n",
      "\u001b[1;32m~\\anaconda3\\lib\\site-packages\\sklearn\\utils\\validation.py\u001b[0m in \u001b[0;36mcheck_array\u001b[1;34m(array, accept_sparse, accept_large_sparse, dtype, order, copy, force_all_finite, ensure_2d, allow_nd, ensure_min_samples, ensure_min_features, estimator)\u001b[0m\n\u001b[0;32m    661\u001b[0m \u001b[1;33m\u001b[0m\u001b[0m\n\u001b[0;32m    662\u001b[0m         \u001b[1;32mif\u001b[0m \u001b[0mforce_all_finite\u001b[0m\u001b[1;33m:\u001b[0m\u001b[1;33m\u001b[0m\u001b[1;33m\u001b[0m\u001b[0m\n\u001b[1;32m--> 663\u001b[1;33m             _assert_all_finite(array,\n\u001b[0m\u001b[0;32m    664\u001b[0m                                allow_nan=force_all_finite == 'allow-nan')\n\u001b[0;32m    665\u001b[0m \u001b[1;33m\u001b[0m\u001b[0m\n",
      "\u001b[1;32m~\\anaconda3\\lib\\site-packages\\sklearn\\utils\\validation.py\u001b[0m in \u001b[0;36m_assert_all_finite\u001b[1;34m(X, allow_nan, msg_dtype)\u001b[0m\n\u001b[0;32m    101\u001b[0m                 not allow_nan and not np.isfinite(X).all()):\n\u001b[0;32m    102\u001b[0m             \u001b[0mtype_err\u001b[0m \u001b[1;33m=\u001b[0m \u001b[1;34m'infinity'\u001b[0m \u001b[1;32mif\u001b[0m \u001b[0mallow_nan\u001b[0m \u001b[1;32melse\u001b[0m \u001b[1;34m'NaN, infinity'\u001b[0m\u001b[1;33m\u001b[0m\u001b[1;33m\u001b[0m\u001b[0m\n\u001b[1;32m--> 103\u001b[1;33m             raise ValueError(\n\u001b[0m\u001b[0;32m    104\u001b[0m                     \u001b[0mmsg_err\u001b[0m\u001b[1;33m.\u001b[0m\u001b[0mformat\u001b[0m\u001b[1;33m\u001b[0m\u001b[1;33m\u001b[0m\u001b[0m\n\u001b[0;32m    105\u001b[0m                     (type_err,\n",
      "\u001b[1;31mValueError\u001b[0m: Input contains NaN, infinity or a value too large for dtype('float64')."
     ]
    }
   ],
   "source": [
    "from sklearn.cluster import KMeans\n",
    "import warnings\n",
    "warnings.filterwarnings('ignore')\n",
    "\n",
    "#Inicialização do WCSS\n",
    "wcss = []\n",
    "\n",
    "#Experimentar o algoritmo K-Means com K a variar entre 1 e 10 e considerando a variante 'k-means++' para eliminar o problema da inicialização dos centróides\n",
    "for i in range(1, 11):\n",
    "    kmeans = KMeans(n_clusters = i, init = 'k-means++', random_state = 0)\n",
    "    kmeans.fit(df_final[['DIVIDEND YIELD', 'LIQUIDEZ DIÁRIA', 'P/VP', 'CAGR LUCRO']])\n",
    "    wcss.append(kmeans.inertia_)\n",
    "    \n",
    "#Visualizar a variação do WCSS nos 10 clusters\n",
    "plt.plot(range(1, 11), wcss)\n",
    "plt.title('Método Elbow')\n",
    "plt.xlabel('Número de clusters')\n",
    "plt.ylabel('WCSS')\n",
    "plt.show()\n",
    "\n",
    "print(\"O número óptimo de clusters é 4\")"
   ]
  },
  {
   "cell_type": "code",
   "execution_count": null,
   "id": "491164e4",
   "metadata": {},
   "outputs": [],
   "source": [
    "# Testando o K-means para localizar os clusters (Resultado não é claro)\n",
    "# Selecionando as colunas relevantes do dataset\n",
    "#X = df_final[['DIVIDEND YIELD', 'LIQUIDEZ DIÁRIA', 'P/VP', 'CAGR LUCRO']].values\n",
    "\n",
    "'''# Executando o K-means para o número ideal de clusters\n",
    "kmeans = KMeans(n_clusters=3, random_state=0)\n",
    "y_kmeans = kmeans.fit_predict(X)\n",
    "\n",
    "# Plotando os clusters\n",
    "plt.scatter(X[y_kmeans == 0, 0], X[y_kmeans == 0, 1], s=100, c='red', label='Cluster 1')\n",
    "plt.scatter(X[y_kmeans == 1, 0], X[y_kmeans == 1, 1], s=100, c='blue', label='Cluster 2')\n",
    "plt.scatter(X[y_kmeans == 2, 0], X[y_kmeans == 2, 1], s=100, c='green', label='Cluster 3')\n",
    "plt.scatter(kmeans.cluster_centers_[:, 0], kmeans.cluster_centers_[:, 1], s=300, c='yellow', label='Centroids')\n",
    "plt.title('Clusters')\n",
    "plt.xlabel('Variáveis')\n",
    "plt.legend()\n",
    "plt.show()\n",
    "'''"
   ]
  },
  {
   "cell_type": "code",
   "execution_count": 85,
   "id": "e76d92db",
   "metadata": {},
   "outputs": [
    {
     "ename": "KeyError",
     "evalue": "\"None of [Index(['INVESTIR'], dtype='object')] are in the [columns]\"",
     "output_type": "error",
     "traceback": [
      "\u001b[1;31m---------------------------------------------------------------------------\u001b[0m",
      "\u001b[1;31mKeyError\u001b[0m                                  Traceback (most recent call last)",
      "\u001b[1;32m<ipython-input-85-85bbaf6721eb>\u001b[0m in \u001b[0;36m<module>\u001b[1;34m\u001b[0m\n\u001b[0;32m      1\u001b[0m \u001b[1;31m# Selecionando as colunas relevantes do dataset\u001b[0m\u001b[1;33m\u001b[0m\u001b[1;33m\u001b[0m\u001b[1;33m\u001b[0m\u001b[0m\n\u001b[0;32m      2\u001b[0m \u001b[0mX\u001b[0m \u001b[1;33m=\u001b[0m \u001b[0mdf_final\u001b[0m\u001b[1;33m[\u001b[0m\u001b[1;33m[\u001b[0m\u001b[1;34m'DIVIDEND YIELD'\u001b[0m\u001b[1;33m,\u001b[0m \u001b[1;34m'LIQUIDEZ DIÁRIA'\u001b[0m\u001b[1;33m,\u001b[0m \u001b[1;34m'P/VP'\u001b[0m\u001b[1;33m,\u001b[0m \u001b[1;34m'CAGR LUCRO'\u001b[0m\u001b[1;33m]\u001b[0m\u001b[1;33m]\u001b[0m\u001b[1;33m.\u001b[0m\u001b[0mvalues\u001b[0m\u001b[1;33m\u001b[0m\u001b[1;33m\u001b[0m\u001b[0m\n\u001b[1;32m----> 3\u001b[1;33m \u001b[0my\u001b[0m \u001b[1;33m=\u001b[0m \u001b[0mdf_final\u001b[0m\u001b[1;33m[\u001b[0m\u001b[1;33m[\u001b[0m\u001b[1;34m'INVESTIR'\u001b[0m\u001b[1;33m]\u001b[0m\u001b[1;33m]\u001b[0m\u001b[1;33m.\u001b[0m\u001b[0mvalues\u001b[0m\u001b[1;33m\u001b[0m\u001b[1;33m\u001b[0m\u001b[0m\n\u001b[0m",
      "\u001b[1;32m~\\anaconda3\\lib\\site-packages\\pandas\\core\\frame.py\u001b[0m in \u001b[0;36m__getitem__\u001b[1;34m(self, key)\u001b[0m\n\u001b[0;32m   3028\u001b[0m             \u001b[1;32mif\u001b[0m \u001b[0mis_iterator\u001b[0m\u001b[1;33m(\u001b[0m\u001b[0mkey\u001b[0m\u001b[1;33m)\u001b[0m\u001b[1;33m:\u001b[0m\u001b[1;33m\u001b[0m\u001b[1;33m\u001b[0m\u001b[0m\n\u001b[0;32m   3029\u001b[0m                 \u001b[0mkey\u001b[0m \u001b[1;33m=\u001b[0m \u001b[0mlist\u001b[0m\u001b[1;33m(\u001b[0m\u001b[0mkey\u001b[0m\u001b[1;33m)\u001b[0m\u001b[1;33m\u001b[0m\u001b[1;33m\u001b[0m\u001b[0m\n\u001b[1;32m-> 3030\u001b[1;33m             \u001b[0mindexer\u001b[0m \u001b[1;33m=\u001b[0m \u001b[0mself\u001b[0m\u001b[1;33m.\u001b[0m\u001b[0mloc\u001b[0m\u001b[1;33m.\u001b[0m\u001b[0m_get_listlike_indexer\u001b[0m\u001b[1;33m(\u001b[0m\u001b[0mkey\u001b[0m\u001b[1;33m,\u001b[0m \u001b[0maxis\u001b[0m\u001b[1;33m=\u001b[0m\u001b[1;36m1\u001b[0m\u001b[1;33m,\u001b[0m \u001b[0mraise_missing\u001b[0m\u001b[1;33m=\u001b[0m\u001b[1;32mTrue\u001b[0m\u001b[1;33m)\u001b[0m\u001b[1;33m[\u001b[0m\u001b[1;36m1\u001b[0m\u001b[1;33m]\u001b[0m\u001b[1;33m\u001b[0m\u001b[1;33m\u001b[0m\u001b[0m\n\u001b[0m\u001b[0;32m   3031\u001b[0m \u001b[1;33m\u001b[0m\u001b[0m\n\u001b[0;32m   3032\u001b[0m         \u001b[1;31m# take() does not accept boolean indexers\u001b[0m\u001b[1;33m\u001b[0m\u001b[1;33m\u001b[0m\u001b[1;33m\u001b[0m\u001b[0m\n",
      "\u001b[1;32m~\\anaconda3\\lib\\site-packages\\pandas\\core\\indexing.py\u001b[0m in \u001b[0;36m_get_listlike_indexer\u001b[1;34m(self, key, axis, raise_missing)\u001b[0m\n\u001b[0;32m   1264\u001b[0m             \u001b[0mkeyarr\u001b[0m\u001b[1;33m,\u001b[0m \u001b[0mindexer\u001b[0m\u001b[1;33m,\u001b[0m \u001b[0mnew_indexer\u001b[0m \u001b[1;33m=\u001b[0m \u001b[0max\u001b[0m\u001b[1;33m.\u001b[0m\u001b[0m_reindex_non_unique\u001b[0m\u001b[1;33m(\u001b[0m\u001b[0mkeyarr\u001b[0m\u001b[1;33m)\u001b[0m\u001b[1;33m\u001b[0m\u001b[1;33m\u001b[0m\u001b[0m\n\u001b[0;32m   1265\u001b[0m \u001b[1;33m\u001b[0m\u001b[0m\n\u001b[1;32m-> 1266\u001b[1;33m         \u001b[0mself\u001b[0m\u001b[1;33m.\u001b[0m\u001b[0m_validate_read_indexer\u001b[0m\u001b[1;33m(\u001b[0m\u001b[0mkeyarr\u001b[0m\u001b[1;33m,\u001b[0m \u001b[0mindexer\u001b[0m\u001b[1;33m,\u001b[0m \u001b[0maxis\u001b[0m\u001b[1;33m,\u001b[0m \u001b[0mraise_missing\u001b[0m\u001b[1;33m=\u001b[0m\u001b[0mraise_missing\u001b[0m\u001b[1;33m)\u001b[0m\u001b[1;33m\u001b[0m\u001b[1;33m\u001b[0m\u001b[0m\n\u001b[0m\u001b[0;32m   1267\u001b[0m         \u001b[1;32mreturn\u001b[0m \u001b[0mkeyarr\u001b[0m\u001b[1;33m,\u001b[0m \u001b[0mindexer\u001b[0m\u001b[1;33m\u001b[0m\u001b[1;33m\u001b[0m\u001b[0m\n\u001b[0;32m   1268\u001b[0m \u001b[1;33m\u001b[0m\u001b[0m\n",
      "\u001b[1;32m~\\anaconda3\\lib\\site-packages\\pandas\\core\\indexing.py\u001b[0m in \u001b[0;36m_validate_read_indexer\u001b[1;34m(self, key, indexer, axis, raise_missing)\u001b[0m\n\u001b[0;32m   1306\u001b[0m             \u001b[1;32mif\u001b[0m \u001b[0mmissing\u001b[0m \u001b[1;33m==\u001b[0m \u001b[0mlen\u001b[0m\u001b[1;33m(\u001b[0m\u001b[0mindexer\u001b[0m\u001b[1;33m)\u001b[0m\u001b[1;33m:\u001b[0m\u001b[1;33m\u001b[0m\u001b[1;33m\u001b[0m\u001b[0m\n\u001b[0;32m   1307\u001b[0m                 \u001b[0maxis_name\u001b[0m \u001b[1;33m=\u001b[0m \u001b[0mself\u001b[0m\u001b[1;33m.\u001b[0m\u001b[0mobj\u001b[0m\u001b[1;33m.\u001b[0m\u001b[0m_get_axis_name\u001b[0m\u001b[1;33m(\u001b[0m\u001b[0maxis\u001b[0m\u001b[1;33m)\u001b[0m\u001b[1;33m\u001b[0m\u001b[1;33m\u001b[0m\u001b[0m\n\u001b[1;32m-> 1308\u001b[1;33m                 \u001b[1;32mraise\u001b[0m \u001b[0mKeyError\u001b[0m\u001b[1;33m(\u001b[0m\u001b[1;34mf\"None of [{key}] are in the [{axis_name}]\"\u001b[0m\u001b[1;33m)\u001b[0m\u001b[1;33m\u001b[0m\u001b[1;33m\u001b[0m\u001b[0m\n\u001b[0m\u001b[0;32m   1309\u001b[0m \u001b[1;33m\u001b[0m\u001b[0m\n\u001b[0;32m   1310\u001b[0m             \u001b[0max\u001b[0m \u001b[1;33m=\u001b[0m \u001b[0mself\u001b[0m\u001b[1;33m.\u001b[0m\u001b[0mobj\u001b[0m\u001b[1;33m.\u001b[0m\u001b[0m_get_axis\u001b[0m\u001b[1;33m(\u001b[0m\u001b[0maxis\u001b[0m\u001b[1;33m)\u001b[0m\u001b[1;33m\u001b[0m\u001b[1;33m\u001b[0m\u001b[0m\n",
      "\u001b[1;31mKeyError\u001b[0m: \"None of [Index(['INVESTIR'], dtype='object')] are in the [columns]\""
     ]
    }
   ],
   "source": [
    "# Selecionando as colunas relevantes do dataset\n",
    "X = df_final[['DIVIDEND YIELD', 'LIQUIDEZ DIÁRIA', 'P/VP', 'CAGR LUCRO']].values\n",
    "y = df_final[['INVESTIR']].values"
   ]
  },
  {
   "cell_type": "code",
   "execution_count": null,
   "id": "beb2c483",
   "metadata": {},
   "outputs": [],
   "source": [
    "#Pela análise do dendograma consideramos 4 clusters\n",
    "import scipy.cluster.hierarchy as sch\n",
    "\n",
    "#O método 'linkage'permite definir a técnica de clustering a utilizar. Aqui utilizamos a métrica da minimização da variância dentro dos clusters chamada 'ward'\n",
    "dendrogram = sch.dendrogram(sch.linkage(X, method = 'ward'))\n",
    "plt.title('Dendrograma')\n",
    "plt.xlabel('Variáveis')\n",
    "plt.ylabel('Distância Euclideana')\n",
    "plt.show()"
   ]
  },
  {
   "cell_type": "code",
   "execution_count": null,
   "id": "a96e5c39",
   "metadata": {},
   "outputs": [],
   "source": [
    "#Impressão de valores\n",
    "from sklearn.cluster import AgglomerativeClustering\n",
    "\n",
    "hc = AgglomerativeClustering(n_clusters = 4, affinity = 'euclidean', linkage = 'ward')\n",
    "y_hc = hc.fit_predict(X)\n",
    "print(y_hc)"
   ]
  },
  {
   "cell_type": "code",
   "execution_count": null,
   "id": "fbe74d99",
   "metadata": {},
   "outputs": [],
   "source": [
    "# Buscando uma melhor visualização para os clusters\n",
    "\n",
    "from sklearn.cluster import KMeans\n",
    "from sklearn.metrics import silhouette_samples, silhouette_score\n",
    "\n",
    "n_clusters = 4\n",
    "\n",
    "kmeans = KMeans(n_clusters=n_clusters, random_state=0)\n",
    "labels = kmeans.fit_predict(X)\n",
    "\n",
    "# Calculando o coeficiente de silhueta para cada amostra\n",
    "silhouette_avg = silhouette_score(X, labels)\n",
    "sample_silhouette_values = silhouette_samples(X, labels)"
   ]
  },
  {
   "cell_type": "code",
   "execution_count": null,
   "id": "7a71eec0",
   "metadata": {},
   "outputs": [],
   "source": [
    "# Criando um gráfico para visualizar os clusters e o coeficiente de silhueta\n",
    "fig, ax1 = plt.subplots()\n",
    "fig.set_size_inches(8, 6)\n",
    "\n",
    "y_lower = 10\n",
    "for i in range(n_clusters):\n",
    "    ith_cluster_silhouette_values = sample_silhouette_values[labels == i]\n",
    "    ith_cluster_silhouette_values.sort()\n",
    "\n",
    "    size_cluster_i = ith_cluster_silhouette_values.shape[0]\n",
    "    y_upper = y_lower + size_cluster_i\n",
    "\n",
    "    color = plt.cm.get_cmap(\"Spectral\")(float(i) / n_clusters)\n",
    "    ax1.fill_betweenx(np.arange(y_lower, y_upper),\n",
    "                      0, ith_cluster_silhouette_values,\n",
    "                      facecolor=color, edgecolor=color, alpha=0.7)\n",
    "\n",
    "    ax1.text(-0.05, y_lower + 0.5 * size_cluster_i, str(i))\n",
    "\n",
    "    y_lower = y_upper + 10\n",
    "\n",
    "ax1.set_title(\"Silhouette plot\")\n",
    "ax1.set_xlabel(\"Silhouette coefficient\")\n",
    "ax1.set_ylabel(\"Cluster label\")\n",
    "\n",
    "ax1.axvline(x=silhouette_avg, color=\"red\", linestyle=\"--\")\n",
    "\n",
    "ax1.set_yticks([])\n",
    "ax1.set_xticks([-1, -0.5, 0, 0.5, 1])\n",
    "\n",
    "plt.show()"
   ]
  },
  {
   "cell_type": "code",
   "execution_count": null,
   "id": "4954d3c6",
   "metadata": {},
   "outputs": [],
   "source": [
    "# Visualizar valores X para o modelo\n",
    "display(X)"
   ]
  },
  {
   "cell_type": "code",
   "execution_count": null,
   "id": "051df67f",
   "metadata": {},
   "outputs": [],
   "source": [
    "# Visualizar valores y para o modelo (apenas 0 e 1, tudo certo)\n",
    "#display(y)"
   ]
  },
  {
   "cell_type": "code",
   "execution_count": null,
   "id": "de23d063",
   "metadata": {},
   "outputs": [],
   "source": [
    "# Criar um objeto de regressão linear\n",
    "\n",
    "# Separando os dados em treino e teste 30% de teste\n",
    "from sklearn.model_selection import train_test_split\n",
    "X_train, X_test, y_train, y_test = train_test_split(X,y, test_size = 0.3, random_state = 1)\n",
    "regression = LinearRegression()\n",
    "\n",
    "regression.fit(X, y)\n",
    "\n",
    "y_pred = regression.predict(X)\n",
    "\n",
    "mse = mean_squared_error(y, y_pred)\n",
    "print(\"Erro quadrático médio:\", mse)\n",
    "\n",
    "print(\"Coeficientes:\", regression.coef_)\n",
    "print(\"Interceptação:\", regression.intercept_)\n",
    "\n",
    "#Erro quadrático médio: 0.21554719996476726\n",
    "#Coeficientes: [[ 0.84041462 -0.03654904 -0.02003373  0.44630897]]\n",
    "#Interceptação: [0.28764922]"
   ]
  },
  {
   "cell_type": "code",
   "execution_count": null,
   "id": "e57a59d2",
   "metadata": {},
   "outputs": [],
   "source": [
    "# Modelo Regressão logística com 30% de treino\n",
    "\n",
    "from sklearn.preprocessing import StandardScaler\n",
    "from sklearn.linear_model import LogisticRegression\n",
    "from sklearn.metrics import accuracy_score\n",
    "\n",
    "sc = StandardScaler()\n",
    "X_train = sc.fit_transform(X_train)\n",
    "X_test = sc.transform(X_test)\n",
    "\n",
    "model = LogisticRegression()\n",
    "model.fit(X_train, y_train)\n",
    "\n",
    "y_pred = model.predict(X_test)\n",
    "\n",
    "accuracy = accuracy_score(y_test, y_pred)\n",
    "\n",
    "print(\"Acurácia:\", accuracy)\n",
    "\n",
    "# Acurácia: 0.6153846153846154"
   ]
  },
  {
   "cell_type": "code",
   "execution_count": null,
   "id": "a2f64b2a",
   "metadata": {},
   "outputs": [],
   "source": [
    "# Testando regressão logística com PCA (Resultado muito parecido)\n",
    "\n",
    "from sklearn.decomposition import PCA\n",
    "from sklearn.linear_model import LogisticRegression\n",
    "\n",
    "\n",
    "scaler = StandardScaler()\n",
    "X_train = scaler.fit_transform(X_train)\n",
    "X_test = scaler.transform(X_test)\n",
    "\n",
    "pca = PCA(n_components=2)\n",
    "X_train = pca.fit_transform(X_train)\n",
    "X_test = pca.transform(X_test)\n",
    "\n",
    "logreg = LogisticRegression()\n",
    "logreg.fit(X_train, y_train)\n",
    "\n",
    "y_pred = logreg.predict(X_test)\n",
    "\n",
    "accuracy = accuracy_score(y_test, y_pred)\n",
    "\n",
    "print(\"Acurácia:\", accuracy)\n",
    "\n",
    "# Acurácia: 0.6199095022624435"
   ]
  },
  {
   "cell_type": "code",
   "execution_count": null,
   "id": "615ce281",
   "metadata": {},
   "outputs": [],
   "source": [
    "#Treinar o modelo com KNN 30% de teste(acurácia 91%)\n",
    "from sklearn.neighbors import KNeighborsClassifier\n",
    "\n",
    "neigh = KNeighborsClassifier(n_neighbors=3)\n",
    "\n",
    "neigh.fit(X,y)\n",
    "\n",
    "neigh.score(X,y)\n",
    "# com 25% de treino a acurácia cai para 81%"
   ]
  },
  {
   "cell_type": "code",
   "execution_count": null,
   "id": "260e5f49",
   "metadata": {},
   "outputs": [],
   "source": [
    "# Modelo Naive Bayes\n",
    "from sklearn.naive_bayes import GaussianNB\n",
    "from sklearn.metrics import accuracy_score\n",
    "from sklearn.model_selection import train_test_split\n",
    "\n",
    "X_train, X_test, y_train, y_test = train_test_split(X, y, test_size=0.3, random_state=1)\n",
    "\n",
    "classifier_nb = GaussianNB()\n",
    "\n",
    "classifier_nb.fit(X_train, y_train)\n",
    "\n",
    "y_pred = classifier_nb.predict(X_test)\n",
    "\n",
    "accuracy = accuracy_score(y_test, y_pred)\n",
    "print(\"Acurácia Naive Bayes (30% de teste):\", accuracy)\n",
    "# 0.6968325791855203 (Continua abaixo de 70% mesmo alterando o random e o % de teste)"
   ]
  },
  {
   "cell_type": "code",
   "execution_count": null,
   "id": "f403e6fb",
   "metadata": {},
   "outputs": [],
   "source": [
    "# Modelo KPMN\n",
    "\n",
    "from kmodes.kprototypes import KPrototypes\n",
    "from sklearn.model_selection import train_test_split\n",
    "\n",
    "# Dividir os dados em conjunto de treinamento e teste (30% dos dados de teste)\n",
    "X_train, X_test, y_train, y_test = train_test_split(X, y, test_size=0.3, random_state=0)\n",
    "\n",
    "\n",
    "scaler = StandardScaler()\n",
    "X_train_scaled = scaler.fit_transform(X_train)\n",
    "X_test_scaled = scaler.transform(X_test)\n",
    "\n",
    "\n",
    "classifier_kpmn = KPrototypes(n_clusters=4, init='Cao', n_init=1, verbose=2)\n",
    "\n",
    "classifier_kpmn.fit(X_train_scaled, categorical=[0, 1, 2])\n",
    "\n",
    "y_pred = classifier_kpmn.predict(X_test_scaled, categorical=[0, 1, 2])\n",
    "\n",
    "accuracy = accuracy_score(y_test, y_pred)\n",
    "print(\"Acurácia KPMN (30% de teste):\", accuracy)\n",
    "#Acurácia KPMN (30% de teste): 0.4253393665158371 (mesmo alterando o ramdom e o % de teste não temos mais de 50%)"
   ]
  },
  {
   "cell_type": "code",
   "execution_count": null,
   "id": "ae7db9dc",
   "metadata": {},
   "outputs": [],
   "source": [
    "# Árvore de decisão (melhor modelo)\n",
    "from sklearn.preprocessing import StandardScaler\n",
    "from sklearn.tree import DecisionTreeClassifier\n",
    "\n",
    "sc = StandardScaler()\n",
    "X_train = sc.fit_transform(X_train)\n",
    "X_test = sc.transform(X_test)\n",
    "\n",
    "X_train, X_test, y_train, y_test = train_test_split(X, y, test_size=0.25, random_state=0)\n",
    "\n",
    "classifier = DecisionTreeClassifier(criterion='entropy', random_state=0)\n",
    "classifier.fit(X_train, y_train)\n",
    "\n",
    "y_pred = classifier.predict(X_test)\n",
    "accuracy = accuracy_score(y_test, y_pred)\n",
    "print(\"Acurácia:\", accuracy)\n",
    "#Acurácia: 0.9945652173913043"
   ]
  },
  {
   "cell_type": "code",
   "execution_count": null,
   "id": "97d16712",
   "metadata": {},
   "outputs": [],
   "source": [
    "y_pred"
   ]
  },
  {
   "cell_type": "code",
   "execution_count": null,
   "id": "dbbf51a6",
   "metadata": {},
   "outputs": [],
   "source": [
    "# Verificar a precisão do modelo e calcular a matriz de confusão\n",
    "from sklearn.metrics import accuracy_score, confusion_matrix\n",
    "\n",
    "\n",
    "accuracy = accuracy_score(y_test, y_pred)\n",
    "print(\"Precisão:\", accuracy)\n",
    "\n",
    "confusion = confusion_matrix(y_test, y_pred)\n",
    "print(\"Matriz de Confusão:\")\n",
    "print(confusion)\n"
   ]
  },
  {
   "cell_type": "code",
   "execution_count": null,
   "id": "0a09e4a0",
   "metadata": {},
   "outputs": [],
   "source": [
    "# Plot da árvore de decisão\n",
    "\n",
    "from sklearn.tree import plot_tree\n",
    "import matplotlib.pyplot as plt\n",
    "\n",
    "feature_names = ['DIVIDEND YIELD', 'LIQUIDEZ DIÁRIA', 'P/VP', 'CAGR LUCRO']\n",
    "\n",
    "fig, ax = plt.subplots(figsize=(10, 10))\n",
    "plot_tree(classifier, feature_names=feature_names, filled=True, ax=ax)\n",
    "plt.show()\n"
   ]
  },
  {
   "cell_type": "code",
   "execution_count": null,
   "id": "53619489",
   "metadata": {},
   "outputs": [],
   "source": [
    "# Explorar a variável (investir)\n",
    "df_final['INVESTIR']"
   ]
  },
  {
   "cell_type": "code",
   "execution_count": null,
   "id": "ef82407e",
   "metadata": {},
   "outputs": [],
   "source": [
    "# Tabela para comparar os resultados\n",
    "from sklearn.model_selection import cross_val_score\n",
    "from sklearn.linear_model import LinearRegression, LogisticRegression\n",
    "from sklearn.neighbors import KNeighborsClassifier\n",
    "from sklearn.naive_bayes import GaussianNB\n",
    "from sklearn.metrics import make_scorer\n",
    "from sklearn.cluster import KMeans\n",
    "from sklearn.tree import DecisionTreeClassifier\n",
    "from sklearn.metrics import accuracy_score, precision_score, recall_score\n",
    "\n",
    "\n",
    "model1 = LinearRegression()\n",
    "model2 = LogisticRegression()\n",
    "model3 = KNeighborsClassifier()\n",
    "model4 = GaussianNB()\n",
    "model5 = KMeans(n_clusters=5)\n",
    "model6 = DecisionTreeClassifier()\n",
    "models = [model1, model2, model3, model4, model5, model6]\n",
    "model_names = ['Regressão Linear', 'Regressão Logística', 'KNN', 'Naive Bayes', 'KMeans', 'Árvore de Decisão']\n",
    "\n",
    "metrics = {\n",
    "    'Acurácia': accuracy_score,\n",
    "    'Precisão': precision_score,\n",
    "    'Revocação': recall_score\n",
    "}\n",
    "\n",
    "results = {}\n",
    "\n",
    "for model, name in zip(models, model_names):\n",
    "    model_results = {}\n",
    "    \n",
    "    for metric_name, metric_func in metrics.items():\n",
    "        scores = cross_val_score(model, X, y, cv=5, scoring=make_scorer(metric_func))\n",
    "        model_results[metric_name] = scores.mean()\n",
    "    \n",
    "    results[name] = model_results\n",
    "\n",
    "print(\"Modelo\\t\\t\\tAcurácia\\tPrecisão\\tRevocação\")\n",
    "for name, metrics in results.items():\n",
    "    print(f\"{name:20s}\\t{metrics['Acurácia']:.4f}\\t\\t{metrics['Precisão']:.4f}\\t\\t{metrics['Revocação']:.4f}\")\n",
    "    \n",
    "'''Modelo             Acurácia   Precisão   Revocação\n",
    "Regressão Linear       nan         nan       nan\n",
    "Regressão Logística   0.6264      0.4078    0.0667\n",
    "KNN                   0.8221      0.7223    0.8178\n",
    "Naive Bayes           0.6997      0.6755    0.5595\n",
    "KMeans                0.2296      nan       nan\n",
    "Árvore de Decisão     0.9755      0.9474    0.9724\n",
    "'''"
   ]
  },
  {
   "cell_type": "code",
   "execution_count": null,
   "id": "6a13701f",
   "metadata": {},
   "outputs": [],
   "source": [
    "# Curva ROC para análise de modelos\n",
    "\n",
    "from sklearn.metrics import roc_curve, roc_auc_score\n",
    "\n",
    "X_train, X_test, y_train, y_test = train_test_split(X, y, test_size=0.25, random_state=0)\n",
    "\n",
    "model1 = LogisticRegression()\n",
    "model2 = KNeighborsClassifier()\n",
    "model3 = GaussianNB()\n",
    "model4 = DecisionTreeClassifier()\n",
    "\n",
    "models = [model1, model2, model3, model4]\n",
    "model_names = ['Regressão Logística', 'KNN', 'Naive Bayes', 'Árvore de Decisão']\n",
    "\n",
    "plt.figure(figsize=(10, 8))\n",
    "for model, name in zip(models, model_names):\n",
    "    model.fit(X_train, y_train)\n",
    "    if hasattr(model, 'predict_proba'):\n",
    "        probs = model.predict_proba(X_test)[:, 1]\n",
    "    else:\n",
    "        decision_scores = model.decision_function(X_test)\n",
    "        probs = (decision_scores - decision_scores.min()) / (decision_scores.max() - decision_scores.min())\n",
    "    fpr, tpr, thresholds = roc_curve(y_test, probs)\n",
    "    auc_score = roc_auc_score(y_test, probs)\n",
    "    plt.plot(fpr, tpr, label=f\"{name} (AUC = {auc_score:.2f})\")\n",
    "\n",
    "plt.plot([0, 1], [0, 1], 'k--', label='Aleatório')\n",
    "plt.xlabel('Taxa de Falso Positivo')\n",
    "plt.ylabel('Taxa de Verdadeiro Positivo')\n",
    "plt.title('Curva ROC - Comparação de Modelos')\n",
    "plt.legend()\n",
    "plt.show()\n"
   ]
  },
  {
   "cell_type": "code",
   "execution_count": null,
   "id": "c3cbf49c-4b7b-471b-8c13-b15c84561d67",
   "metadata": {},
   "outputs": [],
   "source": [
    "# Exportar dataset para rodar a aplicação (já foi feito isso)\n",
    "#df_final.to_excel(\"Tree_decision.xlsx\")"
   ]
  },
  {
   "cell_type": "code",
   "execution_count": null,
   "id": "1fc1bec7",
   "metadata": {},
   "outputs": [],
   "source": [
    "# Aplicação Fe²\n",
    "\n",
    "import joblib\n",
    "import pandas as pd\n",
    "import streamlit as st\n",
    "from sklearn.tree import DecisionTreeClassifier\n",
    "\n",
    "X = df_final[['DIVIDEND YIELD', 'LIQUIDEZ DIÁRIA', 'P/VP', 'CAGR LUCRO']]\n",
    "y = df_final[\"INVESTIR\"]\n",
    "\n",
    "clf = DecisionTreeClassifier(criterion='entropy', random_state=0)\n",
    "clf.fit(X, y)\n",
    "\n",
    "# Title\n",
    "st.header(\"Fe²\")\n",
    "\n",
    "# Input bar 1\n",
    "liquidez = st.number_input(\"Liq. Diária: \")\n",
    "\n",
    "# Input bar 2\n",
    "pvp = st.number_input(\"P/VP: \")\n",
    "\n",
    "# Input bar 3\n",
    "dy = st.number_input(\"Dividend Yield: \")\n",
    "\n",
    "# Input bar 4\n",
    "cagr = st.number_input(\"CAGR: \")\n",
    "\n",
    "# If button is pressed\n",
    "if st.button(\"Submit\"):\n",
    "    # Previsão com o modelo\n",
    "    y_pred = clf.predict([[dy, liquidez, pvp, cagr]])\n",
    "    \n",
    "    # Mapear os valores da previsão para \"Investir\" ou \"Não Investir\"\n",
    "    investimento = \"Investir\" if y_pred[0] == 1 else \"Não Investir\"\n",
    "    \n",
    "    st.text(\"Resultado da previsão: \" + investimento)\n"
   ]
  },
  {
   "cell_type": "code",
   "execution_count": null,
   "id": "923fe36e",
   "metadata": {},
   "outputs": [],
   "source": [
    "# Código para executar a aplicação no terminal\n",
    "\n",
    "# streamlit run invest.py"
   ]
  }
 ],
 "metadata": {
  "kernelspec": {
   "display_name": "Python 3",
   "language": "python",
   "name": "python3"
  },
  "language_info": {
   "codemirror_mode": {
    "name": "ipython",
    "version": 3
   },
   "file_extension": ".py",
   "mimetype": "text/x-python",
   "name": "python",
   "nbconvert_exporter": "python",
   "pygments_lexer": "ipython3",
   "version": "3.8.8"
  }
 },
 "nbformat": 4,
 "nbformat_minor": 5
}
