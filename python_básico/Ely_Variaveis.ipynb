{
 "cells": [
  {
   "cell_type": "markdown",
   "id": "309f81b5",
   "metadata": {},
   "source": [
    "## Treinando váriáveis"
   ]
  },
  {
   "cell_type": "code",
   "execution_count": null,
   "id": "eb867023",
   "metadata": {},
   "outputs": [],
   "source": [
    "Var_teste = 1"
   ]
  },
  {
   "cell_type": "code",
   "execution_count": null,
   "id": "a82044ca",
   "metadata": {},
   "outputs": [],
   "source": [
    "print \n",
    "Var_teste"
   ]
  },
  {
   "cell_type": "code",
   "execution_count": null,
   "id": "042bcd5d",
   "metadata": {},
   "outputs": [],
   "source": [
    "type(Var_teste)"
   ]
  },
  {
   "cell_type": "code",
   "execution_count": null,
   "id": "283a91d3",
   "metadata": {},
   "outputs": [],
   "source": [
    "var_teste = 3"
   ]
  },
  {
   "cell_type": "code",
   "execution_count": null,
   "id": "7da82661",
   "metadata": {},
   "outputs": [],
   "source": [
    "print\n",
    "var_teste"
   ]
  },
  {
   "cell_type": "code",
   "execution_count": null,
   "id": "023e215e",
   "metadata": {},
   "outputs": [],
   "source": [
    "print\n",
    "Var_teste"
   ]
  },
  {
   "cell_type": "code",
   "execution_count": null,
   "id": "e0fe0be4",
   "metadata": {},
   "outputs": [],
   "source": [
    "var_ely = 1.5"
   ]
  },
  {
   "cell_type": "code",
   "execution_count": null,
   "id": "ae5d1ac3",
   "metadata": {},
   "outputs": [],
   "source": [
    "print\n",
    "var_ely"
   ]
  },
  {
   "cell_type": "code",
   "execution_count": null,
   "id": "094d2c38",
   "metadata": {},
   "outputs": [],
   "source": [
    "type(var_ely)"
   ]
  },
  {
   "cell_type": "code",
   "execution_count": 39,
   "id": "9d65e72e",
   "metadata": {},
   "outputs": [],
   "source": [
    "pessoa1, pessoa2, pessoa3 = \"Maria\", \"José\", \"Tobias\""
   ]
  },
  {
   "cell_type": "code",
   "execution_count": 40,
   "id": "cee3399e",
   "metadata": {},
   "outputs": [
    {
     "data": {
      "text/plain": [
       "'Maria'"
      ]
     },
     "execution_count": 40,
     "metadata": {},
     "output_type": "execute_result"
    }
   ],
   "source": [
    "print\n",
    "pessoa1"
   ]
  },
  {
   "cell_type": "code",
   "execution_count": 41,
   "id": "6c6d00d8",
   "metadata": {},
   "outputs": [
    {
     "data": {
      "text/plain": [
       "'José'"
      ]
     },
     "execution_count": 41,
     "metadata": {},
     "output_type": "execute_result"
    }
   ],
   "source": [
    "print\n",
    "pessoa2"
   ]
  },
  {
   "cell_type": "code",
   "execution_count": 42,
   "id": "5d7e617d",
   "metadata": {},
   "outputs": [
    {
     "data": {
      "text/plain": [
       "'Tobias'"
      ]
     },
     "execution_count": 42,
     "metadata": {},
     "output_type": "execute_result"
    }
   ],
   "source": [
    "print\n",
    "pessoa3"
   ]
  },
  {
   "cell_type": "code",
   "execution_count": 43,
   "id": "868f2e3d",
   "metadata": {},
   "outputs": [
    {
     "data": {
      "text/plain": [
       "str"
      ]
     },
     "execution_count": 43,
     "metadata": {},
     "output_type": "execute_result"
    }
   ],
   "source": [
    "type(pessoa3)"
   ]
  },
  {
   "cell_type": "code",
   "execution_count": null,
   "id": "67f85387",
   "metadata": {},
   "outputs": [],
   "source": [
    "X1 = 300"
   ]
  },
  {
   "cell_type": "code",
   "execution_count": null,
   "id": "4de7da61",
   "metadata": {},
   "outputs": [],
   "source": [
    "print\n",
    "X1"
   ]
  },
  {
   "cell_type": "code",
   "execution_count": null,
   "id": "bd1a2e20",
   "metadata": {},
   "outputs": [],
   "source": [
    "print\n",
    "X1"
   ]
  },
  {
   "cell_type": "code",
   "execution_count": 3,
   "id": "32beae09",
   "metadata": {},
   "outputs": [],
   "source": [
    "largura = 2"
   ]
  },
  {
   "cell_type": "code",
   "execution_count": 4,
   "id": "9d8b8d25",
   "metadata": {},
   "outputs": [],
   "source": [
    "altura =4"
   ]
  },
  {
   "cell_type": "code",
   "execution_count": 5,
   "id": "35d82811",
   "metadata": {},
   "outputs": [],
   "source": [
    "area = largura * altura"
   ]
  },
  {
   "cell_type": "code",
   "execution_count": 6,
   "id": "1a81d8fa",
   "metadata": {},
   "outputs": [
    {
     "data": {
      "text/plain": [
       "2"
      ]
     },
     "execution_count": 6,
     "metadata": {},
     "output_type": "execute_result"
    }
   ],
   "source": [
    "largura"
   ]
  },
  {
   "cell_type": "code",
   "execution_count": null,
   "id": "bde195d9",
   "metadata": {},
   "outputs": [],
   "source": [
    "print\n",
    "altura"
   ]
  },
  {
   "cell_type": "code",
   "execution_count": null,
   "id": "369447ff",
   "metadata": {},
   "outputs": [],
   "source": [
    "print\n",
    "area"
   ]
  },
  {
   "cell_type": "code",
   "execution_count": null,
   "id": "51f36fcd",
   "metadata": {},
   "outputs": [],
   "source": [
    "perimetro = 2 * largura + 2* altura"
   ]
  },
  {
   "cell_type": "code",
   "execution_count": null,
   "id": "c095073b",
   "metadata": {},
   "outputs": [],
   "source": [
    "print\n",
    "perimetro"
   ]
  },
  {
   "cell_type": "code",
   "execution_count": 7,
   "id": "80cfdb2a",
   "metadata": {},
   "outputs": [],
   "source": [
    "idade1 = 50"
   ]
  },
  {
   "cell_type": "code",
   "execution_count": 13,
   "id": "c9376328",
   "metadata": {},
   "outputs": [],
   "source": [
    "idade2 = 100"
   ]
  },
  {
   "cell_type": "code",
   "execution_count": 14,
   "id": "0c17e733",
   "metadata": {},
   "outputs": [
    {
     "data": {
      "text/plain": [
       "2500"
      ]
     },
     "execution_count": 14,
     "metadata": {},
     "output_type": "execute_result"
    }
   ],
   "source": [
    "idade1 * idade2"
   ]
  },
  {
   "cell_type": "code",
   "execution_count": 15,
   "id": "03ca88dd",
   "metadata": {},
   "outputs": [
    {
     "data": {
      "text/plain": [
       "4.0"
      ]
     },
     "execution_count": 15,
     "metadata": {},
     "output_type": "execute_result"
    }
   ],
   "source": [
    "idade2 / idade1"
   ]
  },
  {
   "cell_type": "code",
   "execution_count": 16,
   "id": "8f98080e",
   "metadata": {},
   "outputs": [
    {
     "data": {
      "text/plain": [
       "0"
      ]
     },
     "execution_count": 16,
     "metadata": {},
     "output_type": "execute_result"
    }
   ],
   "source": [
    "idade2 % idade1"
   ]
  },
  {
   "cell_type": "code",
   "execution_count": 27,
   "id": "f8c1b086",
   "metadata": {},
   "outputs": [],
   "source": [
    "nome = \"Elysiario\"\n"
   ]
  },
  {
   "cell_type": "code",
   "execution_count": 33,
   "id": "afb49d33",
   "metadata": {},
   "outputs": [
    {
     "data": {
      "text/plain": [
       "'Elysiario'"
      ]
     },
     "execution_count": 33,
     "metadata": {},
     "output_type": "execute_result"
    }
   ],
   "source": [
    "print\n",
    "nome"
   ]
  },
  {
   "cell_type": "code",
   "execution_count": 35,
   "id": "749ac973",
   "metadata": {},
   "outputs": [],
   "source": [
    "sobrenome = \"Santos\""
   ]
  },
  {
   "cell_type": "code",
   "execution_count": 36,
   "id": "305d9eb4",
   "metadata": {},
   "outputs": [],
   "source": [
    "NomeCompleto = nome + \" \" + sobrenome"
   ]
  },
  {
   "cell_type": "code",
   "execution_count": 37,
   "id": "a26924bc",
   "metadata": {},
   "outputs": [
    {
     "data": {
      "text/plain": [
       "'Elysiario Santos'"
      ]
     },
     "execution_count": 37,
     "metadata": {},
     "output_type": "execute_result"
    }
   ],
   "source": [
    "NomeCompleto"
   ]
  }
 ],
 "metadata": {
  "kernelspec": {
   "display_name": "Python 3",
   "language": "python",
   "name": "python3"
  },
  "language_info": {
   "codemirror_mode": {
    "name": "ipython",
    "version": 3
   },
   "file_extension": ".py",
   "mimetype": "text/x-python",
   "name": "python",
   "nbconvert_exporter": "python",
   "pygments_lexer": "ipython3",
   "version": "3.8.8"
  }
 },
 "nbformat": 4,
 "nbformat_minor": 5
}
