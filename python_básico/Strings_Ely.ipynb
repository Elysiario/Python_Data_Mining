{
 "cells": [
  {
   "cell_type": "markdown",
   "id": "8ca90c99",
   "metadata": {},
   "source": [
    "## Criando uma String"
   ]
  },
  {
   "cell_type": "code",
   "execution_count": null,
   "id": "3ccfc3da",
   "metadata": {},
   "outputs": [],
   "source": [
    "# Uma única palavra\n",
    "'oi'"
   ]
  },
  {
   "cell_type": "code",
   "execution_count": null,
   "id": "5e899e4a",
   "metadata": {},
   "outputs": [],
   "source": [
    "# Criando uma frase\n",
    "'Criando uma string em Python'"
   ]
  },
  {
   "cell_type": "code",
   "execution_count": null,
   "id": "8c9fe82b",
   "metadata": {},
   "outputs": [],
   "source": [
    "'hello, world'"
   ]
  },
  {
   "cell_type": "code",
   "execution_count": null,
   "id": "7cf8c461",
   "metadata": {},
   "outputs": [],
   "source": [
    "#testando strings em python\n",
    "'testando strings \"em python\"'"
   ]
  },
  {
   "cell_type": "code",
   "execution_count": null,
   "id": "e56e5486",
   "metadata": {},
   "outputs": [],
   "source": [
    "print('Testando \\nStrings \\nem \\nPython')"
   ]
  },
  {
   "cell_type": "markdown",
   "id": "70bb2138",
   "metadata": {},
   "source": [
    "## Indexando Strings"
   ]
  },
  {
   "cell_type": "code",
   "execution_count": 1,
   "id": "489b94e5",
   "metadata": {},
   "outputs": [],
   "source": [
    "#Atrbuibuindo uma String\n",
    "S = 'Data Science Academy'"
   ]
  },
  {
   "cell_type": "code",
   "execution_count": 2,
   "id": "6f46c6d5",
   "metadata": {},
   "outputs": [
    {
     "name": "stdout",
     "output_type": "stream",
     "text": [
      "Data Science Academy\n"
     ]
    }
   ],
   "source": [
    "print(S)"
   ]
  },
  {
   "cell_type": "code",
   "execution_count": null,
   "id": "ffc9bfa3",
   "metadata": {},
   "outputs": [],
   "source": [
    "S[0]"
   ]
  },
  {
   "cell_type": "code",
   "execution_count": null,
   "id": "10a78cd9",
   "metadata": {},
   "outputs": [],
   "source": [
    "S[1]"
   ]
  },
  {
   "cell_type": "code",
   "execution_count": null,
   "id": "f8b1e7c6",
   "metadata": {},
   "outputs": [],
   "source": [
    "S[2]"
   ]
  },
  {
   "cell_type": "markdown",
   "id": "baf4a2a9",
   "metadata": {},
   "source": [
    "## Podemos usar o símbolo de : para executar um slicing que faz a leitura de tudo até um ponto designado. Por exemplo"
   ]
  },
  {
   "cell_type": "code",
   "execution_count": null,
   "id": "22ae2d83",
   "metadata": {},
   "outputs": [],
   "source": [
    "## Retorna tudo, exceto a posição 1 que é a letra D\n",
    "S[1:]"
   ]
  },
  {
   "cell_type": "code",
   "execution_count": null,
   "id": "218ec9c5",
   "metadata": {},
   "outputs": [],
   "source": [
    "# Retorna tudo até a a posição 3\n",
    "S[:3]"
   ]
  },
  {
   "cell_type": "code",
   "execution_count": null,
   "id": "8bca7c18",
   "metadata": {},
   "outputs": [],
   "source": [
    "# Retorna toda a String\n",
    "S[:]"
   ]
  },
  {
   "cell_type": "code",
   "execution_count": null,
   "id": "57cb71c0",
   "metadata": {},
   "outputs": [],
   "source": [
    "# Retorna a última letra\n",
    "S[-1]"
   ]
  },
  {
   "cell_type": "code",
   "execution_count": null,
   "id": "bdcf690f",
   "metadata": {},
   "outputs": [],
   "source": [
    "# Retorna tudo, exceto a última letra\n",
    "S[:-1]"
   ]
  },
  {
   "cell_type": "markdown",
   "id": "4515396c",
   "metadata": {},
   "source": [
    "## Nós também podemos usar a notação de índice e fatiar a string em pedaços específicos (o padrão é 1). Por exemplo, podemos usar dois pontos duas vezes em uma linha e, em seguida, um número que especifica a frequência para retornar elementos. Por exemplo:"
   ]
  },
  {
   "cell_type": "code",
   "execution_count": null,
   "id": "d2890433",
   "metadata": {},
   "outputs": [],
   "source": [
    "S[::1]"
   ]
  },
  {
   "cell_type": "code",
   "execution_count": null,
   "id": "6246696b",
   "metadata": {},
   "outputs": [],
   "source": [
    "S[::2]"
   ]
  },
  {
   "cell_type": "code",
   "execution_count": null,
   "id": "667ed20f",
   "metadata": {},
   "outputs": [],
   "source": [
    "S[::-1]"
   ]
  },
  {
   "cell_type": "markdown",
   "id": "169ac4dd",
   "metadata": {},
   "source": [
    "## Propriedade de String"
   ]
  },
  {
   "cell_type": "code",
   "execution_count": 21,
   "id": "2035d72d",
   "metadata": {},
   "outputs": [
    {
     "data": {
      "text/plain": [
       "'Data Science Academy é a melhor forma...'"
      ]
     },
     "execution_count": 21,
     "metadata": {},
     "output_type": "execute_result"
    }
   ],
   "source": [
    "S"
   ]
  },
  {
   "cell_type": "code",
   "execution_count": 22,
   "id": "a9a97e22",
   "metadata": {},
   "outputs": [
    {
     "data": {
      "text/plain": [
       "'Data Science Academy é a melhor forma... é a melhor forma...'"
      ]
     },
     "execution_count": 22,
     "metadata": {},
     "output_type": "execute_result"
    }
   ],
   "source": [
    "S + ' é a melhor forma...'"
   ]
  },
  {
   "cell_type": "code",
   "execution_count": 23,
   "id": "226650ad",
   "metadata": {},
   "outputs": [],
   "source": [
    "S = S + ' é a melhor maneira de estar preparado para o mercado de trabalho em ciência de dados!'"
   ]
  },
  {
   "cell_type": "code",
   "execution_count": 24,
   "id": "608bff10",
   "metadata": {},
   "outputs": [
    {
     "data": {
      "text/plain": [
       "'Data Science Academy é a melhor forma... é a melhor maneira de estar preparado para o mercado de trabalho em ciência de dados!'"
      ]
     },
     "execution_count": 24,
     "metadata": {},
     "output_type": "execute_result"
    }
   ],
   "source": [
    "S"
   ]
  },
  {
   "cell_type": "code",
   "execution_count": 5,
   "id": "9991e466",
   "metadata": {},
   "outputs": [],
   "source": [
    "Letra ='w'"
   ]
  },
  {
   "cell_type": "code",
   "execution_count": 6,
   "id": "5a0025e5",
   "metadata": {},
   "outputs": [
    {
     "data": {
      "text/plain": [
       "'www'"
      ]
     },
     "execution_count": 6,
     "metadata": {},
     "output_type": "execute_result"
    }
   ],
   "source": [
    "Letra * 3"
   ]
  },
  {
   "cell_type": "code",
   "execution_count": 7,
   "id": "624faabb",
   "metadata": {},
   "outputs": [],
   "source": [
    "# Funções  Built-In de Strings"
   ]
  },
  {
   "cell_type": "code",
   "execution_count": 25,
   "id": "73cc6f18",
   "metadata": {},
   "outputs": [
    {
     "data": {
      "text/plain": [
       "'Data Science Academy é a melhor forma... é a melhor maneira de estar preparado para o mercado de trabalho em ciência de dados!'"
      ]
     },
     "execution_count": 25,
     "metadata": {},
     "output_type": "execute_result"
    }
   ],
   "source": [
    "S"
   ]
  },
  {
   "cell_type": "code",
   "execution_count": 26,
   "id": "b339bb4b",
   "metadata": {},
   "outputs": [
    {
     "data": {
      "text/plain": [
       "'DATA SCIENCE ACADEMY É A MELHOR FORMA... É A MELHOR MANEIRA DE ESTAR PREPARADO PARA O MERCADO DE TRABALHO EM CIÊNCIA DE DADOS!'"
      ]
     },
     "execution_count": 26,
     "metadata": {},
     "output_type": "execute_result"
    }
   ],
   "source": [
    "S.upper()"
   ]
  },
  {
   "cell_type": "code",
   "execution_count": 27,
   "id": "9ff0db59",
   "metadata": {},
   "outputs": [
    {
     "data": {
      "text/plain": [
       "'data science academy é a melhor forma... é a melhor maneira de estar preparado para o mercado de trabalho em ciência de dados!'"
      ]
     },
     "execution_count": 27,
     "metadata": {},
     "output_type": "execute_result"
    }
   ],
   "source": [
    "S.lower()"
   ]
  },
  {
   "cell_type": "code",
   "execution_count": 28,
   "id": "7da5e02f",
   "metadata": {
    "scrolled": true
   },
   "outputs": [
    {
     "data": {
      "text/plain": [
       "['Data',\n",
       " 'Science',\n",
       " 'Academy',\n",
       " 'é',\n",
       " 'a',\n",
       " 'melhor',\n",
       " 'forma...',\n",
       " 'é',\n",
       " 'a',\n",
       " 'melhor',\n",
       " 'maneira',\n",
       " 'de',\n",
       " 'estar',\n",
       " 'preparado',\n",
       " 'para',\n",
       " 'o',\n",
       " 'mercado',\n",
       " 'de',\n",
       " 'trabalho',\n",
       " 'em',\n",
       " 'ciência',\n",
       " 'de',\n",
       " 'dados!']"
      ]
     },
     "execution_count": 28,
     "metadata": {},
     "output_type": "execute_result"
    }
   ],
   "source": [
    "S.split()"
   ]
  },
  {
   "cell_type": "code",
   "execution_count": null,
   "id": "8a0beb0a",
   "metadata": {},
   "outputs": [],
   "source": []
  },
  {
   "cell_type": "code",
   "execution_count": 29,
   "id": "665d2e7b",
   "metadata": {},
   "outputs": [
    {
     "data": {
      "text/plain": [
       "['Data Science Academ',\n",
       " ' é a melhor forma... é a melhor maneira de estar preparado para o mercado de trabalho em ciência de dados!']"
      ]
     },
     "execution_count": 29,
     "metadata": {},
     "output_type": "execute_result"
    }
   ],
   "source": [
    "S.split('y')"
   ]
  },
  {
   "cell_type": "markdown",
   "id": "e33b4e24",
   "metadata": {},
   "source": [
    "## Funções de String "
   ]
  },
  {
   "cell_type": "code",
   "execution_count": 36,
   "id": "6c77b317",
   "metadata": {},
   "outputs": [],
   "source": [
    "s = 'seja bem-vindo ao universo de python'"
   ]
  },
  {
   "cell_type": "code",
   "execution_count": 37,
   "id": "7a24e91d",
   "metadata": {},
   "outputs": [
    {
     "data": {
      "text/plain": [
       "'Seja bem-vindo ao universo de python'"
      ]
     },
     "execution_count": 37,
     "metadata": {},
     "output_type": "execute_result"
    }
   ],
   "source": [
    "s.capitalize()"
   ]
  },
  {
   "cell_type": "code",
   "execution_count": 38,
   "id": "1e0c697e",
   "metadata": {},
   "outputs": [
    {
     "data": {
      "text/plain": [
       "2"
      ]
     },
     "execution_count": 38,
     "metadata": {},
     "output_type": "execute_result"
    }
   ],
   "source": [
    "s.count('a')"
   ]
  },
  {
   "cell_type": "code",
   "execution_count": 39,
   "id": "8abab935",
   "metadata": {},
   "outputs": [
    {
     "data": {
      "text/plain": [
       "30"
      ]
     },
     "execution_count": 39,
     "metadata": {},
     "output_type": "execute_result"
    }
   ],
   "source": [
    "s.find('p')"
   ]
  },
  {
   "cell_type": "code",
   "execution_count": 40,
   "id": "89197002",
   "metadata": {},
   "outputs": [
    {
     "data": {
      "text/plain": [
       "True"
      ]
     },
     "execution_count": 40,
     "metadata": {},
     "output_type": "execute_result"
    }
   ],
   "source": [
    "s.islower()"
   ]
  },
  {
   "cell_type": "code",
   "execution_count": 41,
   "id": "050b090f",
   "metadata": {},
   "outputs": [
    {
     "data": {
      "text/plain": [
       "False"
      ]
     },
     "execution_count": 41,
     "metadata": {},
     "output_type": "execute_result"
    }
   ],
   "source": [
    "s.isspace()"
   ]
  },
  {
   "cell_type": "code",
   "execution_count": 42,
   "id": "c9fd368e",
   "metadata": {},
   "outputs": [
    {
     "data": {
      "text/plain": [
       "False"
      ]
     },
     "execution_count": 42,
     "metadata": {},
     "output_type": "execute_result"
    }
   ],
   "source": [
    "s.endswith('o')"
   ]
  },
  {
   "cell_type": "markdown",
   "id": "a0c71404",
   "metadata": {},
   "source": [
    "# Comparando Strings"
   ]
  },
  {
   "cell_type": "code",
   "execution_count": 43,
   "id": "d42826df",
   "metadata": {},
   "outputs": [
    {
     "name": "stdout",
     "output_type": "stream",
     "text": [
      "False\n"
     ]
    }
   ],
   "source": [
    "print(\"Python\" == \"R\")"
   ]
  },
  {
   "cell_type": "code",
   "execution_count": 46,
   "id": "b3a34c4a",
   "metadata": {},
   "outputs": [
    {
     "name": "stdout",
     "output_type": "stream",
     "text": [
      "True\n"
     ]
    }
   ],
   "source": [
    "print(\"Python\" == \"Python\")"
   ]
  },
  {
   "cell_type": "markdown",
   "id": "0f541856",
   "metadata": {},
   "source": [
    "## Mission Complete"
   ]
  },
  {
   "cell_type": "code",
   "execution_count": null,
   "id": "d814ca56",
   "metadata": {},
   "outputs": [],
   "source": []
  }
 ],
 "metadata": {
  "kernelspec": {
   "display_name": "Python 3",
   "language": "python",
   "name": "python3"
  },
  "language_info": {
   "codemirror_mode": {
    "name": "ipython",
    "version": 3
   },
   "file_extension": ".py",
   "mimetype": "text/x-python",
   "name": "python",
   "nbconvert_exporter": "python",
   "pygments_lexer": "ipython3",
   "version": "3.8.8"
  }
 },
 "nbformat": 4,
 "nbformat_minor": 5
}
