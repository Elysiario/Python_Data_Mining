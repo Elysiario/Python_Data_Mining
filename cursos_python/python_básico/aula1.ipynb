{
 "cells": [
  {
   "cell_type": "markdown",
   "id": "419c5508-73e6-4aa8-a4c4-b77c7003dcdc",
   "metadata": {},
   "source": [
    "# 3.Estruturas de repetição"
   ]
  },
  {
   "cell_type": "code",
   "execution_count": null,
   "id": "1e50bf1d-4fb7-45fa-b5b2-24f4bc1ffdaa",
   "metadata": {},
   "outputs": [],
   "source": [
    "## Programa para repetir uma determinada instrução 5 vezes\n",
    "i=1\n",
    "while i<=10:\n",
    "    print(i)\n",
    "    print(\"olá\")\n",
    "    i+=1"
   ]
  },
  {
   "cell_type": "code",
   "execution_count": null,
   "id": "ec8fa8b7-87e5-446a-9d4d-29f1db8bfc0a",
   "metadata": {},
   "outputs": [],
   "source": [
    "#Imprimir e somar resultado\n",
    "i=1\n",
    "soma=0\n",
    "while i<=5:\n",
    "    print(\"i\", i)\n",
    "    i+=1\n",
    "soma +=i\n",
    "\n",
    "print(\"Terminou o cliclo\")\n",
    "print(\"A soma dos valores é:\", soma) \n",
    "\n",
    "    "
   ]
  },
  {
   "cell_type": "code",
   "execution_count": null,
   "id": "87de6a74-ab9b-420b-8d13-9a1a6ce3e475",
   "metadata": {},
   "outputs": [],
   "source": [
    "#Programa para escrever os números pares que existem entre 1 e 5\n",
    "i=1\n",
    "while i<=10:\n",
    "    print(i%2)\n",
    "    if i%2==0:\n",
    "        print(\"o número\", i, \"é par\")\n",
    "    i+=1   "
   ]
  },
  {
   "cell_type": "markdown",
   "id": "81f301dd-848d-4b16-b19b-44e5ec3b16ab",
   "metadata": {},
   "source": [
    "## Ciclo for"
   ]
  },
  {
   "cell_type": "code",
   "execution_count": null,
   "id": "9f0ef7d6-69a2-491b-b381-7e4a97818f84",
   "metadata": {},
   "outputs": [],
   "source": [
    "for i in range (1,6):\n",
    "    print(\"i=\", i)\n",
    "    print(\"olá\")"
   ]
  },
  {
   "cell_type": "code",
   "execution_count": null,
   "id": "e9680a0d-0034-471b-a9f9-860ed641fc75",
   "metadata": {},
   "outputs": [],
   "source": [
    "for i in range (5,0,-1):\n",
    "    print(i)"
   ]
  },
  {
   "cell_type": "code",
   "execution_count": null,
   "id": "72cbc7ec-0548-43b7-9b0c-d09845696a42",
   "metadata": {},
   "outputs": [],
   "source": [
    "for i in range(0,5):\n",
    "    print(i)"
   ]
  },
  {
   "cell_type": "code",
   "execution_count": null,
   "id": "80dbb132-1412-414d-8e79-c7c8c18ac428",
   "metadata": {},
   "outputs": [],
   "source": [
    "for i in range(1,6):\n",
    "    if i==4:\n",
    "        break\n",
    "    print(i)"
   ]
  },
  {
   "cell_type": "code",
   "execution_count": null,
   "id": "42c0590c-164b-4c65-91fa-2b1ce3359c6a",
   "metadata": {},
   "outputs": [],
   "source": [
    "for i in range(1,6):\n",
    "    if i==3:\n",
    "        continue\n",
    "    print(i)"
   ]
  },
  {
   "cell_type": "code",
   "execution_count": 1,
   "id": "6809e097-4a8c-43ae-938d-cf2368321cba",
   "metadata": {},
   "outputs": [
    {
     "name": "stdin",
     "output_type": "stream",
     "text": [
      "Qual o valor em euros?  10\n"
     ]
    },
    {
     "name": "stdout",
     "output_type": "stream",
     "text": [
      "O valor em dólares é=  10.659600000000001\n"
     ]
    }
   ],
   "source": [
    "# Converter euros para dólares\n",
    "e=float(input(\"Qual o valor em euros? \"))\n",
    "d=1.06596*e\n",
    "print(\"O valor em dólares é= \", d)"
   ]
  },
  {
   "cell_type": "code",
   "execution_count": 2,
   "id": "2e8db839-08fb-4db7-9ee7-b93cb12d9858",
   "metadata": {},
   "outputs": [
    {
     "name": "stdin",
     "output_type": "stream",
     "text": [
      "Qual a temperatura em graus Fahrenheit ?   34\n"
     ]
    },
    {
     "name": "stdout",
     "output_type": "stream",
     "text": [
      "temp em graus F=  34.0 temp em graus C= 1.11\n"
     ]
    }
   ],
   "source": [
    "grausF=float(input(\"Qual a temperatura em graus Fahrenheit ?  \")) \n",
    "grausC=5/9*(grausF-32)\n",
    "print(\"temp em graus F= \",grausF, \"temp em graus C=\", round (grausC,2))\n",
    "      "
   ]
  }
 ],
 "metadata": {
  "kernelspec": {
   "display_name": "Python 3 (ipykernel)",
   "language": "python",
   "name": "python3"
  },
  "language_info": {
   "codemirror_mode": {
    "name": "ipython",
    "version": 3
   },
   "file_extension": ".py",
   "mimetype": "text/x-python",
   "name": "python",
   "nbconvert_exporter": "python",
   "pygments_lexer": "ipython3",
   "version": "3.9.16"
  }
 },
 "nbformat": 4,
 "nbformat_minor": 5
}
