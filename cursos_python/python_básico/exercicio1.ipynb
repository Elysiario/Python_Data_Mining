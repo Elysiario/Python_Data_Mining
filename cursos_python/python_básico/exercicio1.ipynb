{
 "cells": [
  {
   "cell_type": "markdown",
   "id": "ad68ce0f-fefd-4b40-943f-050455ecb4f3",
   "metadata": {},
   "source": [
    "Exercício 1"
   ]
  },
  {
   "cell_type": "markdown",
   "id": "649ec69f-530c-455b-a93e-b8faf53d66a8",
   "metadata": {},
   "source": [
    "#### As variáveis podem ser dos seguintes tipos\n",
    "    * Texto ou string\n",
    "    * Inteiro\n",
    "    * Float\n",
    "    * Lógico ou booleano"
   ]
  },
  {
   "cell_type": "code",
   "execution_count": 1,
   "id": "25e0be18-5b3c-45f3-95ec-771d1572e089",
   "metadata": {},
   "outputs": [
    {
     "name": "stdout",
     "output_type": "stream",
     "text": [
      "Leiria\n",
      "21\n",
      "80.25\n",
      "True\n",
      "False\n"
     ]
    }
   ],
   "source": [
    "# Criar uma variável do tipo texto\n",
    "cidade= 'Leiria'\n",
    "print(cidade)\n",
    "idade=21\n",
    "print(idade)\n",
    "# Criar uma variável tipo float\n",
    "peso=80.25\n",
    "print(peso)\n",
    "#Criar uma variável tipo boolean ou lógico\n",
    "e_aluno=True\n",
    "print(e_aluno)\n",
    "# atualiza/atribui valor da váriável \"e-aluno\" para False\n",
    "e_aluno=False\n",
    "print(e_aluno)"
   ]
  },
  {
   "cell_type": "markdown",
   "id": "f20f3022-735d-45da-91b3-fb3ad9b32977",
   "metadata": {},
   "source": [
    "#### Funções para identificar Tipos de variáveis "
   ]
  },
  {
   "cell_type": "code",
   "execution_count": 2,
   "id": "36216626-aa01-47a2-9814-0f820e471ae1",
   "metadata": {},
   "outputs": [
    {
     "name": "stdout",
     "output_type": "stream",
     "text": [
      "<class 'str'>\n",
      "<class 'int'>\n",
      "<class 'float'>\n",
      "<class 'bool'>\n"
     ]
    }
   ],
   "source": [
    "print(type (cidade))\n",
    "print(type(idade))\n",
    "print(type(peso))\n",
    "print(type(e_aluno))"
   ]
  },
  {
   "cell_type": "code",
   "execution_count": 3,
   "id": "51b3c4f7-540b-4450-88cf-13b5ff9a6e1a",
   "metadata": {},
   "outputs": [
    {
     "name": "stdout",
     "output_type": "stream",
     "text": [
      "Boa noite!\n"
     ]
    }
   ],
   "source": [
    "print('Boa noite!')"
   ]
  },
  {
   "cell_type": "code",
   "execution_count": 6,
   "id": "50a32b5f-56b3-4f55-8074-ab90a7a335c3",
   "metadata": {},
   "outputs": [
    {
     "name": "stdout",
     "output_type": "stream",
     "text": [
      "Qual o valor que pretende atribuir à variável?12\n",
      "A variável lida é  12  e o seu tipo de dados é  <class 'str'>\n"
     ]
    }
   ],
   "source": [
    "x= input('Qual o valor que pretende atribuir à variável?')\n",
    "tipo=type(x)\n",
    "print(\"A variável lida é \",x, \" e o seu tipo de dados é \",tipo)"
   ]
  },
  {
   "cell_type": "code",
   "execution_count": 7,
   "id": "15a5eba5-1c93-4bca-a1fd-9ee11b0f9c4c",
   "metadata": {},
   "outputs": [
    {
     "name": "stdout",
     "output_type": "stream",
     "text": [
      "Qual o valor que pretende atribuir à variável?12\n",
      "A variável lida é  12  e o seu tipo de dados é  <class 'int'>\n"
     ]
    }
   ],
   "source": [
    "# Converter caso queira fazer cálculo \"int\"\n",
    "x=int(input('Qual o valor que pretende atribuir à variável?'))\n",
    "tipo=type(x)\n",
    "print(\"A variável lida é \",x, \" e o seu tipo de dados é \",tipo)"
   ]
  },
  {
   "cell_type": "code",
   "execution_count": 8,
   "id": "44f11dc9-0a66-4365-8193-62880e2be21b",
   "metadata": {},
   "outputs": [
    {
     "name": "stdout",
     "output_type": "stream",
     "text": [
      "Qual o valor que pretende atribuir à variável?12\n",
      "A variável lida é  12.0  e o seu tipo de dados é  <class 'float'>\n"
     ]
    }
   ],
   "source": [
    "# Converter caso queira fazer cálculo \"float\"\n",
    "x=float(input('Qual o valor que pretende atribuir à variável?'))\n",
    "tipo=type(x)\n",
    "print(\"A variável lida é \",x, \" e o seu tipo de dados é \",tipo)"
   ]
  },
  {
   "cell_type": "code",
   "execution_count": 9,
   "id": "cf8e30d6-48d2-4642-8595-0e2bbaf8b173",
   "metadata": {},
   "outputs": [],
   "source": [
    "x=20\n",
    "y=5\n",
    "#Soma\n",
    "z=x+y"
   ]
  },
  {
   "cell_type": "code",
   "execution_count": 10,
   "id": "a05fe49a-6d29-4a48-92c8-17c69c60cf15",
   "metadata": {},
   "outputs": [
    {
     "name": "stdout",
     "output_type": "stream",
     "text": [
      "A soma de 20 e 5 é 25\n"
     ]
    }
   ],
   "source": [
    "\n",
    "print(\"A soma de\" ,x, \"e\", y, \"é\", z)"
   ]
  },
  {
   "cell_type": "code",
   "execution_count": 12,
   "id": "73ef4896-5e71-4c38-acd3-4c60cb6613eb",
   "metadata": {},
   "outputs": [
    {
     "name": "stdout",
     "output_type": "stream",
     "text": [
      "A subtração de 20 e 5 é 15\n"
     ]
    }
   ],
   "source": [
    "# Subtração\n",
    "x=20\n",
    "y=5\n",
    "z=x-y\n",
    "print(\"A subtração de\" ,x, \"e\", y, \"é\", z)"
   ]
  },
  {
   "cell_type": "code",
   "execution_count": 13,
   "id": "b86d4dde-5c7c-4848-a844-0032595d2dc8",
   "metadata": {},
   "outputs": [
    {
     "name": "stdout",
     "output_type": "stream",
     "text": [
      "A multiplicação de 20 e 5 é 100\n"
     ]
    }
   ],
   "source": [
    "# Multiplicação\n",
    "x=20\n",
    "y=5\n",
    "z=x*y\n",
    "print(\"A multiplicação de\" ,x, \"e\", y, \"é\", z)"
   ]
  },
  {
   "cell_type": "code",
   "execution_count": 14,
   "id": "9b849d1b-e104-4f93-85d3-43dc0d0b3cad",
   "metadata": {},
   "outputs": [
    {
     "name": "stdout",
     "output_type": "stream",
     "text": [
      "A divisão de 20 e 5 é 4.0\n",
      "O resto da divisão de 20 e 5 é 0\n",
      "A potência de 20 e 5 é 3200000\n"
     ]
    }
   ],
   "source": [
    "# Divisão\n",
    "x=20\n",
    "y=5\n",
    "z=x/y\n",
    "print(\"A divisão de\" ,x, \"e\", y, \"é\", z)\n",
    "# Resto da divisão\n",
    "z=x%y\n",
    "print(\"O resto da divisão de\" ,x, \"e\", y, \"é\", z)\n",
    "#Potência\n",
    "z=x**y\n",
    "print(\"A potência de\" ,x, \"e\", y, \"é\", z)"
   ]
  },
  {
   "cell_type": "markdown",
   "id": "caf21b24-8994-4aae-8013-89c6c3350776",
   "metadata": {},
   "source": [
    "### Estruturas de Decisão\n",
    "##if...else\n"
   ]
  },
  {
   "cell_type": "code",
   "execution_count": 15,
   "id": "5542e4fc-a58e-4471-b5de-3d63a433252c",
   "metadata": {},
   "outputs": [
    {
     "name": "stdout",
     "output_type": "stream",
     "text": [
      "Qual a a nota?10\n",
      "Aprovado\n"
     ]
    }
   ],
   "source": [
    "nota= int(input(\"Qual a a nota?\"))\n",
    "if nota > 9.5:\n",
    "    print(\"Aprovado\")\n",
    "else: \n",
    "    print('Reprovado')"
   ]
  },
  {
   "cell_type": "code",
   "execution_count": 17,
   "id": "1ffc5d2b-4c7c-4973-9aa8-831e61b9cdd6",
   "metadata": {},
   "outputs": [
    {
     "name": "stdout",
     "output_type": "stream",
     "text": [
      "Reprovado\n"
     ]
    }
   ],
   "source": [
    "#Programa de lançamento de notas\n",
    "nota = 5\n",
    "if nota > 0 and nota < 9.5:\n",
    "    print(\"Reprovado\")\n",
    "elif nota >= 9.5 and nota < 13.9:\n",
    "    print(\"Suficiente\")\n",
    "elif nota >= 13.9 and nota <16:\n",
    "    print(\"Bom\")\n",
    "elif nota >= 16 and nota <18:\n",
    "    print(\"Muito Bom\")\n",
    "else:\n",
    "    print(\"Excelente\")"
   ]
  },
  {
   "cell_type": "code",
   "execution_count": 1,
   "id": "c4c3307f-6aea-4c14-85f6-f36875b360f6",
   "metadata": {},
   "outputs": [
    {
     "name": "stdin",
     "output_type": "stream",
     "text": [
      "Qual a nota? 10\n"
     ]
    },
    {
     "name": "stdout",
     "output_type": "stream",
     "text": [
      "Suficiente\n"
     ]
    }
   ],
   "source": [
    "#Otimizar o código\n",
    "nota=int(input(\"Qual a nota?\"))\n",
    "\n",
    "if nota <9.5:\n",
    "    print(\"Reprovado\")\n",
    "elif nota <13.9:\n",
    "    print(\"Suficiente\")\n",
    "elif nota <16:\n",
    "    print(\"Bom\")\n",
    "elif nota <18:\n",
    "    print(\"Muito Bom\")\n",
    "else:\n",
    "    print(\"Excelente\")"
   ]
  },
  {
   "cell_type": "code",
   "execution_count": null,
   "id": "36da08a1-7661-407a-86f6-d7580b8690cc",
   "metadata": {},
   "outputs": [],
   "source": []
  }
 ],
 "metadata": {
  "kernelspec": {
   "display_name": "Python 3 (ipykernel)",
   "language": "python",
   "name": "python3"
  },
  "language_info": {
   "codemirror_mode": {
    "name": "ipython",
    "version": 3
   },
   "file_extension": ".py",
   "mimetype": "text/x-python",
   "name": "python",
   "nbconvert_exporter": "python",
   "pygments_lexer": "ipython3",
   "version": "3.9.16"
  }
 },
 "nbformat": 4,
 "nbformat_minor": 5
}
