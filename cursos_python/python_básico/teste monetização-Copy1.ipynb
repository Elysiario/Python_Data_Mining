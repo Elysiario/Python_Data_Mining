{
 "cells": [
  {
   "cell_type": "code",
   "execution_count": 1,
   "id": "29bb6225",
   "metadata": {},
   "outputs": [],
   "source": [
    "#Importar biblioteca pandas\n",
    "import pandas as pd"
   ]
  },
  {
   "cell_type": "code",
   "execution_count": 2,
   "id": "fd524197",
   "metadata": {},
   "outputs": [],
   "source": [
    "#Importar modulo de csv\n",
    "import csv"
   ]
  },
  {
   "cell_type": "code",
   "execution_count": 6,
   "id": "eb6093da",
   "metadata": {},
   "outputs": [],
   "source": [
    "#Acessando o arquivo\n",
    "money = \"arquivos/teste.csv\""
   ]
  },
  {
   "cell_type": "code",
   "execution_count": 7,
   "id": "19a5afe3",
   "metadata": {},
   "outputs": [],
   "source": [
    "#Nomeando o data frame (df)\n",
    "df = pd.read_csv(money)"
   ]
  },
  {
   "cell_type": "code",
   "execution_count": 8,
   "id": "ed6cbc54",
   "metadata": {},
   "outputs": [
    {
     "data": {
      "text/html": [
       "<div>\n",
       "<style scoped>\n",
       "    .dataframe tbody tr th:only-of-type {\n",
       "        vertical-align: middle;\n",
       "    }\n",
       "\n",
       "    .dataframe tbody tr th {\n",
       "        vertical-align: top;\n",
       "    }\n",
       "\n",
       "    .dataframe thead th {\n",
       "        text-align: right;\n",
       "    }\n",
       "</style>\n",
       "<table border=\"1\" class=\"dataframe\">\n",
       "  <thead>\n",
       "    <tr style=\"text-align: right;\">\n",
       "      <th></th>\n",
       "      <th>Vídeo;Título do vídeo;Horário de publicação do vídeo;RPM (BRL);Estimativa de reproduções monetizadas;CPM baseado em exibição (BRL);CPM (BRL);Impressões de anúncios;Sua receita estimada do Google AdSense (BRL);Sua receita estimada do DoubleClick (BRL);Receita de anúncios no YouTube (BRL);Sua receita estimada de anúncios (BRL);Sua receita do YouTube Premium (BRL);Sua receita por transação (BRL);Transações;Sua receita de transações (BRL);Sua receita estimada (BRL);Comentários adicionados;Compartilhamentos;\"Marcações \"\"Não gostei\"\"\";\"Marcações \"\"Gostei\"\"\";Inscrições perdidas;Inscrições obtidas;Visualizações;Tempo de exibição (horas);Duração média da visualização;Impressões;Taxa de cliques de impressões (%)</th>\n",
       "    </tr>\n",
       "  </thead>\n",
       "  <tbody>\n",
       "    <tr>\n",
       "      <th>bHmMv-ZQAaw;FAMÍLIAS RENOVADAS NA ESPERANÇA | TERÇO DO AMOR PODEROSO - @Comunidade Católica Pantokrator;Dec 22</th>\n",
       "      <td>2021;6.895;1417;8.212;7.445;1563;6.386;0;11.6...</td>\n",
       "    </tr>\n",
       "    <tr>\n",
       "      <th>Q30ogPhcLVc;FAMÍLIAS RENOVADAS NA FÉ | TERÇO DO AMOR PODEROSO - @Comunidade Católica Pantokrator;Dec 21</th>\n",
       "      <td>2021;6.82;1644;8.138;07.06;1895;7.36;0;13.379...</td>\n",
       "    </tr>\n",
       "    <tr>\n",
       "      <th>LaMsHpwqHQg;FAMÍLIAS RENOVADAS NO AMOR - ADORAÇÃO | TERÇO DO AMOR PODEROSO - @Comunidade Católica Pantokrator​;Dec 24</th>\n",
       "      <td>2021;6.391;1456;8.126;7.521;1573;6.508;0;11.8...</td>\n",
       "    </tr>\n",
       "    <tr>\n",
       "      <th>-95FIDB7MYE;FAMÍLIAS RENOVADAS NA PROVIDÊNCIA  | TERÇO DO AMOR PODEROSO - @Comunidade Católica Pantokrator;Dec 23</th>\n",
       "      <td>2021;5.453;1052;8.805;8.278;1119;5.075;0;9.26...</td>\n",
       "    </tr>\n",
       "    <tr>\n",
       "      <th>Total;;;6.41;5569;8.28;7.498;6150;25.33;0;46.11;25.33;617;0;0;0;25.947;18;349;1;968;7;44;4048;11.047.779;00:16:22;57345;3.93</th>\n",
       "      <td>NaN</td>\n",
       "    </tr>\n",
       "  </tbody>\n",
       "</table>\n",
       "</div>"
      ],
      "text/plain": [
       "                                                   Vídeo;Título do vídeo;Horário de publicação do vídeo;RPM (BRL);Estimativa de reproduções monetizadas;CPM baseado em exibição (BRL);CPM (BRL);Impressões de anúncios;Sua receita estimada do Google AdSense (BRL);Sua receita estimada do DoubleClick (BRL);Receita de anúncios no YouTube (BRL);Sua receita estimada de anúncios (BRL);Sua receita do YouTube Premium (BRL);Sua receita por transação (BRL);Transações;Sua receita de transações (BRL);Sua receita estimada (BRL);Comentários adicionados;Compartilhamentos;\"Marcações \"\"Não gostei\"\"\";\"Marcações \"\"Gostei\"\"\";Inscrições perdidas;Inscrições obtidas;Visualizações;Tempo de exibição (horas);Duração média da visualização;Impressões;Taxa de cliques de impressões (%)\n",
       "bHmMv-ZQAaw;FAMÍLIAS RENOVADAS NA ESPERANÇA | T...   2021;6.895;1417;8.212;7.445;1563;6.386;0;11.6...                                                                                                                                                                                                                                                                                                                                                                                                                                                                                                                                                                                                                                                                                     \n",
       "Q30ogPhcLVc;FAMÍLIAS RENOVADAS NA FÉ | TERÇO DO...   2021;6.82;1644;8.138;07.06;1895;7.36;0;13.379...                                                                                                                                                                                                                                                                                                                                                                                                                                                                                                                                                                                                                                                                                     \n",
       "LaMsHpwqHQg;FAMÍLIAS RENOVADAS NO AMOR - ADORAÇ...   2021;6.391;1456;8.126;7.521;1573;6.508;0;11.8...                                                                                                                                                                                                                                                                                                                                                                                                                                                                                                                                                                                                                                                                                     \n",
       "-95FIDB7MYE;FAMÍLIAS RENOVADAS NA PROVIDÊNCIA  ...   2021;5.453;1052;8.805;8.278;1119;5.075;0;9.26...                                                                                                                                                                                                                                                                                                                                                                                                                                                                                                                                                                                                                                                                                     \n",
       "Total;;;6.41;5569;8.28;7.498;6150;25.33;0;46.11...                                                NaN                                                                                                                                                                                                                                                                                                                                                                                                                                                                                                                                                                                                                                                                                     "
      ]
     },
     "execution_count": 8,
     "metadata": {},
     "output_type": "execute_result"
    }
   ],
   "source": [
    "#Exibindo o cabeçalho\n",
    "df.head()"
   ]
  },
  {
   "cell_type": "code",
   "execution_count": 9,
   "id": "4d26f2e5",
   "metadata": {},
   "outputs": [
    {
     "data": {
      "text/html": [
       "<div>\n",
       "<style scoped>\n",
       "    .dataframe tbody tr th:only-of-type {\n",
       "        vertical-align: middle;\n",
       "    }\n",
       "\n",
       "    .dataframe tbody tr th {\n",
       "        vertical-align: top;\n",
       "    }\n",
       "\n",
       "    .dataframe thead th {\n",
       "        text-align: right;\n",
       "    }\n",
       "</style>\n",
       "<table border=\"1\" class=\"dataframe\">\n",
       "  <thead>\n",
       "    <tr style=\"text-align: right;\">\n",
       "      <th></th>\n",
       "      <th>Vídeo;Título do vídeo;Horário de publicação do vídeo;RPM (BRL);Estimativa de reproduções monetizadas;CPM baseado em exibição (BRL);CPM (BRL);Impressões de anúncios;Sua receita estimada do Google AdSense (BRL);Sua receita estimada do DoubleClick (BRL);Receita de anúncios no YouTube (BRL);Sua receita estimada de anúncios (BRL);Sua receita do YouTube Premium (BRL);Sua receita por transação (BRL);Transações;Sua receita de transações (BRL);Sua receita estimada (BRL);Comentários adicionados;Compartilhamentos;\"Marcações \"\"Não gostei\"\"\";\"Marcações \"\"Gostei\"\"\";Inscrições perdidas;Inscrições obtidas;Visualizações;Tempo de exibição (horas);Duração média da visualização;Impressões;Taxa de cliques de impressões (%)</th>\n",
       "    </tr>\n",
       "  </thead>\n",
       "  <tbody>\n",
       "    <tr>\n",
       "      <th>count</th>\n",
       "      <td>4</td>\n",
       "    </tr>\n",
       "    <tr>\n",
       "      <th>unique</th>\n",
       "      <td>4</td>\n",
       "    </tr>\n",
       "    <tr>\n",
       "      <th>top</th>\n",
       "      <td>2021;6.895;1417;8.212;7.445;1563;6.386;0;11.6...</td>\n",
       "    </tr>\n",
       "    <tr>\n",
       "      <th>freq</th>\n",
       "      <td>1</td>\n",
       "    </tr>\n",
       "  </tbody>\n",
       "</table>\n",
       "</div>"
      ],
      "text/plain": [
       "       Vídeo;Título do vídeo;Horário de publicação do vídeo;RPM (BRL);Estimativa de reproduções monetizadas;CPM baseado em exibição (BRL);CPM (BRL);Impressões de anúncios;Sua receita estimada do Google AdSense (BRL);Sua receita estimada do DoubleClick (BRL);Receita de anúncios no YouTube (BRL);Sua receita estimada de anúncios (BRL);Sua receita do YouTube Premium (BRL);Sua receita por transação (BRL);Transações;Sua receita de transações (BRL);Sua receita estimada (BRL);Comentários adicionados;Compartilhamentos;\"Marcações \"\"Não gostei\"\"\";\"Marcações \"\"Gostei\"\"\";Inscrições perdidas;Inscrições obtidas;Visualizações;Tempo de exibição (horas);Duração média da visualização;Impressões;Taxa de cliques de impressões (%)\n",
       "count                                                   4                                                                                                                                                                                                                                                                                                                                                                                                                                                                                                                                                                                                                                                                                     \n",
       "unique                                                  4                                                                                                                                                                                                                                                                                                                                                                                                                                                                                                                                                                                                                                                                                     \n",
       "top      2021;6.895;1417;8.212;7.445;1563;6.386;0;11.6...                                                                                                                                                                                                                                                                                                                                                                                                                                                                                                                                                                                                                                                                                     \n",
       "freq                                                    1                                                                                                                                                                                                                                                                                                                                                                                                                                                                                                                                                                                                                                                                                     "
      ]
     },
     "execution_count": 9,
     "metadata": {},
     "output_type": "execute_result"
    }
   ],
   "source": [
    "#Resumo estatístico\n",
    "df.describe()"
   ]
  },
  {
   "cell_type": "code",
   "execution_count": null,
   "id": "c2c1f6e6",
   "metadata": {},
   "outputs": [],
   "source": []
  }
 ],
 "metadata": {
  "kernelspec": {
   "display_name": "Python 3 (ipykernel)",
   "language": "python",
   "name": "python3"
  },
  "language_info": {
   "codemirror_mode": {
    "name": "ipython",
    "version": 3
   },
   "file_extension": ".py",
   "mimetype": "text/x-python",
   "name": "python",
   "nbconvert_exporter": "python",
   "pygments_lexer": "ipython3",
   "version": "3.9.7"
  }
 },
 "nbformat": 4,
 "nbformat_minor": 5
}
