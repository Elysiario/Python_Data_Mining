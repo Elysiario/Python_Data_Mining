{
 "cells": [
  {
   "cell_type": "markdown",
   "id": "d997a44a-774b-457e-8d52-e70d35f0c670",
   "metadata": {},
   "source": [
    "## Estrutura de dados"
   ]
  },
  {
   "cell_type": "code",
   "execution_count": 1,
   "id": "b49774ea-4d7d-4216-acca-ed52b7329c9d",
   "metadata": {},
   "outputs": [],
   "source": [
    "#Lista\n",
    "x=[1,2,3,4]"
   ]
  },
  {
   "cell_type": "code",
   "execution_count": 2,
   "id": "70f1b284-e12f-41c7-b130-5779fe30fcb0",
   "metadata": {},
   "outputs": [
    {
     "data": {
      "text/plain": [
       "4"
      ]
     },
     "execution_count": 2,
     "metadata": {},
     "output_type": "execute_result"
    }
   ],
   "source": [
    "# [] busca por uma posição específica\n",
    "x[3]"
   ]
  },
  {
   "cell_type": "code",
   "execution_count": 3,
   "id": "83a72727-089b-4237-a3db-f57f0074dcea",
   "metadata": {},
   "outputs": [
    {
     "name": "stdout",
     "output_type": "stream",
     "text": [
      "[1, 2, 3, 4]\n"
     ]
    }
   ],
   "source": [
    "print(x)"
   ]
  },
  {
   "cell_type": "code",
   "execution_count": 4,
   "id": "97093a7c-1e91-4cff-96a0-059cffa04025",
   "metadata": {},
   "outputs": [],
   "source": [
    "#podemos guardar strings e integers na mesma lista\n",
    "x=[\"1\", 2, False, 3, 'mesa',4]"
   ]
  },
  {
   "cell_type": "code",
   "execution_count": 5,
   "id": "e5f500ad-6f6c-4c4f-8840-da68b10c992e",
   "metadata": {},
   "outputs": [
    {
     "data": {
      "text/plain": [
       "'mesa'"
      ]
     },
     "execution_count": 5,
     "metadata": {},
     "output_type": "execute_result"
    }
   ],
   "source": [
    "x[4]"
   ]
  },
  {
   "cell_type": "code",
   "execution_count": 6,
   "id": "7b0bfc34-ea53-4373-9022-c7075a94570c",
   "metadata": {},
   "outputs": [],
   "source": [
    "#Lista dentro da lista\n",
    "x=[\"1\", 2, False, 3, 'mesa', 4, list(range(1,5))]"
   ]
  },
  {
   "cell_type": "code",
   "execution_count": 7,
   "id": "f7e9cfa7-e522-4dae-ac6b-4f52501f83ae",
   "metadata": {},
   "outputs": [
    {
     "data": {
      "text/plain": [
       "4"
      ]
     },
     "execution_count": 7,
     "metadata": {},
     "output_type": "execute_result"
    }
   ],
   "source": [
    "x[5]"
   ]
  },
  {
   "cell_type": "code",
   "execution_count": 8,
   "id": "11adc216-51a8-48dc-9d51-17a72fbf727a",
   "metadata": {},
   "outputs": [
    {
     "data": {
      "text/plain": [
       "7"
      ]
     },
     "execution_count": 8,
     "metadata": {},
     "output_type": "execute_result"
    }
   ],
   "source": [
    "#informar o tamanho da lista\n",
    "len(x)"
   ]
  },
  {
   "cell_type": "code",
   "execution_count": 9,
   "id": "d67384dc-b73a-43c1-86b7-a24ff4dfa8c0",
   "metadata": {},
   "outputs": [
    {
     "data": {
      "text/plain": [
       "'mesa'"
      ]
     },
     "execution_count": 9,
     "metadata": {},
     "output_type": "execute_result"
    }
   ],
   "source": [
    "# Indo de trás para frente\n",
    "x[-3]"
   ]
  },
  {
   "cell_type": "code",
   "execution_count": 10,
   "id": "4f95aba6-a5b9-4032-8151-56ec0f67e910",
   "metadata": {},
   "outputs": [],
   "source": [
    "#Alterar elementos de uma lista\n",
    "x[0]=100"
   ]
  },
  {
   "cell_type": "code",
   "execution_count": 11,
   "id": "4fd2de2c-1949-41b4-aa31-9567208c5068",
   "metadata": {},
   "outputs": [
    {
     "data": {
      "text/plain": [
       "[100, 2, False, 3, 'mesa', 4, [1, 2, 3, 4]]"
      ]
     },
     "execution_count": 11,
     "metadata": {},
     "output_type": "execute_result"
    }
   ],
   "source": [
    "x"
   ]
  },
  {
   "cell_type": "code",
   "execution_count": 12,
   "id": "95884dca-db01-4fab-8bbc-20bf88324fff",
   "metadata": {},
   "outputs": [],
   "source": [
    "x[1]=200*10"
   ]
  },
  {
   "cell_type": "code",
   "execution_count": 13,
   "id": "284aa9d9-a27e-43c5-9425-a2ef2cc97e77",
   "metadata": {},
   "outputs": [
    {
     "data": {
      "text/plain": [
       "[100, 2000, False, 3, 'mesa', 4, [1, 2, 3, 4]]"
      ]
     },
     "execution_count": 13,
     "metadata": {},
     "output_type": "execute_result"
    }
   ],
   "source": [
    "x"
   ]
  },
  {
   "cell_type": "code",
   "execution_count": 15,
   "id": "d8a7416f-c820-435c-82dc-b4be285c48b7",
   "metadata": {},
   "outputs": [
    {
     "name": "stdout",
     "output_type": "stream",
     "text": [
      "posição 0 elemento da lista 100\n",
      "posição 1 elemento da lista 2000\n",
      "posição 2 elemento da lista False\n",
      "posição 3 elemento da lista 3\n",
      "posição 4 elemento da lista mesa\n",
      "posição 5 elemento da lista 4\n",
      "posição 6 elemento da lista [1, 2, 3, 4]\n"
     ]
    }
   ],
   "source": [
    "for i in range(0, len(x)):\n",
    "    print(\"posição\", i, \"elemento da lista\", x[i])"
   ]
  },
  {
   "cell_type": "code",
   "execution_count": 16,
   "id": "f34050f4-3922-4870-aca2-0ffaa4eefc2b",
   "metadata": {},
   "outputs": [],
   "source": [
    "#Inserindo elementos no final da lista\n",
    "x.append(5000)"
   ]
  },
  {
   "cell_type": "code",
   "execution_count": 17,
   "id": "422a0732-b6bb-4f98-ab08-ff8805364f4e",
   "metadata": {},
   "outputs": [
    {
     "data": {
      "text/plain": [
       "8"
      ]
     },
     "execution_count": 17,
     "metadata": {},
     "output_type": "execute_result"
    }
   ],
   "source": [
    "len(x)"
   ]
  },
  {
   "cell_type": "code",
   "execution_count": 18,
   "id": "fd1e119e-38dc-4a6e-a604-e40eaf074c59",
   "metadata": {},
   "outputs": [],
   "source": [
    "#Inserir vários elementos de uma vez\n",
    "x.extend([3,6,7])"
   ]
  },
  {
   "cell_type": "code",
   "execution_count": 19,
   "id": "31425271-9a00-46da-84b0-cdf22680fadf",
   "metadata": {},
   "outputs": [
    {
     "data": {
      "text/plain": [
       "[100, 2000, False, 3, 'mesa', 4, [1, 2, 3, 4], 5000, 3, 6, 7]"
      ]
     },
     "execution_count": 19,
     "metadata": {},
     "output_type": "execute_result"
    }
   ],
   "source": [
    "x\n"
   ]
  },
  {
   "cell_type": "code",
   "execution_count": 20,
   "id": "b120b950-63c2-4697-93be-f9bff33c43b5",
   "metadata": {},
   "outputs": [
    {
     "data": {
      "text/plain": [
       "11"
      ]
     },
     "execution_count": 20,
     "metadata": {},
     "output_type": "execute_result"
    }
   ],
   "source": [
    "len(x)"
   ]
  },
  {
   "cell_type": "code",
   "execution_count": 21,
   "id": "26149a9b-adf2-4598-8498-1c70be171659",
   "metadata": {},
   "outputs": [],
   "source": [
    "#Remove elemento de campo específico da lista\n",
    "x.remove(3)"
   ]
  },
  {
   "cell_type": "code",
   "execution_count": 22,
   "id": "bacf94ae-5cee-4bd7-a3c8-0ba5300ea1b7",
   "metadata": {},
   "outputs": [
    {
     "data": {
      "text/plain": [
       "[100, 2000, False, 'mesa', 4, [1, 2, 3, 4], 5000, 3, 6, 7]"
      ]
     },
     "execution_count": 22,
     "metadata": {},
     "output_type": "execute_result"
    }
   ],
   "source": [
    "x"
   ]
  },
  {
   "cell_type": "code",
   "execution_count": 23,
   "id": "9e3ac42c-1923-4be5-85a3-37fd0709e942",
   "metadata": {},
   "outputs": [
    {
     "data": {
      "text/plain": [
       "10"
      ]
     },
     "execution_count": 23,
     "metadata": {},
     "output_type": "execute_result"
    }
   ],
   "source": [
    "len(x)"
   ]
  },
  {
   "cell_type": "code",
   "execution_count": 24,
   "id": "7ebb6046-e141-4e7a-8b29-8ad9ed75b060",
   "metadata": {},
   "outputs": [
    {
     "data": {
      "text/plain": [
       "7"
      ]
     },
     "execution_count": 24,
     "metadata": {},
     "output_type": "execute_result"
    }
   ],
   "source": [
    "#Remove o último item da lista\n",
    "x.pop()"
   ]
  },
  {
   "cell_type": "code",
   "execution_count": 25,
   "id": "b5c14536-489c-4321-85b8-2c0561203e27",
   "metadata": {},
   "outputs": [
    {
     "data": {
      "text/plain": [
       "[100, 2000, False, 'mesa', 4, [1, 2, 3, 4], 5000, 3, 6]"
      ]
     },
     "execution_count": 25,
     "metadata": {},
     "output_type": "execute_result"
    }
   ],
   "source": [
    "x"
   ]
  },
  {
   "cell_type": "code",
   "execution_count": 26,
   "id": "b369ec9f-4e3a-4f48-b437-9ffc2f61fe25",
   "metadata": {},
   "outputs": [],
   "source": [
    "#Dicionários\n",
    "notas={'Carlos':14.2, 'Marta': 18.0, 'Mariana': 9.7, 'Tomás': 11.9}"
   ]
  },
  {
   "cell_type": "code",
   "execution_count": 27,
   "id": "e9ebcc2e-2081-4fd1-a944-217990f918d3",
   "metadata": {},
   "outputs": [
    {
     "data": {
      "text/plain": [
       "{'Carlos': 14.2, 'Marta': 18.0, 'Mariana': 9.7, 'Tomás': 11.9}"
      ]
     },
     "execution_count": 27,
     "metadata": {},
     "output_type": "execute_result"
    }
   ],
   "source": [
    "notas"
   ]
  },
  {
   "cell_type": "code",
   "execution_count": 28,
   "id": "f2afb937-b551-4834-be27-4e6611153d2c",
   "metadata": {},
   "outputs": [
    {
     "data": {
      "text/plain": [
       "dict_keys(['Carlos', 'Marta', 'Mariana', 'Tomás'])"
      ]
     },
     "execution_count": 28,
     "metadata": {},
     "output_type": "execute_result"
    }
   ],
   "source": [
    "#verificando as chaves do dicionário\n",
    "notas.keys()"
   ]
  },
  {
   "cell_type": "code",
   "execution_count": 29,
   "id": "523348b8-e34e-448b-b540-0179d0a22a4c",
   "metadata": {},
   "outputs": [
    {
     "data": {
      "text/plain": [
       "dict_values([14.2, 18.0, 9.7, 11.9])"
      ]
     },
     "execution_count": 29,
     "metadata": {},
     "output_type": "execute_result"
    }
   ],
   "source": [
    "#verificando os valores do dicionário\n",
    "notas.values()"
   ]
  },
  {
   "cell_type": "code",
   "execution_count": 30,
   "id": "d627de4e-a1d9-4c45-a109-b494001a13c6",
   "metadata": {},
   "outputs": [],
   "source": [
    "notas['Marta']=17"
   ]
  },
  {
   "cell_type": "code",
   "execution_count": 31,
   "id": "1b85ee04-f2df-404c-bec4-26b0c01660be",
   "metadata": {},
   "outputs": [
    {
     "data": {
      "text/plain": [
       "{'Carlos': 14.2, 'Marta': 17, 'Mariana': 9.7, 'Tomás': 11.9}"
      ]
     },
     "execution_count": 31,
     "metadata": {},
     "output_type": "execute_result"
    }
   ],
   "source": [
    "notas"
   ]
  },
  {
   "cell_type": "code",
   "execution_count": 32,
   "id": "af050730-337d-4f6d-8d49-02937805af82",
   "metadata": {},
   "outputs": [],
   "source": [
    "algoritimosDM={'Apriori', \"C4.5\", \"KMeans\"}"
   ]
  },
  {
   "cell_type": "code",
   "execution_count": 33,
   "id": "df1b44eb-7dc9-4b38-8798-43a3a26498d6",
   "metadata": {},
   "outputs": [
    {
     "data": {
      "text/plain": [
       "{'Apriori', 'C4.5', 'KMeans'}"
      ]
     },
     "execution_count": 33,
     "metadata": {},
     "output_type": "execute_result"
    }
   ],
   "source": [
    "algoritimosDM"
   ]
  }
 ],
 "metadata": {
  "kernelspec": {
   "display_name": "Python 3 (ipykernel)",
   "language": "python",
   "name": "python3"
  },
  "language_info": {
   "codemirror_mode": {
    "name": "ipython",
    "version": 3
   },
   "file_extension": ".py",
   "mimetype": "text/x-python",
   "name": "python",
   "nbconvert_exporter": "python",
   "pygments_lexer": "ipython3",
   "version": "3.9.16"
  }
 },
 "nbformat": 4,
 "nbformat_minor": 5
}
