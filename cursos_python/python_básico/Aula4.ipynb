{
 "cells": [
  {
   "cell_type": "code",
   "execution_count": 14,
   "id": "553c9c9d-61a7-46e4-8bdd-6c2fa1ce5209",
   "metadata": {},
   "outputs": [],
   "source": [
    "def imprime():\n",
    "    print(\"Olá\")\n",
    "    print(\"Maria\")\n",
    "    #a=5\n",
    "    #b=2\n",
    "    #soma=a+b\n",
    "    #print(soma)"
   ]
  },
  {
   "cell_type": "raw",
   "id": "b702d767-6503-4407-9021-4994c9f5e899",
   "metadata": {},
   "source": [
    "imprime()"
   ]
  },
  {
   "cell_type": "code",
   "execution_count": 2,
   "id": "369e94cd-957d-46ea-9d33-7beb045cf2c4",
   "metadata": {},
   "outputs": [],
   "source": [
    "def imprime(n):\n",
    "    print(n)"
   ]
  },
  {
   "cell_type": "code",
   "execution_count": 3,
   "id": "9f5518c1-c8ed-49eb-baf1-39bc22e9a629",
   "metadata": {},
   "outputs": [
    {
     "name": "stdout",
     "output_type": "stream",
     "text": [
      "7\n"
     ]
    }
   ],
   "source": [
    "imprime(7)"
   ]
  },
  {
   "cell_type": "code",
   "execution_count": 4,
   "id": "5f8aa4c4-08be-42c2-9971-af2fbb1ceba2",
   "metadata": {},
   "outputs": [],
   "source": [
    "def imprime(a,b):\n",
    "    print(a+b)"
   ]
  },
  {
   "cell_type": "code",
   "execution_count": 5,
   "id": "1e9ff30f-a80c-4985-ac27-427d58371c1a",
   "metadata": {},
   "outputs": [
    {
     "name": "stdout",
     "output_type": "stream",
     "text": [
      "3\n"
     ]
    }
   ],
   "source": [
    "imprime(1,2)"
   ]
  },
  {
   "cell_type": "code",
   "execution_count": 6,
   "id": "b469abc4-2889-4b9b-bbcb-59388d9f1ecc",
   "metadata": {},
   "outputs": [
    {
     "name": "stdout",
     "output_type": "stream",
     "text": [
      "olámaria\n"
     ]
    }
   ],
   "source": [
    "imprime(\"olá\", \"maria\")"
   ]
  },
  {
   "cell_type": "raw",
   "id": "60115519-1d3e-4386-be7d-56b755f88dda",
   "metadata": {},
   "source": [
    "imprime(\"olá\", \"1\")"
   ]
  },
  {
   "cell_type": "code",
   "execution_count": 7,
   "id": "e1c66761-6b8a-4c62-b9b3-eaa7d6eb6fec",
   "metadata": {},
   "outputs": [],
   "source": [
    "def potencia(n):\n",
    "    return n*n"
   ]
  },
  {
   "cell_type": "code",
   "execution_count": 8,
   "id": "428f1b8a-468c-4acf-aa39-849d519c9208",
   "metadata": {},
   "outputs": [],
   "source": [
    "x=potencia(3)"
   ]
  },
  {
   "cell_type": "code",
   "execution_count": 9,
   "id": "9023615c-ea84-43ab-aa52-6bd80f4ae34c",
   "metadata": {},
   "outputs": [
    {
     "data": {
      "text/plain": [
       "9"
      ]
     },
     "execution_count": 9,
     "metadata": {},
     "output_type": "execute_result"
    }
   ],
   "source": [
    "x"
   ]
  },
  {
   "cell_type": "code",
   "execution_count": 11,
   "id": "1d1580ab-dcba-4385-9f0f-b1d0774fd706",
   "metadata": {},
   "outputs": [],
   "source": [
    "def intervalo (inic=1, fim=10):\n",
    "    print(inic,fim)"
   ]
  },
  {
   "cell_type": "code",
   "execution_count": 13,
   "id": "c76efa41-5eb2-428b-a502-82d67f193e9c",
   "metadata": {},
   "outputs": [
    {
     "name": "stdout",
     "output_type": "stream",
     "text": [
      "1 10\n"
     ]
    }
   ],
   "source": [
    "intervalo()"
   ]
  },
  {
   "cell_type": "code",
   "execution_count": 15,
   "id": "c5052bb6-b681-413a-ac78-9e23347f4afc",
   "metadata": {},
   "outputs": [
    {
     "name": "stdout",
     "output_type": "stream",
     "text": [
      "5 7\n"
     ]
    }
   ],
   "source": [
    "intervalo(5,7)"
   ]
  },
  {
   "cell_type": "code",
   "execution_count": 16,
   "id": "8b21cd9e-daab-48e8-b779-bbc8e0f57c54",
   "metadata": {},
   "outputs": [],
   "source": [
    "def intervalo(inic=1, fim=10):\n",
    "    for n in range(inic, fim):\n",
    "        print(n)"
   ]
  },
  {
   "cell_type": "code",
   "execution_count": 18,
   "id": "a3e5086c-4bdc-4607-919f-1b32a2e38330",
   "metadata": {},
   "outputs": [
    {
     "name": "stdout",
     "output_type": "stream",
     "text": [
      "1\n",
      "2\n",
      "3\n",
      "4\n",
      "5\n",
      "6\n",
      "7\n",
      "8\n",
      "9\n"
     ]
    }
   ],
   "source": [
    "intervalo()"
   ]
  },
  {
   "cell_type": "code",
   "execution_count": 21,
   "id": "77fd826e-aa77-41f6-b734-8a739610de3f",
   "metadata": {},
   "outputs": [],
   "source": [
    "def intervalo(inic=1, fim=10):\n",
    "    print(inic, fim)\n",
    "       "
   ]
  },
  {
   "cell_type": "code",
   "execution_count": 23,
   "id": "10f3517b-6954-492c-a7f7-2be85cf15f3d",
   "metadata": {},
   "outputs": [
    {
     "name": "stdout",
     "output_type": "stream",
     "text": [
      "1 10\n"
     ]
    }
   ],
   "source": [
    "intervalo()"
   ]
  },
  {
   "cell_type": "code",
   "execution_count": 24,
   "id": "ff80f0de-d5c2-483f-a0f3-7871eef75368",
   "metadata": {},
   "outputs": [],
   "source": [
    "def intervalo(inic=1, fim=10):\n",
    "    for n in range(inic, fim+1):\n",
    "        print(n)"
   ]
  },
  {
   "cell_type": "code",
   "execution_count": 25,
   "id": "867e5767-70a4-4893-9197-5d061eb6e4c9",
   "metadata": {},
   "outputs": [
    {
     "name": "stdout",
     "output_type": "stream",
     "text": [
      "1\n",
      "2\n",
      "3\n",
      "4\n",
      "5\n",
      "6\n",
      "7\n",
      "8\n",
      "9\n",
      "10\n"
     ]
    }
   ],
   "source": [
    "intervalo()"
   ]
  },
  {
   "cell_type": "code",
   "execution_count": 44,
   "id": "be66f6eb-9fc5-4abd-8f6d-c3d0c947c2b9",
   "metadata": {},
   "outputs": [],
   "source": [
    "list1=[1,-4,82,-26,2,10,5]"
   ]
  },
  {
   "cell_type": "code",
   "execution_count": 47,
   "id": "739cb630-16f0-4880-b447-3ef36b67cf42",
   "metadata": {},
   "outputs": [],
   "source": [
    "def estatistica(list1):\n",
    "    maximo=max(list1)\n",
    "    minimo=min(list1)\n",
    "    ultimo=list1[-1]\n",
    "    return (maximo, minimo, ultimo)"
   ]
  },
  {
   "cell_type": "code",
   "execution_count": 48,
   "id": "440a385f-5fbc-4c5e-916e-b6558b8a73d0",
   "metadata": {},
   "outputs": [
    {
     "data": {
      "text/plain": [
       "(82, -26, 5)"
      ]
     },
     "execution_count": 48,
     "metadata": {},
     "output_type": "execute_result"
    }
   ],
   "source": [
    "estatistica(list1)"
   ]
  },
  {
   "cell_type": "code",
   "execution_count": 67,
   "id": "6201b6af-67dc-42b2-8505-53b24f1130b0",
   "metadata": {},
   "outputs": [],
   "source": [
    "def ler():\n",
    "    numero=int(input(\"Introduza um número: \"))\n",
    "    return numero\n",
    "def lerOperacao():\n",
    "    op=input(\"introduza a operação\")\n",
    "    return op\n",
    "def somar(num1,num2):\n",
    "    return num1+num2\n",
    "def subtrair(num1,num2):\n",
    "    return num1-num2\n",
    "def multiplicacao(num1,num2):\n",
    "    return num1*num2"
   ]
  },
  {
   "cell_type": "code",
   "execution_count": 68,
   "id": "028675c1-8ba9-4938-9615-213e3de06e78",
   "metadata": {},
   "outputs": [],
   "source": [
    "x=ler"
   ]
  },
  {
   "cell_type": "code",
   "execution_count": 69,
   "id": "9671a628-ae7a-4feb-abd7-bd67526851b2",
   "metadata": {},
   "outputs": [
    {
     "name": "stdin",
     "output_type": "stream",
     "text": [
      "Introduza um número:  3\n"
     ]
    },
    {
     "data": {
      "text/plain": [
       "3"
      ]
     },
     "execution_count": 69,
     "metadata": {},
     "output_type": "execute_result"
    }
   ],
   "source": [
    "x()"
   ]
  },
  {
   "cell_type": "code",
   "execution_count": 78,
   "id": "6dc068c8-6f9f-48b1-a36e-1cc20ec5a3c8",
   "metadata": {},
   "outputs": [
    {
     "ename": "SyntaxError",
     "evalue": "invalid syntax (2828027746.py, line 11)",
     "output_type": "error",
     "traceback": [
      "\u001b[1;36m  File \u001b[1;32m\"C:\\Users\\elysi\\AppData\\Local\\Temp\\ipykernel_16844\\2828027746.py\"\u001b[1;36m, line \u001b[1;32m11\u001b[0m\n\u001b[1;33m    m=multiplicacao(n1,n2):\u001b[0m\n\u001b[1;37m                          ^\u001b[0m\n\u001b[1;31mSyntaxError\u001b[0m\u001b[1;31m:\u001b[0m invalid syntax\n"
     ]
    }
   ],
   "source": [
    "n1=ler()\n",
    "n2=ler()\n",
    "oper=lerOperacao()\n",
    "if oper=='+':\n",
    "    s=somar(n1,n2)\n",
    "    print(s)\n",
    "elif oper=='-':\n",
    "    s1=subtrair(n1,n2)\n",
    "    print(s1)\n",
    "elif oper=='*':\n",
    "    m=multiplicacao(n1,n2):\n",
    "    print(m)\n",
    "  \n"
   ]
  },
  {
   "cell_type": "code",
   "execution_count": null,
   "id": "f5367b85-cc26-419a-a858-b500a028eab9",
   "metadata": {},
   "outputs": [],
   "source": []
  }
 ],
 "metadata": {
  "kernelspec": {
   "display_name": "Python 3 (ipykernel)",
   "language": "python",
   "name": "python3"
  },
  "language_info": {
   "codemirror_mode": {
    "name": "ipython",
    "version": 3
   },
   "file_extension": ".py",
   "mimetype": "text/x-python",
   "name": "python",
   "nbconvert_exporter": "python",
   "pygments_lexer": "ipython3",
   "version": "3.9.16"
  }
 },
 "nbformat": 4,
 "nbformat_minor": 5
}
