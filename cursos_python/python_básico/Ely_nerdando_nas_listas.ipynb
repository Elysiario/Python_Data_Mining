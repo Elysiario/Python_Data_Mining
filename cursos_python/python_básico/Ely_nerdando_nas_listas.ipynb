{
 "cells": [
  {
   "cell_type": "markdown",
   "id": "905bab42",
   "metadata": {},
   "source": [
    "## Usando listas "
   ]
  },
  {
   "cell_type": "code",
   "execution_count": 25,
   "id": "7c269498",
   "metadata": {},
   "outputs": [
    {
     "name": "stdout",
     "output_type": "stream",
     "text": [
      "Versão da Linguagem Python Usada Neste Jupyter Notebook: 3.8.8\n"
     ]
    }
   ],
   "source": [
    "from platform import python_version\n",
    "print('Versão da Linguagem Python Usada Neste Jupyter Notebook:', python_version())"
   ]
  },
  {
   "cell_type": "code",
   "execution_count": 26,
   "id": "1df5adbe",
   "metadata": {},
   "outputs": [],
   "source": [
    "# Usando listas\n",
    "listadomercado = [\"ovos, farinha, leite, maça\"]"
   ]
  },
  {
   "cell_type": "code",
   "execution_count": 27,
   "id": "47b9ab4c",
   "metadata": {},
   "outputs": [
    {
     "name": "stdout",
     "output_type": "stream",
     "text": [
      "['ovos, farinha, leite, maça']\n"
     ]
    }
   ],
   "source": [
    "#Imprimindo a lista\n",
    "print(listadomercado)"
   ]
  },
  {
   "cell_type": "code",
   "execution_count": 35,
   "id": "c1ad7d36",
   "metadata": {},
   "outputs": [
    {
     "data": {
      "text/plain": [
       "['ovos', 'farinha', 'leite', 'maça']"
      ]
     },
     "execution_count": 35,
     "metadata": {},
     "output_type": "execute_result"
    }
   ],
   "source": [
    "#Criando outra lista\n",
    "listamercado2 = [\"ovos\", \"farinha\", \"leite\", \"maça\"]\n",
    "print\n",
    "listamercado2"
   ]
  },
  {
   "cell_type": "code",
   "execution_count": 36,
   "id": "e1ed9330",
   "metadata": {},
   "outputs": [],
   "source": [
    "#Criando lista3\n",
    "lista3 = [12, 100, \"Universidade\"]"
   ]
  },
  {
   "cell_type": "code",
   "execution_count": 37,
   "id": "09d96d75",
   "metadata": {},
   "outputs": [],
   "source": [
    "#Atribuindo cada valor da lista a uma variável.\n",
    "item1 = lista3[0]\n",
    "item2 = lista3[1]\n",
    "item3 = lista3[2]"
   ]
  },
  {
   "cell_type": "code",
   "execution_count": 38,
   "id": "9f1c25c2",
   "metadata": {},
   "outputs": [
    {
     "name": "stdout",
     "output_type": "stream",
     "text": [
      "12 100 Universidade\n"
     ]
    }
   ],
   "source": [
    "print(item1, item2, item3)"
   ]
  },
  {
   "cell_type": "code",
   "execution_count": 48,
   "id": "1720739d",
   "metadata": {},
   "outputs": [
    {
     "data": {
      "text/plain": [
       "['ovos', 'farinha', 'chocolate', 'maça']"
      ]
     },
     "execution_count": 48,
     "metadata": {},
     "output_type": "execute_result"
    }
   ],
   "source": [
    "listamercado2"
   ]
  },
  {
   "cell_type": "code",
   "execution_count": 49,
   "id": "71b3a113",
   "metadata": {},
   "outputs": [
    {
     "data": {
      "text/plain": [
       "'chocolate'"
      ]
     },
     "execution_count": 49,
     "metadata": {},
     "output_type": "execute_result"
    }
   ],
   "source": [
    "listamercado2[2]"
   ]
  },
  {
   "cell_type": "code",
   "execution_count": 50,
   "id": "baaed730",
   "metadata": {},
   "outputs": [],
   "source": [
    "# Atualizando um item da lista\n",
    "listamercado2[2] = \"chocolate\""
   ]
  },
  {
   "cell_type": "code",
   "execution_count": 52,
   "id": "ebc2a9b1",
   "metadata": {},
   "outputs": [
    {
     "data": {
      "text/plain": [
       "['ovos', 'farinha', 'chocolate', 'maça']"
      ]
     },
     "execution_count": 52,
     "metadata": {},
     "output_type": "execute_result"
    }
   ],
   "source": [
    "# Imprimindo o item de uma lista\n",
    "listamercado2"
   ]
  },
  {
   "cell_type": "code",
   "execution_count": null,
   "id": "1a0e557d",
   "metadata": {},
   "outputs": [],
   "source": [
    "listamercado2"
   ]
  },
  {
   "cell_type": "code",
   "execution_count": null,
   "id": "52c46eb7",
   "metadata": {},
   "outputs": [],
   "source": [
    "## Deletando um item da lista"
   ]
  },
  {
   "cell_type": "code",
   "execution_count": null,
   "id": "2c32d760",
   "metadata": {},
   "outputs": [],
   "source": [
    "del listamercado2[4]"
   ]
  },
  {
   "cell_type": "code",
   "execution_count": null,
   "id": "ba7911a2",
   "metadata": {},
   "outputs": [],
   "source": [
    "del listamercado2[3]"
   ]
  },
  {
   "cell_type": "code",
   "execution_count": 24,
   "id": "3ddcfd73",
   "metadata": {},
   "outputs": [],
   "source": [
    "# Imprimindo item com a lista alterada\n",
    "print listamercado2"
   ]
  },
  {
   "cell_type": "code",
   "execution_count": null,
   "id": "ea478790",
   "metadata": {},
   "outputs": [],
   "source": [
    "## Listas de listas (listas aninhadas)"
   ]
  },
  {
   "cell_type": "code",
   "execution_count": null,
   "id": "4332cf74",
   "metadata": {},
   "outputs": [],
   "source": [
    "# Criando uma lista de listas\n",
    "listas = [[1,2,3,], [10,15, 14], [10.1,8.7,2.3]]"
   ]
  },
  {
   "cell_type": "code",
   "execution_count": null,
   "id": "033b1f49",
   "metadata": {},
   "outputs": [],
   "source": [
    "# Imprimindo a lista\n",
    "listas"
   ]
  },
  {
   "cell_type": "code",
   "execution_count": null,
   "id": "6f7ac453",
   "metadata": {},
   "outputs": [],
   "source": [
    "a = listas[0]"
   ]
  },
  {
   "cell_type": "code",
   "execution_count": null,
   "id": "df88b311",
   "metadata": {},
   "outputs": [],
   "source": [
    "a"
   ]
  },
  {
   "cell_type": "code",
   "execution_count": null,
   "id": "6ab15292",
   "metadata": {},
   "outputs": [],
   "source": [
    "b = a[0]"
   ]
  },
  {
   "cell_type": "code",
   "execution_count": null,
   "id": "8afd5d62",
   "metadata": {},
   "outputs": [],
   "source": [
    "list1 = listas[1]"
   ]
  },
  {
   "cell_type": "code",
   "execution_count": null,
   "id": "b19011d6",
   "metadata": {},
   "outputs": [],
   "source": [
    "list1"
   ]
  },
  {
   "cell_type": "code",
   "execution_count": null,
   "id": "83db40cf",
   "metadata": {},
   "outputs": [],
   "source": [
    "valor_1_0 = list1[0]"
   ]
  },
  {
   "cell_type": "code",
   "execution_count": null,
   "id": "7679518c",
   "metadata": {},
   "outputs": [],
   "source": [
    "valor_1_0"
   ]
  },
  {
   "cell_type": "code",
   "execution_count": null,
   "id": "051039a8",
   "metadata": {},
   "outputs": [],
   "source": [
    "valçor_1_2 = list1[2]"
   ]
  },
  {
   "cell_type": "code",
   "execution_count": null,
   "id": "123924cf",
   "metadata": {},
   "outputs": [],
   "source": [
    "valor_1_2"
   ]
  },
  {
   "cell_type": "code",
   "execution_count": null,
   "id": "ea4db69a",
   "metadata": {},
   "outputs": [],
   "source": [
    "list2 = listas[2]"
   ]
  },
  {
   "cell_type": "code",
   "execution_count": null,
   "id": "6318a6d8",
   "metadata": {},
   "outputs": [],
   "source": [
    "list2"
   ]
  },
  {
   "cell_type": "code",
   "execution_count": null,
   "id": "83c1f275",
   "metadata": {},
   "outputs": [],
   "source": [
    "valor_2_0 = list2[0]"
   ]
  },
  {
   "cell_type": "code",
   "execution_count": null,
   "id": "743d2fbe",
   "metadata": {},
   "outputs": [],
   "source": [
    "valor_2_0"
   ]
  },
  {
   "cell_type": "code",
   "execution_count": null,
   "id": "5eb40869",
   "metadata": {},
   "outputs": [],
   "source": [
    "## Operações com listas"
   ]
  }
 ],
 "metadata": {
  "kernelspec": {
   "display_name": "Python 3",
   "language": "python",
   "name": "python3"
  },
  "language_info": {
   "codemirror_mode": {
    "name": "ipython",
    "version": 3
   },
   "file_extension": ".py",
   "mimetype": "text/x-python",
   "name": "python",
   "nbconvert_exporter": "python",
   "pygments_lexer": "ipython3",
   "version": "3.8.8"
  }
 },
 "nbformat": 4,
 "nbformat_minor": 5
}
